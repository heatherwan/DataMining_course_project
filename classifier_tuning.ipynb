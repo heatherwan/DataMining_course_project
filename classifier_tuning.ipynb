{
 "cells": [
  {
   "cell_type": "markdown",
   "metadata": {},
   "source": [
    "## Functions and libraries "
   ]
  },
  {
   "cell_type": "code",
   "execution_count": 1,
   "metadata": {},
   "outputs": [
    {
     "name": "stderr",
     "output_type": "stream",
     "text": [
      "[MLENS] backend: threading\n"
     ]
    }
   ],
   "source": [
    "import pandas as pd\n",
    "import numpy as np\n",
    "from sklearn.preprocessing import MinMaxScaler\n",
    "import collections\n",
    "import matplotlib.pyplot as plt\n",
    "%matplotlib inline\n",
    "import warnings\n",
    "warnings.filterwarnings('ignore')\n",
    "\n",
    "from sklearn.metrics import confusion_matrix\n",
    "from sklearn.metrics import mean_squared_error\n",
    "from sklearn.metrics import make_scorer\n",
    "from sklearn.metrics import confusion_matrix\n",
    "from sklearn.linear_model import Lasso, Ridge, LogisticRegression\n",
    "from gplearn.genetic import SymbolicTransformer\n",
    "from sklearn.neural_network import MLPClassifier\n",
    "import xgboost as xgb\n",
    "from sklearn.model_selection import cross_validate, StratifiedKFold, cross_val_predict\n",
    "from sklearn.semi_supervised import LabelPropagation, LabelSpreading\n",
    "from mlens.ensemble import SuperLearner\n"
   ]
  },
  {
   "cell_type": "markdown",
   "metadata": {},
   "source": [
    "## Functions for classifier in cross validation"
   ]
  },
  {
   "cell_type": "code",
   "execution_count": 2,
   "metadata": {},
   "outputs": [],
   "source": [
    "classifiers = {\n",
    "    \"Logistic Regression\": LogisticRegression(solver='lbfgs', max_iter = 500, C=1, penalty='l2'), \n",
    "    \"Neural Net\": MLPClassifier(alpha=1, max_iter=1000),\n",
    "    \"XGBoost\": xgb.XGBClassifier(learning_rate =0.1, n_estimators=100, max_depth=3,\n",
    "                                 min_child_weight=2, gamma=0, subsample=0.7, colsample_bytree=0.8, seed=27,\n",
    "                                 reg_alpha=0.05, reg_lambda=1)\n",
    "}\n",
    "def profit_scorer(y, y_pred):\n",
    "#     print(confusion_matrix(y, y_pred))\n",
    "    profit_matrix = {(0,0): 0, (0,1): -5, (1,0): -25, (1,1): 5}\n",
    "    return sum(profit_matrix[(pred, actual)] for pred, actual in zip(y_pred, y))\n",
    "\n",
    "def evaluate_classification(X, y):\n",
    "    cv = StratifiedKFold(n_splits=10, random_state=42)\n",
    "    profit_scoring = make_scorer(profit_scorer, greater_is_better=True)\n",
    "    for name, clf in classifiers.items():\n",
    "        result = sum(cross_validate(clf, X, y=y, cv=cv, scoring=profit_scoring)['test_score'])\n",
    "        print(f\"{name}: test core = {result} \")\n",
    "\n",
    "def code_for_test(X,y):\n",
    "    \"\"\"\n",
    "    test code with 10-fold stratified cross validation\n",
    "    parameters\n",
    "    X: trainset features after generation\n",
    "    y: trainset y label\n",
    "    \"\"\"\n",
    "    evaluate_classification(X, y)"
   ]
  },
  {
   "cell_type": "markdown",
   "metadata": {},
   "source": [
    "## Functions for automatic feature generation"
   ]
  },
  {
   "cell_type": "code",
   "execution_count": 3,
   "metadata": {},
   "outputs": [],
   "source": [
    "function_set = ['add', 'sub', 'mul', 'div', 'log', 'sqrt', 'abs', 'neg', 'max', 'min']  # \n",
    "def gp(X, y, gen, n_com):\n",
    "    gp1 = SymbolicTransformer(generations=gen, population_size=1000,\n",
    "                             hall_of_fame=1000, n_components=n_com,\n",
    "                             function_set=function_set,\n",
    "                             parsimony_coefficient=0.0005,\n",
    "                             max_samples=0.9, verbose=1,\n",
    "                             random_state=42, n_jobs=3,\n",
    "                             feature_names=X.columns)\n",
    "    x_gp = gp1.fit_transform(X, y)\n",
    "    code_for_test(x_gp, y)\n",
    "    return gp1, x_gp"
   ]
  },
  {
   "cell_type": "markdown",
   "metadata": {},
   "source": [
    "## functions for semi-supervised learning"
   ]
  },
  {
   "cell_type": "code",
   "execution_count": 4,
   "metadata": {},
   "outputs": [],
   "source": [
    "def classify(X_train, X_test, y_train, clf):\n",
    "    pred = clf.fit(X_train, y_train).predict(X_test)\n",
    "    return pred\n",
    "\n",
    "def cv_cost_semi(X, X_test_other, y):\n",
    "    cv = StratifiedKFold(n_splits=10, random_state=42)\n",
    "    cost = {\n",
    "    \"Logistic Regression\": 0, \n",
    "    \"Neural Net\": 0,\n",
    "    \"XGBoost\": 0,\n",
    "    \"ensemble\": 0}\n",
    "    for train_index, test_index in cv.split(X, y):\n",
    "        # get the split\n",
    "        X_train, X_test = X[train_index,:], X[test_index,:]\n",
    "        y_train, y_test = y[train_index], y[test_index]\n",
    "        # generate coresponding test label\n",
    "        # model = LabelSpreading(gamma=10)\n",
    "        model = LabelPropagation(alpha=None, gamma=10, kernel='rbf', max_iter=1000,n_jobs=None, n_neighbors=7, tol=0.001)\n",
    "#         model = LabelSpreading(alpha=0.2, gamma=10, kernel='rbf', max_iter=30, n_jobs=None,n_neighbors=7, tol=0.001)\n",
    "        y_new_label = model.fit(X_train, y_train).predict(X_test_other)\n",
    "        X_all = np.vstack((X_train,X_test_other))\n",
    "        \n",
    "        y_all = y_train.append(pd.DataFrame(y_new_label))\n",
    "        # evaluation \n",
    "        for name, clf in classifiers.items():\n",
    "            pred = classify(X_all, X_test, y_all, clf)\n",
    "            cost[name] += profit_scorer(y_test, pred>0.5)\n",
    "    print(f'cost = {cost}')"
   ]
  },
  {
   "cell_type": "markdown",
   "metadata": {},
   "source": [
    "## functions for cost-sensitive xgboost"
   ]
  },
  {
   "cell_type": "code",
   "execution_count": 5,
   "metadata": {},
   "outputs": [],
   "source": [
    "# cost sensitive objective function and derivative\n",
    "def logistic_obj(y_hat, dtrain, alpha=5, beta=25): # alpha for FN beta for FP\n",
    "    y = dtrain.get_label()\n",
    "    pred = 1. / (1. + np.exp(-y_hat))\n",
    "    grad = pred * (beta + alpha*y - beta*y) - alpha*y  # alpha*(p-1)*y + beta*p*(1-y)\n",
    "    hess = pred * (1 - pred) * (beta + alpha*y - beta*y)\n",
    "    return grad, hess\n",
    "\n",
    "# calculate the error\n",
    "def err_rate(pred, dtrain):\n",
    "    y = dtrain.get_label()\n",
    "    pred = 1. / (1. + np.exp(-pred))\n",
    "    loss_fn = y*np.log(pred)\n",
    "    loss_fp = (1.0 - y)*np.log(1.0 - pred)\n",
    "    return 'error', np.sum(-(5*loss_fn+25*loss_fp))/len(y)\n",
    "\n",
    "# train on one cross_validation split\n",
    "def cross_validation(X_train, X_test, y_train, y_test, depth, num_round):\n",
    "    # load data\n",
    "    d_train = xgb.DMatrix(X_train, label=y_train)\n",
    "    d_val = xgb.DMatrix(X_test, label=y_test)\n",
    "    # build model\n",
    "    param = {'max_depth': depth, 'eta': 0.2, 'silent': 1, 'seed': 42, 'scale_pos_weight':1}\n",
    "#     watchlist = [(d_val, 'eval'), (d_train, 'train')]\n",
    "#     model_trn = xgb.train(param, d_train, num_round, watchlist, obj=logistic_obj, feval=err_rate)\n",
    "    model_trn = xgb.train(param, d_train, num_round, obj=logistic_obj, feval=err_rate)\n",
    "    # prediction\n",
    "    pred = model_trn.predict(d_val) \n",
    "    pred = 1. / (1. + np.exp(-pred))\n",
    "    return pred\n",
    "\n",
    "# train on all cross-validation set\n",
    "def cv_cost_xg(X,y, depth, rounds):\n",
    "    cv = StratifiedKFold(n_splits=10, random_state=42)\n",
    "    cost=0\n",
    "    if type(X) == pd.DataFrame:\n",
    "        X=X.values\n",
    "    for train_index, test_index in cv.split(X, y):\n",
    "        X_train, X_test = X[train_index], X[test_index]\n",
    "        y_train, y_test = y[train_index], y[test_index]\n",
    "        pred = cross_validation(X_train, X_test, y_train, y_test, depth, rounds)\n",
    "        cost += profit_scorer(y_test, pred>0.5)\n",
    "    print(f'cost = {cost}')\n",
    "\n",
    "#train on all train set   \n",
    "def train_xgb(X_train, y_train, X_test):\n",
    "    d_train = xgb.DMatrix(X_train, label=y_train)\n",
    "    d_test = xgb.DMatrix(X_test)\n",
    "    param = {'max_depth': 3, 'eta': 0.2, 'silent': 1, 'seed': 42, 'scale_pos_weight':1}\n",
    "    model_trn = xgb.train(param, d_train, 100, obj=logistic_obj, feval=err_rate)\n",
    "    pred = model_trn.predict(d_train)\n",
    "    pred = 1. / (1. + np.exp(-pred))\n",
    "    print(f'cost on train = {profit_scorer(y, pred>0.5)}')\n",
    "    print(confusion_matrix(y, pred>0.5))\n",
    "    pred_test = model_trn.predict(d_test)\n",
    "    pred_test = 1. / (1. + np.exp(-pred_test))\n",
    "    return model_trn, pred_test"
   ]
  },
  {
   "cell_type": "markdown",
   "metadata": {},
   "source": [
    "## Dataset for test\n",
    "prepare different input dataset and test at 10-fold stratified cross validation set\n"
   ]
  },
  {
   "cell_type": "markdown",
   "metadata": {},
   "source": [
    "## Raw data"
   ]
  },
  {
   "cell_type": "code",
   "execution_count": 6,
   "metadata": {},
   "outputs": [
    {
     "name": "stdout",
     "output_type": "stream",
     "text": [
      "Train set has 1879 entries and 10 features\n",
      "Test set has 498121 entries and 9 features\n"
     ]
    }
   ],
   "source": [
    "#raw data\n",
    "train_data = pd.read_csv('data/train.csv', sep = '|')\n",
    "test_data = pd.read_csv('data/test.csv', sep = '|')\n",
    "print(f'Train set has {train_data.shape[0]} entries and {train_data.shape[1]} features')\n",
    "print(f'Test set has {test_data.shape[0]} entries and {test_data.shape[1]} features')\n",
    "y = train_data['fraud']\n",
    "X = train_data.drop(columns=['fraud']).astype(float)"
   ]
  },
  {
   "cell_type": "markdown",
   "metadata": {},
   "source": [
    "## Manual feature"
   ]
  },
  {
   "cell_type": "code",
   "execution_count": 7,
   "metadata": {
    "scrolled": true
   },
   "outputs": [],
   "source": [
    "# delete correlate features\n",
    "X_manual = X.assign(no_item = X.totalScanTimeInSeconds* X.scannedLineItemsPerSecond)\\\n",
    "                     .drop(columns=['valuePerSecond', 'lineItemVoidsPerPosition','scannedLineItemsPerSecond'])\n",
    "X_test = test_data.assign(no_item = test_data.totalScanTimeInSeconds* test_data.scannedLineItemsPerSecond)\\\n",
    "                    .drop(columns=['valuePerSecond', 'lineItemVoidsPerPosition','scannedLineItemsPerSecond'])\n",
    "\n",
    "fit_minmax = MinMaxScaler()\n",
    "# normalize with encode\n",
    "X_manual_encode = pd.get_dummies(X_manual, columns=['trustLevel'], prefix='trustLevel')\n",
    "X_test_encode = pd.get_dummies(X_test, columns=['trustLevel'], prefix='trustLevel')\n",
    "X_train_manual_enc = pd.DataFrame(fit_minmax.fit_transform(X_manual_encode), columns=X_manual_encode.columns, index=X_manual_encode.index)\n",
    "X_test_manual_enc = pd.DataFrame(fit_minmax.transform(X_test_encode), columns=X_manual_encode.columns, index=X_test_encode.index)\n"
   ]
  },
  {
   "cell_type": "code",
   "execution_count": 8,
   "metadata": {},
   "outputs": [
    {
     "name": "stdout",
     "output_type": "stream",
     "text": [
      "Logistic Regression: test core = 205 \n",
      "Neural Net: test core = 200 \n",
      "XGBoost: test core = 215 \n"
     ]
    }
   ],
   "source": [
    "code_for_test(X_train_manual_enc,y)"
   ]
  },
  {
   "cell_type": "markdown",
   "metadata": {},
   "source": [
    "## Auto generate feature"
   ]
  },
  {
   "cell_type": "code",
   "execution_count": 9,
   "metadata": {
    "scrolled": false
   },
   "outputs": [
    {
     "name": "stdout",
     "output_type": "stream",
     "text": [
      "    |   Population Average    |             Best Individual              |\n",
      "---- ------------------------- ------------------------------------------ ----------\n",
      " Gen   Length          Fitness   Length          Fitness      OOB Fitness  Time Left\n",
      "   0    11.86         0.094761        9         0.707305         0.651601      4.79m\n",
      "   1     9.58         0.276511       14         0.722464         0.744651      2.58m\n",
      "   2     8.42         0.469678       14         0.783092         0.807669      2.73m\n",
      "   3    11.46          0.63334       17         0.808567         0.733662      2.75m\n",
      "   4    15.33          0.69389       31         0.813072         0.626655      2.98m\n",
      "   5    17.37         0.712183       17         0.818479         0.644542      3.30m\n",
      "   6    18.83         0.732394       21         0.823698         0.546554      3.27m\n",
      "   7    19.90         0.747221       34         0.823915         0.659249      3.07m\n",
      "   8    19.84         0.742844       30         0.827044          0.59718      3.52m\n",
      "   9    21.02         0.740488       31         0.824565         0.717744      3.45m\n",
      "  10    22.25         0.746554       19         0.838084         0.493703      3.81m\n",
      "  11    22.36         0.738917       34         0.827467         0.671664      3.83m\n",
      "  12    24.18         0.741468       32         0.836429         0.576184      3.80m\n",
      "  13    26.13         0.749584       46         0.833621         0.591198      3.47m\n",
      "  14    26.94         0.744273       30         0.832481         0.435813      3.26m\n",
      "  15    28.73         0.744509       33         0.846065         0.722157      3.46m\n",
      "  16    31.51         0.732658       57         0.850064         0.789959      3.49m\n",
      "  17    38.60         0.755411       71         0.861799         0.766309      3.84m\n",
      "  18    44.67         0.749204       72         0.868726         0.689672      3.91m\n",
      "  19    46.56         0.756051       47         0.865465         0.696961      3.73m\n",
      "  20    44.01         0.748449       60         0.867603         0.659423      3.62m\n",
      "  21    43.03         0.753184       90         0.875551         0.709686      3.81m\n",
      "  22    45.70         0.742028       58         0.883662         0.808539      4.10m\n",
      "  23    46.77          0.75739       54         0.892129          0.70354      4.92m\n",
      "  24    52.40         0.755799       61         0.894628         0.743022      3.39m\n",
      "  25    56.09         0.781226       82          0.89397         0.806372      3.67m\n",
      "  26    58.02         0.777707       64         0.895447         0.736113      3.92m\n",
      "  27    59.95         0.784839      113         0.897958         0.844272      3.96m\n",
      "  28    58.44         0.782826       87         0.903513         0.793527      4.06m\n",
      "  29    58.49         0.786378       61         0.900483         0.727905      4.07m\n",
      "  30    59.44         0.782333       58         0.898721          0.82965      5.47m\n",
      "  31    58.98         0.792305       86          0.90048         0.642479      4.26m\n",
      "  32    57.46         0.790521       58         0.900004         0.815643      4.07m\n",
      "  33    59.55         0.787406       64         0.902434         0.596415      3.99m\n",
      "  34    59.75         0.786541      117         0.907439         0.910043      3.79m\n",
      "  35    59.58         0.786774       82         0.911093         0.785309      4.19m\n",
      "  36    59.86         0.784567       76         0.909101         0.850181      3.96m\n",
      "  37    63.88         0.791494      113         0.916658         0.850529      3.61m\n",
      "  38    61.06         0.794154       80         0.919694         0.779325      3.74m\n",
      "  39    63.91         0.797037       94         0.918988         0.867832      3.70m\n",
      "  40    63.58         0.800251       92         0.922618         0.824741      3.72m\n",
      "  41    66.22         0.797452       93         0.926399         0.841443      3.66m\n",
      "  42    66.06         0.805593      112         0.927722         0.848753      3.41m\n",
      "  43    67.33         0.810735       84         0.931747         0.812813      3.21m\n",
      "  44    66.19         0.811073       70         0.925198         0.856129      3.27m\n",
      "  45    66.31         0.811157      122         0.936718         0.821544      3.36m\n",
      "  46    67.65         0.811055       70         0.927351         0.835218      3.27m\n",
      "  47    66.82         0.804427      115         0.928749         0.868988      3.28m\n",
      "  48    66.38         0.807848      119         0.930937         0.888733      3.40m\n",
      "  49    64.76         0.797558       89         0.929507         0.867553      3.15m\n",
      "  50    65.67         0.804981      118         0.934219         0.861935      3.37m\n",
      "  51    66.18         0.808393      113         0.933255         0.888399      2.99m\n",
      "  52    65.93         0.814224       72         0.928948         0.667106      3.05m\n",
      "  53    64.23           0.8079       94         0.935105         0.886364      2.96m\n",
      "  54    64.88         0.813003       94         0.934817         0.889159      2.81m\n",
      "  55    64.61         0.810727      125         0.935516         0.772798      2.87m\n",
      "  56    65.03         0.811185       98         0.934245         0.916868      2.52m\n",
      "  57    63.72         0.800992       91           0.9347         0.783956      2.50m\n",
      "  58    62.91         0.799129       79          0.92901         0.790454      2.56m\n",
      "  59    63.30         0.805414      124         0.927962         0.854788      2.73m\n",
      "  60    61.32         0.793513      125         0.932075         0.889023      2.63m\n",
      "  61    60.48         0.796542      105          0.92892         0.872942      2.85m\n",
      "  62    59.97          0.79488      108         0.930733         0.853904      2.48m\n",
      "  63    57.61         0.784157       75         0.931114         0.835326      2.28m\n",
      "  64    55.29         0.777094       64         0.926278         0.846753      2.62m\n",
      "  65    55.41         0.791718      105         0.933556         0.882692      2.03m\n",
      "  66    55.43         0.790854       70         0.931059         0.866295      1.92m\n",
      "  67    54.18         0.780015      100         0.931609         0.794665      1.87m\n",
      "  68    54.90         0.781967       56         0.928658          0.83417      1.86m\n",
      "  69    52.67         0.769551       76         0.929898         0.795719      1.68m\n",
      "  70    51.17         0.777019       49         0.927594         0.810172      1.71m\n",
      "  71    51.39         0.774404       73         0.927614          0.92489      1.58m\n",
      "  72    52.02         0.779888       51         0.929635         0.709492      1.47m\n",
      "  73    50.97         0.762514       56         0.933098         0.712223      1.45m\n",
      "  74    51.83         0.777264       96         0.930084         0.899021      1.34m\n",
      "  75    51.30         0.775547       58         0.926421         0.835953      1.28m\n",
      "  76    49.95         0.773139       49         0.927092         0.777819      1.22m\n",
      "  77    49.62         0.770494       47         0.928207         0.718479      1.25m\n",
      "  78    50.06         0.769071       50         0.926018         0.888128      1.27m\n",
      "  79    50.67         0.770827       49          0.92608          0.84951      1.13m\n",
      "  80    50.58         0.766848       49         0.925787         0.796901      1.15m\n",
      "  81    49.37         0.762808       49         0.924861         0.800407      1.04m\n",
      "  82    49.66         0.775629       51         0.926941         0.845837     59.80s\n",
      "  83    48.99         0.754215       93         0.926806         0.847406     52.20s\n",
      "  84    49.80         0.773212      106         0.937091         0.867728     58.15s\n",
      "  85    49.84         0.766667       49          0.92544         0.842729     48.07s\n",
      "  86    48.76         0.758996       52          0.92545         0.860824     42.53s\n",
      "  87    50.27          0.77009       90         0.925791         0.861164     39.97s\n",
      "  88    51.60         0.772809      101          0.92995         0.856011     37.08s\n",
      "  89    50.44         0.768987      104         0.931084          0.83502     31.28s\n",
      "  90    50.32         0.769384       56         0.925415         0.831891     32.55s\n",
      "  91    49.46         0.762435       49         0.927643          0.79841     29.59s\n",
      "  92    47.83         0.758726       91         0.932408         0.881593     23.95s\n",
      "  93    49.96         0.761948       87         0.931054         0.931789     21.53s\n"
     ]
    },
    {
     "name": "stdout",
     "output_type": "stream",
     "text": [
      "  94    50.18         0.770984      106          0.92963          0.95864     17.65s\n",
      "  95    49.72         0.759817       70          0.93057          0.86936     12.87s\n",
      "  96    50.59         0.769957       50         0.933293         0.795149      9.78s\n",
      "  97    49.91          0.76969       70         0.934764         0.753906      6.77s\n",
      "  98    50.27          0.76229       74         0.937564         0.865825      3.66s\n",
      "  99    49.87         0.767216       70         0.938455         0.707139      0.00s\n",
      "Logistic Regression: test core = 310 \n",
      "Neural Net: test core = 340 \n",
      "XGBoost: test core = 300 \n"
     ]
    }
   ],
   "source": [
    "gpresult, xgp = gp(X_train_manual_enc, y, 100, 40)"
   ]
  },
  {
   "cell_type": "markdown",
   "metadata": {},
   "source": [
    "## Ensemble (stacking)"
   ]
  },
  {
   "cell_type": "code",
   "execution_count": 10,
   "metadata": {},
   "outputs": [],
   "source": [
    "ensemble = SuperLearner()\n",
    "ensemble.add(list(classifiers.values()))\n",
    "ensemble.add_meta(LogisticRegression())\n",
    "classifiers['ensemble'] = ensemble"
   ]
  },
  {
   "cell_type": "code",
   "execution_count": 11,
   "metadata": {},
   "outputs": [
    {
     "name": "stdout",
     "output_type": "stream",
     "text": [
      "Logistic Regression: test core = 310 \n",
      "Neural Net: test core = 330 \n",
      "XGBoost: test core = 300 \n",
      "ensemble: test core = 325 \n"
     ]
    }
   ],
   "source": [
    "code_for_test(xgp, y)"
   ]
  },
  {
   "cell_type": "markdown",
   "metadata": {},
   "source": [
    "## Define xgboost with cost sensitive"
   ]
  },
  {
   "cell_type": "code",
   "execution_count": 12,
   "metadata": {},
   "outputs": [
    {
     "name": "stdout",
     "output_type": "stream",
     "text": [
      "cost = 325\n"
     ]
    }
   ],
   "source": [
    "cv_cost_xg(xgp, y, 3 ,100)"
   ]
  },
  {
   "cell_type": "markdown",
   "metadata": {},
   "source": [
    "## semi-supervised\n"
   ]
  },
  {
   "cell_type": "code",
   "execution_count": 13,
   "metadata": {
    "scrolled": false
   },
   "outputs": [],
   "source": [
    "x_test12 = X_test_manual_enc[X_test_manual_enc['trustLevel_1.0']==1].append(X_test_manual_enc[X_test_manual_enc['trustLevel_2.0']==1])\n",
    "xgp_test12 = gpresult.transform(x_test12)"
   ]
  },
  {
   "cell_type": "code",
   "execution_count": 14,
   "metadata": {
    "scrolled": false
   },
   "outputs": [
    {
     "name": "stdout",
     "output_type": "stream",
     "text": [
      "cost = {'Logistic Regression': 275, 'Neural Net': 280, 'XGBoost': 230, 'ensemble': 240}\n"
     ]
    }
   ],
   "source": [
    "cv_cost_semi(xgp, xgp_test12, y)"
   ]
  },
  {
   "cell_type": "markdown",
   "metadata": {},
   "source": [
    "## final prediction"
   ]
  },
  {
   "cell_type": "code",
   "execution_count": 15,
   "metadata": {},
   "outputs": [],
   "source": [
    "def final_model(x,y,x_test, clf):\n",
    "    clf.fit(x,y)\n",
    "    y_pred = clf.predict(x)\n",
    "    print(f'cost on train = {profit_scorer(y, y_pred>0.5)}')\n",
    "    print(confusion_matrix(y, y_pred>0.5))\n",
    "    prediction = clf.predict(x_test)\n",
    "    return prediction"
   ]
  },
  {
   "cell_type": "code",
   "execution_count": 17,
   "metadata": {},
   "outputs": [],
   "source": [
    "xgp_test = gpresult.transform(X_test_manual_enc)"
   ]
  },
  {
   "cell_type": "code",
   "execution_count": 24,
   "metadata": {},
   "outputs": [
    {
     "name": "stdout",
     "output_type": "stream",
     "text": [
      "Logistic Regression\n",
      "cost on train = 375\n",
      "[[1772    3]\n",
      " [   7   97]]\n",
      "result on test: Counter({0: 475423, 1: 22698})\n",
      "Neural Net\n",
      "cost on train = 350\n",
      "[[1773    2]\n",
      " [  12   92]]\n",
      "result on test: Counter({0: 476562, 1: 21559})\n",
      "XGBoost\n",
      "cost on train = 485\n",
      "[[1774    1]\n",
      " [   1  103]]\n",
      "result on test: Counter({0: 473756, 1: 24365})\n",
      "ensemble\n",
      "cost on train = 425\n",
      "[[1774    1]\n",
      " [   7   97]]\n",
      "result on test: Counter({0.0: 475905, 1.0: 22216})\n",
      "XGBoost cost sensitive\n",
      "cost on train = 520\n",
      "[[1775    0]\n",
      " [   0  104]]\n",
      "result on test: Counter({False: 474345, True: 23776})\n"
     ]
    },
    {
     "data": {
      "image/png": "[encoded data removed]",
      "text/plain": [
       "<Figure size 1080x216 with 5 Axes>"
      ]
     },
     "metadata": {
      "needs_background": "light"
     },
     "output_type": "display_data"
    }
   ],
   "source": [
    "fig, ax = plt.subplots(1,5)\n",
    "fig.set_figheight(3)\n",
    "fig.set_figwidth(15)\n",
    "i = 0\n",
    "\n",
    "for name, clf in classifiers.items():\n",
    "    print(name)\n",
    "    prediction = final_model(xgp, y, xgp_test, clf)\n",
    "    np.savetxt(f\"Result/fraud_{name}.csv\", (prediction>0.5), delimiter=\",\", fmt='%d')\n",
    "    ax[i].hist(prediction)\n",
    "    i+=1\n",
    "    print(f'result on test: {collections.Counter(prediction)}')\n",
    "\n",
    "print('XGBoost cost sensitive')\n",
    "model, cost_xgb_pred = train_xgb(xgp, y, xgp_test)\n",
    "np.savetxt(f\"Result/fraud_XGBoost cost sensitive.csv\", (cost_xgb_pred>0.5), delimiter=\",\", fmt='%d')\n",
    "ax[4].hist(cost_xgb_pred)\n",
    "print(f'result on test: {collections.Counter(cost_xgb_pred>0.5)}')"
   ]
  }
 ],
 "metadata": {
  "kernelspec": {
   "display_name": "Python 3",
   "language": "python",
   "name": "python3"
  },
  "language_info": {
   "codemirror_mode": {
    "name": "ipython",
    "version": 3
   },
   "file_extension": ".py",
   "mimetype": "text/x-python",
   "name": "python",
   "nbconvert_exporter": "python",
   "pygments_lexer": "ipython3",
   "version": "3.7.0"
  }
 },
 "nbformat": 4,
 "nbformat_minor": 2
}
