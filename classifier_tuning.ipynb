{
 "cells": [
  {
   "cell_type": "markdown",
   "metadata": {},
   "source": [
    "## Functions and libraries "
   ]
  },
  {
   "cell_type": "code",
   "execution_count": 1,
   "metadata": {},
   "outputs": [],
   "source": [
    "import pandas as pd\n",
    "import numpy as np\n",
    "from sklearn.preprocessing import MinMaxScaler\n",
    "import matplotlib.pyplot as plt\n",
    "%matplotlib inline\n",
    "from sklearn.metrics import confusion_matrix\n",
    "from sklearn.metrics import mean_squared_error\n",
    "import warnings\n",
    "warnings.filterwarnings('ignore')\n",
    "from sklearn.feature_selection import RFE\n",
    "from sklearn.linear_model import LogisticRegression\n",
    "from sklearn.ensemble import RandomForestRegressor\n",
    "from sklearn.linear_model import Ridge\n",
    "from sklearn.linear_model import Lasso\n",
    "from gplearn.genetic import SymbolicTransformer\n",
    "from sklearn.neural_network import MLPClassifier\n",
    "from sklearn.neighbors import KNeighborsClassifier\n",
    "from sklearn.svm import SVC\n",
    "from sklearn.gaussian_process.kernels import RBF\n",
    "from sklearn.linear_model import LogisticRegression\n",
    "from sklearn.tree import DecisionTreeClassifier\n",
    "from sklearn.ensemble import RandomForestClassifier, AdaBoostClassifier\n",
    "from sklearn.naive_bayes import GaussianNB\n",
    "import xgboost as xgb\n",
    "from sklearn.model_selection import cross_validate, StratifiedKFold\n",
    "from sklearn.metrics import make_scorer\n",
    "from sklearn.metrics import confusion_matrix\n",
    "from sklearn.semi_supervised import LabelPropagation, LabelSpreading\n",
    "from sklearn.decomposition import PCA "
   ]
  },
  {
   "cell_type": "markdown",
   "metadata": {},
   "source": [
    "## Functions for classifier in cross classification"
   ]
  },
  {
   "cell_type": "code",
   "execution_count": 2,
   "metadata": {},
   "outputs": [],
   "source": [
    "classifiers = {\n",
    "#     \"RBF SVM\": SVC(gamma=2, C=1),\n",
    "    \"Logistic Regression\": LogisticRegression( solver='lbfgs', max_iter = 500 ), \n",
    "    \"Neural Net\": MLPClassifier(alpha=1, max_iter=1000),\n",
    "#     \"Random Forest\": RandomForestClassifier(n_estimators=500),\n",
    "#     \"AdaBoost\" : AdaBoostClassifier(),\n",
    "    \"XGBoost\": xgb.XGBClassifier()\n",
    "}\n",
    "\n",
    "def profit_scorer(y, y_pred):\n",
    "#     print(confusion_matrix(y, y_pred))\n",
    "    profit_matrix = {(0,0): 0, (0,1): -5, (1,0): -25, (1,1): 5}\n",
    "    return sum(profit_matrix[(pred, actual)] for pred, actual in zip(y_pred, y))\n",
    "\n",
    "def evaluate_classification(X, y):\n",
    "    cv = StratifiedKFold(n_splits=10, random_state=42)\n",
    "    profit_scoring = make_scorer(profit_scorer, greater_is_better=True)\n",
    "    \n",
    "    for name, clf in classifiers.items():\n",
    "#         print(cross_validate(clf, X, y=y, cv=cv, scoring=profit_scoring)['test_score'])\n",
    "        result = sum(cross_validate(clf, X, y=y, cv=cv, scoring=profit_scoring)['test_score'])\n",
    "        print(f\"{name}: test core = {result} \")\n",
    "def code_for_test(X,y):\n",
    "    \"\"\"\n",
    "    test code with 10-fold stratified cross validation\n",
    "    parameters\n",
    "    X: trainset features after generation\n",
    "    y: trainset y label\n",
    "    \"\"\"\n",
    "    evaluate_classification(X, y)"
   ]
  },
  {
   "cell_type": "markdown",
   "metadata": {},
   "source": [
    "## functions for feature selection"
   ]
  },
  {
   "cell_type": "code",
   "execution_count": 3,
   "metadata": {},
   "outputs": [],
   "source": [
    "def feature_selection(X, y):\n",
    "    model = LogisticRegression(solver='lbfgs', max_iter=300)\n",
    "    models = {'logistic': model, 'RFE': RFE(model, 5), 'ridge': Ridge(alpha=1.0), 'Lasso': Lasso()}\n",
    "    for k, v in models.items():\n",
    "        print(k)\n",
    "        fit = v.fit(X, y)\n",
    "        if k == 'RFE':\n",
    "            print(\"Num Features: %s\" % (fit.n_features_))\n",
    "            print(\"Feature Ranking: %s\" % (fit.ranking_))\n",
    "            for i, j in sorted(zip(fit.ranking_, X.columns), reverse=False):\n",
    "                print(i,j)\n",
    "\n",
    "        elif k == 'logistic':\n",
    "            for i, j in sorted(zip(map(lambda x: round(x, 4), fit.coef_.reshape(-1)), X.columns), reverse=True):\n",
    "                print(i,j)\n",
    "        else:\n",
    "            for i, j in sorted(zip(map(lambda x: round(x, 4), abs(fit.coef_)), X.columns), reverse=True):\n",
    "                print(i,j)"
   ]
  },
  {
   "cell_type": "markdown",
   "metadata": {},
   "source": [
    "## Functions for automatic feature generation"
   ]
  },
  {
   "cell_type": "code",
   "execution_count": 4,
   "metadata": {},
   "outputs": [],
   "source": [
    "function_set = ['add', 'sub', 'mul', 'div', 'log', 'sqrt', 'abs', 'neg', 'max', 'min']  # \n",
    "def gp(X, y, gen, n_com):\n",
    "    gp = SymbolicTransformer(generations=gen, population_size=1000,\n",
    "                             hall_of_fame=100, n_components=n_com,\n",
    "                             function_set=function_set,\n",
    "                             parsimony_coefficient=0.0005,\n",
    "                             max_samples=0.9, verbose=1,\n",
    "                             random_state=42, n_jobs=8,\n",
    "                             feature_names=X.columns)\n",
    "    x_gp = gp.fit_transform(X, y)\n",
    "    return gp, x_gp\n",
    "    "
   ]
  },
  {
   "cell_type": "markdown",
   "metadata": {},
   "source": [
    "## functions for semi-supervised learning"
   ]
  },
  {
   "cell_type": "code",
   "execution_count": 5,
   "metadata": {},
   "outputs": [],
   "source": [
    "def classify(X_train, X_test, y_train, clf):\n",
    "    pred = clf.fit(X_train, y_train).predict(X_test)\n",
    "    return pred\n",
    "\n",
    "def cv_cost_semi(X, X_test_other, y):\n",
    "    cv = StratifiedKFold(n_splits=10, random_state=42)\n",
    "    cost = {\"RBF SVM\": 0,\n",
    "    \"Logistic Regression\": 0, \n",
    "    \"Neural Net\": 0,\n",
    "    \"Random Forest\": 0,\n",
    "    \"AdaBoost\" : 0,\n",
    "    \"XGBoost\": 0}\n",
    "    for train_index, test_index in cv.split(X, y):\n",
    "        # get the split\n",
    "        X_train, X_test = X.iloc[train_index,:], X.iloc[test_index,:]\n",
    "        y_train, y_test = y[train_index], y[test_index]\n",
    "        # generate coresponding test label\n",
    "        # model = LabelSpreading(gamma=10)\n",
    "        # model = LabelPropagation(alpha=None, gamma=10, kernel='rbf', max_iter=1000,n_jobs=None, n_neighbors=7, tol=0.001)\n",
    "        model = LabelSpreading(alpha=0.2, gamma=10, kernel='rbf', max_iter=30, n_jobs=None,n_neighbors=7, tol=0.001)\n",
    "        y_new_label = model.fit(X_train, y_train).predict(X_test_other)\n",
    "        X_all = X_train.append(X_test_other)\n",
    "        \n",
    "        y_all = y_train.append(pd.DataFrame(y_new_label))\n",
    "        # evaluation \n",
    "        for name, clf in classifiers.items():\n",
    "            pred = classify(X_all, X_test, y_all, clf)\n",
    "            cost[name] += profit_scorer(y_test, pred>0.5)\n",
    "    print(f'cost = {cost}')"
   ]
  },
  {
   "cell_type": "markdown",
   "metadata": {},
   "source": [
    "## functions for cost-sensitive xgboost"
   ]
  },
  {
   "cell_type": "code",
   "execution_count": 6,
   "metadata": {},
   "outputs": [],
   "source": [
    "def logistic_obj(y_hat, dtrain, alpha=5, beta=25): # alpha for FN beta for FP\n",
    "    y = dtrain.get_label()\n",
    "    pred = 1. / (1. + np.exp(-y_hat))\n",
    "    grad = pred * (beta + alpha*y - beta*y) - alpha*y  # alpha*(p-1)*y + beta*p*(1-y)\n",
    "    hess = pred * (1 - pred) * (beta + alpha*y - beta*y)\n",
    "    return grad, hess\n",
    "\n",
    "def err_rate(pred, dtrain):\n",
    "    y = dtrain.get_label()\n",
    "    pred = 1. / (1. + np.exp(-pred))\n",
    "    loss_fn = y*np.log(pred)\n",
    "    loss_fp = (1.0 - y)*np.log(1.0 - pred)\n",
    "    return 'error', np.sum(-(5*loss_fn+25*loss_fp))/len(y)\n",
    "\n",
    "def cross_validation(X_train, X_test, y_train, y_test, depth, num_round):\n",
    "    # load data\n",
    "    d_train = xgb.DMatrix(X_train, label=y_train)\n",
    "    d_val = xgb.DMatrix(X_test, label=y_test)\n",
    "    # build model\n",
    "    param = {'max_depth': depth, 'eta': 0.2, 'silent': 1, 'seed': 42, 'scale_pos_weight':1}\n",
    "#     watchlist = [(d_val, 'eval'), (d_train, 'train')]\n",
    "#     model_trn = xgb.train(param, d_train, num_round, watchlist, obj=logistic_obj, feval=err_rate)\n",
    "    model_trn = xgb.train(param, d_train, num_round, obj=logistic_obj, feval=err_rate)\n",
    "    # prediction\n",
    "    pred = model_trn.predict(d_val) \n",
    "    pred = 1. / (1. + np.exp(-pred))\n",
    "    return pred\n",
    "def cv_cost_xg(X,y, depth, rounds):\n",
    "    cv = StratifiedKFold(n_splits=10, random_state=42)\n",
    "    cost=0\n",
    "    if type(X) == pd.DataFrame:\n",
    "        X=X.values\n",
    "    for train_index, test_index in cv.split(X, y):\n",
    "        X_train, X_test = X[train_index], X[test_index]\n",
    "        y_train, y_test = y[train_index], y[test_index]\n",
    "        pred = cross_validation(X_train, X_test, y_train, y_test, depth, rounds)\n",
    "#         print(f' confusion matrix: cost({profit_scorer(y_test, pred>0.5)})\\n {confusion_matrix(y_test, pred>0.5)}')\n",
    "        cost += profit_scorer(y_test, pred>0.5)\n",
    "\n",
    "    print(f'cost = {cost}')"
   ]
  },
  {
   "cell_type": "markdown",
   "metadata": {},
   "source": [
    "## Dataset for test\n",
    "prepare different input dataset and test at 10-fold stratified cross validation set\n"
   ]
  },
  {
   "cell_type": "markdown",
   "metadata": {},
   "source": [
    "**1. X (raw data)**"
   ]
  },
  {
   "cell_type": "code",
   "execution_count": 7,
   "metadata": {},
   "outputs": [
    {
     "name": "stdout",
     "output_type": "stream",
     "text": [
      "Train set has 1879 entries and 10 features\n",
      "Test set has 498121 entries and 9 features\n"
     ]
    }
   ],
   "source": [
    "train_data = pd.read_csv('data/train.csv', sep = '|')\n",
    "test_data = pd.read_csv('data/test.csv', sep = '|')\n",
    "print(f'Train set has {train_data.shape[0]} entries and {train_data.shape[1]} features')\n",
    "print(f'Test set has {test_data.shape[0]} entries and {test_data.shape[1]} features')\n",
    "y = train_data['fraud']\n",
    "X = train_data.drop(columns=['fraud']).astype(float)\n"
   ]
  },
  {
   "cell_type": "code",
   "execution_count": 20,
   "metadata": {
    "scrolled": false
   },
   "outputs": [],
   "source": [
    "# encode trustlevel 1,2,other\n",
    "X_encode = pd.get_dummies(X, columns=['trustLevel'], prefix='trust')\n",
    "X_encode = X_encode.assign(trust_other = (X_encode['trust_3.0']+X_encode['trust_4.0']+X_encode['trust_5.0']+X_encode['trust_6.0']))\n",
    "X_encode = X_encode.drop(columns=['trust_3.0', 'trust_4.0', 'trust_5.0','trust_6.0'])\n",
    "## test data\n",
    "X_encode_test = pd.get_dummies(test_data, columns=['trustLevel'], prefix='trust')\n",
    "X_encode_test = X_encode_test.assign(trust_other = (X_encode_test['trust_3']+X_encode_test['trust_4']+X_encode_test['trust_5']+X_encode_test['trust_6']))\n",
    "X_encode_test = X_encode_test.drop(columns=['trust_3', 'trust_4', 'trust_5','trust_6'])\n",
    "# normalize\n",
    "fit_minmax = MinMaxScaler()\n",
    "X_encode_norm = pd.DataFrame(fit_minmax.fit_transform(X_encode), columns=X_encode.columns, index=X_encode.index)\n",
    "X_encode_norm_test = pd.DataFrame(fit_minmax.transform(X_encode_test), columns=X_encode_test.columns, index=X_encode_test.index)"
   ]
  },
  {
   "cell_type": "markdown",
   "metadata": {},
   "source": [
    "## Manual feature"
   ]
  },
  {
   "cell_type": "code",
   "execution_count": 31,
   "metadata": {
    "scrolled": false
   },
   "outputs": [],
   "source": [
    "X_manual_nodrop = X_encode.assign(no_item = X_encode.totalScanTimeInSeconds* X_encode.scannedLineItemsPerSecond)\n",
    "X_manual_nodrop = pd.DataFrame(fit_minmax.fit_transform(X_manual_nodrop), columns=X_manual_nodrop.columns, index=X_manual_nodrop.index)\n",
    "# X_manual = X_manual_nodrop.drop(columns=['grandTotal','quantityModifications'])\n",
    "X_manual = X_manual_nodrop.drop(columns=['lineItemVoidsPerPosition'])\n",
    "X_manual = pd.DataFrame(fit_minmax.fit_transform(X_manual), columns=X_manual.columns, index=X_manual.index)\n",
    "\n",
    "\n",
    "X_manual_test_nodrop = X_encode_test.assign(no_item = X_encode_test.totalScanTimeInSeconds* X_encode_test.scannedLineItemsPerSecond)\n",
    "X_manual_test_nodrop = pd.DataFrame(fit_minmax.fit_transform(X_manual_test_nodrop), columns=X_manual_test_nodrop.columns, index=X_manual_test_nodrop.index)\n",
    "X_manual_test = X_manual_test_nodrop.drop(columns=['lineItemVoidsPerPosition'])\n",
    "X_manual_test = pd.DataFrame(fit_minmax.fit_transform(X_manual_test), columns=X_manual_test.columns, index=X_manual_test.index)\n",
    "\n",
    "\n",
    "pca = PCA(n_components = 'mle')\n",
    "X_manual_PCA = pca.fit_transform(X_manual)\n",
    "X_manual_test_PCA = pca.transform(X_manual_test)"
   ]
  },
  {
   "cell_type": "code",
   "execution_count": 28,
   "metadata": {},
   "outputs": [
    {
     "name": "stdout",
     "output_type": "stream",
     "text": [
      "Logistic Regression: test core = 225 \n",
      "Neural Net: test core = 220 \n",
      "XGBoost: test core = 205 \n"
     ]
    }
   ],
   "source": [
    "code_for_test(X_manual_nodrop, y)"
   ]
  },
  {
   "cell_type": "code",
   "execution_count": 26,
   "metadata": {},
   "outputs": [
    {
     "name": "stdout",
     "output_type": "stream",
     "text": [
      "Logistic Regression: test core = 260 \n",
      "Neural Net: test core = 220 \n",
      "XGBoost: test core = 145 \n"
     ]
    }
   ],
   "source": [
    "code_for_test(X_manual, y)"
   ]
  },
  {
   "cell_type": "code",
   "execution_count": 27,
   "metadata": {},
   "outputs": [
    {
     "name": "stdout",
     "output_type": "stream",
     "text": [
      "Logistic Regression: test core = 260 \n",
      "Neural Net: test core = 210 \n",
      "XGBoost: test core = 70 \n"
     ]
    }
   ],
   "source": [
    "code_for_test(X_manual_PCA, y)"
   ]
  },
  {
   "cell_type": "markdown",
   "metadata": {},
   "source": [
    "## auto generate feature"
   ]
  },
  {
   "cell_type": "code",
   "execution_count": 38,
   "metadata": {
    "scrolled": true
   },
   "outputs": [
    {
     "name": "stdout",
     "output_type": "stream",
     "text": [
      "    |   Population Average    |             Best Individual              |\n",
      "---- ------------------------- ------------------------------------------ ----------\n",
      " Gen   Length          Fitness   Length          Fitness      OOB Fitness  Time Left\n",
      "   0    12.12         0.111257       19         0.507449         0.435507     21.29s\n",
      "   1     9.05         0.288971        9         0.552235         0.617424      1.23m\n",
      "   2    11.60         0.349211       11         0.651679         0.456674      1.59m\n",
      "   3    15.44         0.416605       14         0.720632         0.548557      1.68m\n",
      "   4    20.47         0.465525       26         0.713904         0.623763      1.86m\n",
      "   5    23.80         0.523853       26         0.760131         0.625156      1.99m\n",
      "   6    29.09         0.563434       40         0.778025         0.607471      2.07m\n",
      "   7    35.17         0.612473       28          0.79819          0.49402      2.17m\n",
      "   8    39.98         0.637079       52         0.795612         0.602135      2.26m\n",
      "   9    41.75           0.6563       63         0.796906         0.718411      2.35m\n",
      "  10    39.92         0.660762       67         0.810435         0.504548      2.36m\n",
      "  11    37.64         0.650712       24         0.798288         0.517724      2.17m\n",
      "  12    34.16         0.652157       60         0.797075         0.624984      2.06m\n",
      "  13    30.35           0.6502       61         0.795671         0.619315      1.84m\n",
      "  14    25.93         0.632073       64         0.801143         0.610902      1.70m\n",
      "  15    24.42         0.625725       26         0.792964         0.554119      1.44m\n",
      "  16    23.55         0.632326       34         0.798115         0.566168      1.49m\n",
      "  17    23.89         0.620357       22         0.796518         0.460276      1.17m\n",
      "  18    24.34         0.614298       32         0.798546         0.432298      1.08m\n",
      "  19    23.57         0.615573       47         0.794286         0.641342     58.84s\n",
      "  20    22.56         0.609018       20          0.79998         0.407397     50.83s\n",
      "  21    22.57          0.61626       28         0.797714         0.546985     45.25s\n",
      "  22    22.62         0.605377       20         0.801266         0.474107     39.77s\n",
      "  23    21.64         0.594531       29         0.791725         0.699998     35.28s\n",
      "  24    20.75         0.616073       20         0.798118         0.501654     27.73s\n",
      "  25    20.01         0.599817       24         0.802501         0.476357     21.67s\n",
      "  26    19.91          0.59437       20         0.794754         0.630515     16.16s\n",
      "  27    20.41         0.603426       20         0.799086         0.282457     10.78s\n",
      "  28    20.30          0.61088       18         0.802259         0.535179      5.59s\n",
      "  29    20.13         0.601814       20         0.798092         0.646243      0.00s\n",
      "without autogeneration\n",
      "Logistic Regression: test core = -655 \n",
      "Neural Net: test core = -520 \n",
      "XGBoost: test core = -80 \n",
      "autogeneration\n",
      "Logistic Regression: test core = -5525 \n",
      "Neural Net: test core = -585 \n",
      "XGBoost: test core = -165 \n",
      "auto-features\n",
      "[mul(mul(mul(mul(div(lineItemVoids, lineItemVoidsPerPosition), div(lineItemVoids, lineItemVoidsPerPosition)), div(lineItemVoids, lineItemVoidsPerPosition)), div(lineItemVoids, lineItemVoidsPerPosition)), sqrt(div(trust_1.0, scannedLineItemsPerSecond))),\n",
      " mul(mul(mul(div(lineItemVoids, lineItemVoidsPerPosition), div(lineItemVoids, lineItemVoidsPerPosition)), mul(div(lineItemVoids, lineItemVoidsPerPosition), sqrt(div(lineItemVoids, lineItemVoidsPerPosition)))), sqrt(div(trust_1.0, scannedLineItemsPerSecond))),\n",
      " mul(div(lineItemVoids, lineItemVoidsPerPosition), mul(mul(mul(sub(log(sqrt(div(lineItemVoids, scannedLineItemsPerSecond))), div(lineItemVoids, lineItemVoidsPerPosition)), sub(scannedLineItemsPerSecond, sqrt(div(trust_1.0, scannedLineItemsPerSecond)))), div(lineItemVoids, lineItemVoidsPerPosition)), div(lineItemVoids, lineItemVoidsPerPosition))),\n",
      " mul(mul(mul(div(lineItemVoids, lineItemVoidsPerPosition), sub(log(div(trust_1.0, scannedLineItemsPerSecond)), div(lineItemVoids, lineItemVoidsPerPosition))), div(lineItemVoids, lineItemVoidsPerPosition)), sqrt(div(trust_1.0, scannedLineItemsPerSecond))),\n",
      " mul(mul(mul(div(lineItemVoids, lineItemVoidsPerPosition), mul(log(sqrt(div(lineItemVoids, lineItemVoidsPerPosition))), div(lineItemVoids, lineItemVoidsPerPosition))), mul(div(lineItemVoids, lineItemVoidsPerPosition), div(lineItemVoids, lineItemVoidsPerPosition))), sqrt(div(trust_1.0, scannedLineItemsPerSecond))),\n",
      " mul(mul(mul(div(lineItemVoids, lineItemVoidsPerPosition), div(lineItemVoids, lineItemVoidsPerPosition)), mul(div(lineItemVoids, lineItemVoidsPerPosition), sub(max(totalScanTimeInSeconds, -0.770), sub(abs(-0.010), div(lineItemVoids, lineItemVoidsPerPosition))))), sqrt(div(trust_1.0, scannedLineItemsPerSecond))),\n",
      " mul(div(lineItemVoids, lineItemVoidsPerPosition), mul(mul(sqrt(div(trust_1.0, scannedLineItemsPerSecond)), div(lineItemVoids, lineItemVoidsPerPosition)), sub(lineItemVoids, div(lineItemVoids, lineItemVoidsPerPosition)))),\n",
      " mul(mul(mul(div(lineItemVoids, lineItemVoidsPerPosition), sub(div(lineItemVoids, lineItemVoidsPerPosition), sub(abs(-0.010), div(lineItemVoids, lineItemVoidsPerPosition)))), mul(div(lineItemVoids, lineItemVoidsPerPosition), sqrt(div(lineItemVoids, lineItemVoidsPerPosition)))), sqrt(div(trust_1.0, scannedLineItemsPerSecond))),\n",
      " mul(mul(mul(div(lineItemVoids, lineItemVoidsPerPosition), div(lineItemVoids, lineItemVoidsPerPosition)), div(lineItemVoids, lineItemVoidsPerPosition)), sqrt(div(trust_1.0, scannedLineItemsPerSecond))),\n",
      " mul(mul(mul(div(lineItemVoids, lineItemVoidsPerPosition), sub(lineItemVoids, div(lineItemVoids, lineItemVoidsPerPosition))), mul(div(lineItemVoids, lineItemVoidsPerPosition), div(lineItemVoids, lineItemVoidsPerPosition))), sqrt(div(trust_1.0, scannedLineItemsPerSecond))),\n",
      " mul(mul(mul(div(lineItemVoids, lineItemVoidsPerPosition), div(lineItemVoids, lineItemVoidsPerPosition)), mul(div(lineItemVoids, lineItemVoidsPerPosition), mul(div(lineItemVoids, lineItemVoidsPerPosition), sub(lineItemVoids, div(lineItemVoids, lineItemVoidsPerPosition))))), sqrt(div(trust_1.0, scannedLineItemsPerSecond))),\n",
      " mul(mul(mul(mul(div(lineItemVoids, lineItemVoidsPerPosition), div(lineItemVoids, lineItemVoidsPerPosition)), div(lineItemVoids, lineItemVoidsPerPosition)), abs(-0.010)), sqrt(sqrt(div(trust_1.0, scannedLineItemsPerSecond)))),\n",
      " mul(mul(mul(div(lineItemVoids, lineItemVoidsPerPosition), sub(max(totalScanTimeInSeconds, -0.770), sub(abs(-0.010), div(lineItemVoids, lineItemVoidsPerPosition)))), mul(div(lineItemVoids, lineItemVoidsPerPosition), sqrt(div(lineItemVoids, lineItemVoidsPerPosition)))), sqrt(div(trust_1.0, scannedLineItemsPerSecond))),\n",
      " mul(div(lineItemVoids, lineItemVoidsPerPosition), mul(mul(mul(sub(log(mul(mul(div(lineItemVoids, lineItemVoidsPerPosition), sqrt(div(trust_1.0, scannedLineItemsPerSecond))), div(lineItemVoids, lineItemVoidsPerPosition))), div(lineItemVoids, lineItemVoidsPerPosition)), sub(scannedLineItemsPerSecond, sqrt(div(trust_1.0, scannedLineItemsPerSecond)))), div(lineItemVoids, lineItemVoidsPerPosition)), div(lineItemVoids, lineItemVoidsPerPosition))),\n",
      " mul(mul(mul(mul(div(lineItemVoids, lineItemVoidsPerPosition), div(lineItemVoids, lineItemVoidsPerPosition)), sub(scannedLineItemsPerSecond, sqrt(div(trust_1.0, scannedLineItemsPerSecond)))), div(lineItemVoids, lineItemVoidsPerPosition)), div(lineItemVoids, lineItemVoidsPerPosition)),\n",
      " mul(mul(mul(div(lineItemVoids, lineItemVoidsPerPosition), div(lineItemVoids, lineItemVoidsPerPosition)), mul(div(lineItemVoids, lineItemVoidsPerPosition), mul(div(lineItemVoids, lineItemVoidsPerPosition), div(lineItemVoids, lineItemVoidsPerPosition)))), sqrt(div(trust_1.0, scannedLineItemsPerSecond))),\n",
      " mul(mul(mul(div(lineItemVoids, lineItemVoidsPerPosition), sub(log(mul(mul(div(lineItemVoids, lineItemVoidsPerPosition), div(lineItemVoids, lineItemVoidsPerPosition)), div(lineItemVoids, lineItemVoidsPerPosition))), div(lineItemVoids, lineItemVoidsPerPosition))), div(lineItemVoids, lineItemVoidsPerPosition)), sqrt(div(trust_1.0, scannedLineItemsPerSecond))),\n",
      " mul(mul(mul(div(lineItemVoids, lineItemVoidsPerPosition), mul(log(mul(div(lineItemVoids, lineItemVoidsPerPosition), mul(mul(log(div(trust_1.0, scannedLineItemsPerSecond)), div(lineItemVoidsPerPosition, lineItemVoidsPerPosition)), div(lineItemVoids, lineItemVoidsPerPosition)))), mul(div(lineItemVoids, lineItemVoidsPerPosition), div(lineItemVoids, lineItemVoidsPerPosition)))), div(lineItemVoids, lineItemVoidsPerPosition)), sqrt(div(trust_1.0, scannedLineItemsPerSecond))),\n",
      " mul(mul(mul(div(lineItemVoids, lineItemVoidsPerPosition), sub(log(div(trust_1.0, scannedLineItemsPerSecond)), sub(mul(div(lineItemVoids, lineItemVoidsPerPosition), div(lineItemVoids, lineItemVoidsPerPosition)), div(lineItemVoids, lineItemVoidsPerPosition)))), div(lineItemVoids, lineItemVoidsPerPosition)), sqrt(div(trust_1.0, scannedLineItemsPerSecond))),\n",
      " mul(mul(mul(div(lineItemVoids, lineItemVoidsPerPosition), sub(lineItemVoids, div(lineItemVoids, lineItemVoidsPerPosition))), sub(abs(-0.010), div(lineItemVoids, lineItemVoidsPerPosition))), sqrt(div(trust_1.0, scannedLineItemsPerSecond))),\n",
      " mul(div(lineItemVoids, lineItemVoidsPerPosition), mul(mul(div(lineItemVoids, lineItemVoidsPerPosition), sub(log(sqrt(div(lineItemVoids, lineItemVoidsPerPosition))), sub(mul(div(lineItemVoids, lineItemVoidsPerPosition), div(lineItemVoids, lineItemVoidsPerPosition)), div(lineItemVoids, lineItemVoidsPerPosition)))), sqrt(div(trust_1.0, scannedLineItemsPerSecond)))),\n",
      " mul(mul(mul(div(lineItemVoids, lineItemVoidsPerPosition), sub(log(div(trust_1.0, div(lineItemVoids, lineItemVoidsPerPosition))), sub(mul(div(lineItemVoids, lineItemVoidsPerPosition), div(lineItemVoids, lineItemVoidsPerPosition)), div(lineItemVoids, lineItemVoidsPerPosition)))), div(lineItemVoids, lineItemVoidsPerPosition)), sqrt(div(trust_1.0, scannedLineItemsPerSecond))),\n",
      " mul(mul(mul(div(lineItemVoids, lineItemVoidsPerPosition), div(lineItemVoids, lineItemVoidsPerPosition)), div(lineItemVoids, lineItemVoidsPerPosition)), sqrt(div(trust_1.0, scannedLineItemsPerSecond))),\n",
      " mul(mul(mul(div(lineItemVoids, lineItemVoidsPerPosition), mul(log(mul(div(lineItemVoids, lineItemVoidsPerPosition), mul(mul(log(sqrt(scannedLineItemsPerSecond)), div(lineItemVoidsPerPosition, lineItemVoidsPerPosition)), div(lineItemVoids, lineItemVoidsPerPosition)))), max(div(lineItemVoids, lineItemVoidsPerPosition), lineItemVoids))), div(lineItemVoids, lineItemVoidsPerPosition)), sqrt(div(trust_1.0, scannedLineItemsPerSecond))),\n",
      " mul(mul(mul(div(lineItemVoids, lineItemVoidsPerPosition), mul(log(sqrt(div(lineItemVoids, lineItemVoidsPerPosition))), div(lineItemVoids, lineItemVoidsPerPosition))), div(lineItemVoids, lineItemVoidsPerPosition)), sqrt(sqrt(div(trust_1.0, scannedLineItemsPerSecond)))),\n",
      " mul(mul(mul(div(lineItemVoids, lineItemVoidsPerPosition), div(lineItemVoids, lineItemVoidsPerPosition)), div(lineItemVoids, lineItemVoidsPerPosition)), sqrt(sqrt(div(trust_1.0, scannedLineItemsPerSecond)))),\n",
      " mul(mul(mul(div(lineItemVoids, lineItemVoidsPerPosition), div(lineItemVoids, lineItemVoidsPerPosition)), div(lineItemVoids, lineItemVoidsPerPosition)), sqrt(div(trust_1.0, scannedLineItemsPerSecond))),\n",
      " mul(mul(mul(div(lineItemVoids, lineItemVoidsPerPosition), div(lineItemVoids, lineItemVoidsPerPosition)), div(lineItemVoids, lineItemVoidsPerPosition)), sqrt(div(trust_1.0, scannedLineItemsPerSecond))),\n",
      " mul(mul(mul(div(lineItemVoids, lineItemVoidsPerPosition), sub(log(sqrt(sqrt(div(trust_1.0, mul(mul(div(lineItemVoids, lineItemVoidsPerPosition), div(lineItemVoids, lineItemVoidsPerPosition)), div(lineItemVoids, lineItemVoidsPerPosition)))))), div(lineItemVoids, lineItemVoidsPerPosition))), div(lineItemVoids, lineItemVoidsPerPosition)), sqrt(div(trust_1.0, scannedLineItemsPerSecond))),\n",
      " mul(mul(mul(div(lineItemVoids, lineItemVoidsPerPosition), div(lineItemVoids, lineItemVoidsPerPosition)), div(lineItemVoids, lineItemVoidsPerPosition)), sqrt(div(trust_1.0, scannedLineItemsPerSecond))),\n",
      " mul(mul(mul(mul(mul(div(lineItemVoids, lineItemVoidsPerPosition), div(lineItemVoids, lineItemVoidsPerPosition)), div(lineItemVoids, lineItemVoidsPerPosition)), div(lineItemVoids, lineItemVoidsPerPosition)), sqrt(sqrt(div(trust_1.0, scannedLineItemsPerSecond)))), sqrt(div(trust_1.0, scannedLineItemsPerSecond))),\n",
      " mul(mul(mul(div(lineItemVoids, lineItemVoidsPerPosition), div(lineItemVoids, lineItemVoidsPerPosition)), div(lineItemVoids, lineItemVoidsPerPosition)), sqrt(div(trust_1.0, scannedLineItemsPerSecond))),\n",
      " mul(mul(mul(div(lineItemVoids, lineItemVoidsPerPosition), sub(sqrt(div(lineItemVoids, lineItemVoidsPerPosition)), sub(abs(-0.010), div(lineItemVoids, lineItemVoidsPerPosition)))), mul(div(lineItemVoids, lineItemVoidsPerPosition), sqrt(div(lineItemVoids, lineItemVoidsPerPosition)))), sqrt(div(trust_1.0, scannedLineItemsPerSecond))),\n",
      " mul(mul(mul(div(lineItemVoids, lineItemVoidsPerPosition), div(lineItemVoids, lineItemVoidsPerPosition)), div(lineItemVoids, lineItemVoidsPerPosition)), sqrt(div(trust_1.0, scannedLineItemsPerSecond))),\n",
      " mul(mul(mul(sub(max(totalScanTimeInSeconds, -0.770), sub(abs(-0.010), div(lineItemVoids, lineItemVoidsPerPosition))), div(lineItemVoids, lineItemVoidsPerPosition)), div(lineItemVoids, lineItemVoidsPerPosition)), sqrt(div(trust_1.0, scannedLineItemsPerSecond))),\n",
      " mul(mul(mul(div(lineItemVoids, lineItemVoidsPerPosition), div(lineItemVoids, lineItemVoidsPerPosition)), div(lineItemVoids, lineItemVoidsPerPosition)), sqrt(div(trust_1.0, scannedLineItemsPerSecond))),\n",
      " mul(mul(mul(div(lineItemVoids, lineItemVoidsPerPosition), sub(log(sqrt(div(lineItemVoids, lineItemVoidsPerPosition))), div(lineItemVoids, lineItemVoidsPerPosition))), div(lineItemVoids, lineItemVoidsPerPosition)), sqrt(div(trust_1.0, scannedLineItemsPerSecond))),\n",
      " mul(div(lineItemVoids, lineItemVoidsPerPosition), mul(mul(sqrt(div(trust_1.0, scannedLineItemsPerSecond)), div(lineItemVoids, lineItemVoidsPerPosition)), div(lineItemVoids, lineItemVoidsPerPosition))),\n",
      " mul(mul(mul(div(lineItemVoids, lineItemVoidsPerPosition), div(lineItemVoids, lineItemVoidsPerPosition)), div(lineItemVoids, lineItemVoidsPerPosition)), sqrt(div(trust_1.0, scannedLineItemsPerSecond))),\n",
      " mul(mul(mul(div(lineItemVoids, lineItemVoidsPerPosition), div(lineItemVoids, lineItemVoidsPerPosition)), div(lineItemVoids, lineItemVoidsPerPosition)), sqrt(div(trust_1.0, scannedLineItemsPerSecond)))]\n"
     ]
    }
   ],
   "source": [
    "# orginal data encode trust 1,2,other and normalize\n",
    "GP, x_auto = gp(X_encode_norm, y, 30, 40)\n",
    "print('without autogeneration')\n",
    "code_for_test(X_encode_norm, y)\n",
    "print('autogeneration')\n",
    "code_for_test(x_auto, y)\n",
    "print('auto-features')\n",
    "print(GP)"
   ]
  },
  {
   "cell_type": "code",
   "execution_count": 36,
   "metadata": {},
   "outputs": [
    {
     "name": "stdout",
     "output_type": "stream",
     "text": [
      "    |   Population Average    |             Best Individual              |\n",
      "---- ------------------------- ------------------------------------------ ----------\n",
      " Gen   Length          Fitness   Length          Fitness      OOB Fitness  Time Left\n",
      "   0    12.12         0.116677       11          0.67572         0.542619      3.87m\n",
      "   1     7.93         0.318342        5         0.740263         0.669107      1.87m\n",
      "   2     9.59         0.426899        5         0.755607         0.530965      2.57m\n",
      "   3     8.76         0.589247       22         0.783131         0.590051      2.65m\n",
      "   4    10.95          0.63786       16         0.796931         0.638575      2.45m\n",
      "   5    16.49         0.676414       19         0.804552         0.629852      2.60m\n",
      "   6    20.32         0.689028       48         0.823728         0.678536      2.74m\n",
      "   7    23.84         0.704908       50         0.821595         0.669015      2.93m\n",
      "   8    24.05         0.699239       58         0.833976         0.643078      3.29m\n",
      "   9    25.57          0.71573       62         0.827659         0.801665      3.29m\n",
      "  10    26.62         0.718504       62         0.834457         0.730449      3.14m\n",
      "  11    30.89          0.73114       59         0.851611         0.549752      3.21m\n",
      "  12    37.92         0.734713       59         0.840879          0.65474      3.24m\n",
      "  13    38.61         0.745056       74          0.84975         0.419957      3.76m\n",
      "  14    41.90         0.755388       49         0.846929          0.44113      3.47m\n",
      "  15    37.71         0.734335       29         0.847061         0.762763      3.23m\n",
      "  16    33.52          0.72801       59         0.864187         0.485032      2.97m\n",
      "  17    35.37         0.728772       70         0.859415         0.854134      2.68m\n",
      "  18    33.11         0.738076       82         0.858688         0.897709      2.68m\n",
      "  19    30.58          0.72824       45         0.857444          0.67057      2.37m\n",
      "  20    28.75         0.724176       52         0.859213           0.7567      2.04m\n",
      "  21    29.28          0.72486       52         0.857224         0.719784      1.90m\n",
      "  22    28.96         0.724987       54         0.855346         0.789503      1.78m\n",
      "  23    28.13         0.732724       25         0.862874         0.769393      1.70m\n",
      "  24    28.65         0.735116       25         0.861212         0.829019      1.56m\n",
      "  25    27.70         0.733633       39         0.866232         0.725613      1.48m\n",
      "  26    28.82         0.732306       27         0.863559         0.817019      1.37m\n",
      "  27    29.72         0.731653       62         0.869226         0.797096      1.25m\n",
      "  28    28.81         0.733743       25         0.869779         0.742156      1.17m\n",
      "  29    28.16         0.726113       24         0.866415         0.756988      1.08m\n",
      "  30    27.69         0.723227       27         0.865259         0.753792     55.94s\n",
      "  31    25.55         0.724688       27         0.870313          0.79894     49.82s\n",
      "  32    25.34          0.73124       27         0.868203         0.751792     42.14s\n",
      "  33    25.98         0.717653       27         0.871496         0.692732     35.70s\n",
      "  34    26.17         0.725161       47         0.868312         0.836236     30.69s\n",
      "  35    26.68         0.724594       43         0.873421         0.735566     33.77s\n",
      "  36    26.19         0.729059       31          0.86987         0.731525     23.37s\n",
      "  37    26.99         0.713324       27         0.871556         0.744334     12.71s\n",
      "  38    26.40         0.724658       27         0.869716         0.768277      6.09s\n",
      "  39    26.74         0.729233       27         0.872117         0.743089      0.00s\n",
      "without aytogeneration\n",
      "Logistic Regression: test core = 225 \n",
      "Neural Net: test core = 230 \n",
      "XGBoost: test core = 130 \n",
      "autogeneration\n",
      "Logistic Regression: test core = 125 \n",
      "Neural Net: test core = 175 \n",
      "XGBoost: test core = 170 \n",
      "features\n",
      "[mul(no_item, mul(add(min(totalScanTimeInSeconds, trust_2.0), mul(trust_1.0, no_item)), mul(no_item, add(mul(trust_1.0, totalScanTimeInSeconds), abs(add(mul(trust_1.0, totalScanTimeInSeconds), mul(no_item, add(abs(lineItemVoids), scansWithoutRegistration)))))))),\n",
      " mul(no_item, mul(add(min(totalScanTimeInSeconds, trust_2.0), mul(trust_1.0, no_item)), mul(no_item, add(mul(trust_1.0, mul(trust_1.0, totalScanTimeInSeconds)), add(mul(trust_1.0, totalScanTimeInSeconds), add(mul(trust_1.0, totalScanTimeInSeconds), mul(no_item, add(abs(lineItemVoids), scansWithoutRegistration)))))))),\n",
      " mul(no_item, mul(add(min(totalScanTimeInSeconds, trust_2.0), mul(trust_1.0, no_item)), mul(no_item, add(mul(trust_1.0, totalScanTimeInSeconds), abs(add(mul(trust_1.0, totalScanTimeInSeconds), mul(no_item, add(mul(trust_1.0, totalScanTimeInSeconds), mul(no_item, add(add(abs(lineItemVoids), scansWithoutRegistration), scansWithoutRegistration)))))))))),\n",
      " mul(add(min(totalScanTimeInSeconds, trust_2.0), mul(trust_1.0, no_item)), mul(no_item, add(mul(trust_1.0, totalScanTimeInSeconds), add(mul(trust_1.0, totalScanTimeInSeconds), mul(no_item, mul(no_item, add(abs(lineItemVoids), scansWithoutRegistration))))))),\n",
      " mul(no_item, mul(add(min(totalScanTimeInSeconds, trust_2.0), mul(trust_1.0, no_item)), mul(no_item, add(mul(trust_1.0, totalScanTimeInSeconds), add(add(mul(trust_1.0, totalScanTimeInSeconds), add(mul(trust_1.0, totalScanTimeInSeconds), mul(no_item, add(abs(lineItemVoids), scansWithoutRegistration)))), mul(no_item, add(abs(lineItemVoids), scansWithoutRegistration))))))),\n",
      " mul(no_item, mul(add(min(totalScanTimeInSeconds, trust_2.0), mul(trust_1.0, no_item)), mul(no_item, add(mul(trust_1.0, totalScanTimeInSeconds), add(mul(trust_1.0, totalScanTimeInSeconds), add(abs(lineItemVoids), scansWithoutRegistration)))))),\n",
      " mul(no_item, mul(add(min(totalScanTimeInSeconds, trust_2.0), mul(trust_1.0, no_item)), mul(no_item, add(mul(trust_1.0, totalScanTimeInSeconds), add(add(mul(trust_1.0, totalScanTimeInSeconds), mul(no_item, add(abs(lineItemVoids), scansWithoutRegistration))), mul(no_item, add(lineItemVoids, scansWithoutRegistration))))))),\n",
      " mul(no_item, mul(neg(add(min(totalScanTimeInSeconds, trust_2.0), mul(trust_1.0, no_item))), mul(no_item, add(mul(trust_1.0, totalScanTimeInSeconds), add(mul(trust_1.0, totalScanTimeInSeconds), add(mul(trust_1.0, totalScanTimeInSeconds), mul(no_item, add(mul(no_item, add(abs(lineItemVoids), scansWithoutRegistration)), scansWithoutRegistration)))))))),\n",
      " mul(no_item, mul(neg(add(min(totalScanTimeInSeconds, trust_2.0), trust_1.0)), mul(no_item, add(mul(trust_1.0, totalScanTimeInSeconds), add(mul(trust_1.0, totalScanTimeInSeconds), mul(no_item, add(abs(lineItemVoids), scansWithoutRegistration))))))),\n",
      " mul(no_item, mul(neg(add(min(totalScanTimeInSeconds, trust_2.0), mul(trust_1.0, no_item))), mul(no_item, add(mul(trust_1.0, totalScanTimeInSeconds), add(mul(trust_1.0, totalScanTimeInSeconds), mul(no_item, add(abs(lineItemVoids), scansWithoutRegistration))))))),\n",
      " mul(no_item, mul(add(min(totalScanTimeInSeconds, trust_2.0), mul(trust_1.0, no_item)), mul(no_item, add(mul(trust_1.0, totalScanTimeInSeconds), abs(add(mul(trust_1.0, totalScanTimeInSeconds), mul(no_item, add(abs(lineItemVoids), scansWithoutRegistration)))))))),\n",
      " mul(no_item, mul(neg(add(min(totalScanTimeInSeconds, trust_2.0), mul(trust_1.0, no_item))), mul(no_item, add(mul(trust_1.0, totalScanTimeInSeconds), add(add(mul(trust_1.0, totalScanTimeInSeconds), add(mul(trust_1.0, totalScanTimeInSeconds), add(abs(lineItemVoids), scansWithoutRegistration))), mul(no_item, add(abs(lineItemVoids), scansWithoutRegistration))))))),\n",
      " mul(no_item, mul(add(min(totalScanTimeInSeconds, trust_2.0), mul(trust_1.0, no_item)), mul(no_item, add(mul(trust_1.0, totalScanTimeInSeconds), add(mul(trust_1.0, totalScanTimeInSeconds), mul(no_item, add(abs(lineItemVoids), scansWithoutRegistration))))))),\n",
      " mul(no_item, mul(neg(add(min(totalScanTimeInSeconds, trust_2.0), mul(trust_1.0, no_item))), mul(no_item, add(mul(trust_1.0, totalScanTimeInSeconds), add(mul(trust_1.0, totalScanTimeInSeconds), mul(no_item, add(abs(lineItemVoids), scansWithoutRegistration))))))),\n",
      " mul(no_item, mul(neg(add(min(totalScanTimeInSeconds, trust_2.0), mul(trust_1.0, no_item))), mul(no_item, add(mul(trust_1.0, totalScanTimeInSeconds), add(mul(trust_1.0, totalScanTimeInSeconds), add(abs(abs(lineItemVoids)), scansWithoutRegistration)))))),\n",
      " mul(no_item, mul(neg(add(min(totalScanTimeInSeconds, trust_2.0), mul(trust_1.0, no_item))), mul(no_item, add(mul(trust_1.0, totalScanTimeInSeconds), add(mul(trust_1.0, totalScanTimeInSeconds), mul(no_item, add(abs(lineItemVoids), scansWithoutRegistration))))))),\n",
      " mul(no_item, mul(add(min(totalScanTimeInSeconds, trust_2.0), mul(trust_1.0, no_item)), mul(no_item, add(mul(trust_1.0, totalScanTimeInSeconds), add(mul(trust_1.0, totalScanTimeInSeconds), mul(no_item, add(abs(lineItemVoids), scansWithoutRegistration))))))),\n",
      " mul(no_item, mul(neg(neg(add(min(totalScanTimeInSeconds, trust_2.0), mul(trust_1.0, no_item)))), mul(no_item, add(mul(trust_1.0, totalScanTimeInSeconds), add(mul(trust_1.0, totalScanTimeInSeconds), add(mul(trust_1.0, totalScanTimeInSeconds), mul(no_item, add(abs(lineItemVoids), scansWithoutRegistration)))))))),\n",
      " mul(no_item, mul(neg(add(min(totalScanTimeInSeconds, trust_2.0), mul(trust_1.0, no_item))), mul(no_item, add(mul(trust_1.0, totalScanTimeInSeconds), add(mul(trust_1.0, totalScanTimeInSeconds), mul(no_item, add(abs(lineItemVoids), scansWithoutRegistration))))))),\n",
      " mul(no_item, mul(add(min(totalScanTimeInSeconds, trust_2.0), mul(trust_1.0, no_item)), mul(no_item, add(mul(trust_1.0, totalScanTimeInSeconds), add(mul(trust_1.0, totalScanTimeInSeconds), mul(no_item, add(abs(lineItemVoids), scansWithoutRegistration))))))),\n",
      " mul(no_item, mul(neg(add(min(totalScanTimeInSeconds, trust_2.0), mul(trust_1.0, no_item))), mul(no_item, add(mul(trust_1.0, totalScanTimeInSeconds), add(mul(trust_1.0, totalScanTimeInSeconds), add(abs(lineItemVoids), scansWithoutRegistration)))))),\n",
      " mul(neg(add(min(totalScanTimeInSeconds, trust_2.0), mul(trust_1.0, no_item))), mul(no_item, add(mul(trust_1.0, totalScanTimeInSeconds), add(mul(trust_1.0, totalScanTimeInSeconds), mul(no_item, add(abs(lineItemVoids), scansWithoutRegistration)))))),\n",
      " mul(no_item, mul(neg(add(min(totalScanTimeInSeconds, trust_2.0), mul(trust_1.0, no_item))), mul(no_item, add(mul(trust_1.0, totalScanTimeInSeconds), add(mul(trust_1.0, totalScanTimeInSeconds), add(mul(trust_1.0, totalScanTimeInSeconds), add(abs(lineItemVoids), scansWithoutRegistration))))))),\n",
      " mul(no_item, mul(add(min(totalScanTimeInSeconds, trust_2.0), mul(trust_1.0, no_item)), mul(no_item, add(mul(trust_1.0, totalScanTimeInSeconds), abs(add(mul(trust_1.0, totalScanTimeInSeconds), mul(no_item, add(abs(lineItemVoids), scansWithoutRegistration)))))))),\n",
      " mul(no_item, mul(neg(add(min(totalScanTimeInSeconds, trust_2.0), mul(trust_1.0, no_item))), mul(no_item, add(mul(trust_1.0, totalScanTimeInSeconds), add(mul(trust_1.0, totalScanTimeInSeconds), add(mul(trust_1.0, totalScanTimeInSeconds), mul(no_item, add(abs(lineItemVoids), scansWithoutRegistration)))))))),\n",
      " mul(no_item, mul(neg(neg(add(min(totalScanTimeInSeconds, trust_2.0), mul(trust_1.0, no_item)))), mul(no_item, add(mul(trust_1.0, totalScanTimeInSeconds), add(mul(trust_1.0, totalScanTimeInSeconds), mul(no_item, add(abs(lineItemVoids), scansWithoutRegistration))))))),\n",
      " mul(no_item, mul(add(min(totalScanTimeInSeconds, trust_2.0), mul(trust_1.0, no_item)), mul(no_item, add(mul(trust_1.0, totalScanTimeInSeconds), add(mul(trust_1.0, totalScanTimeInSeconds), mul(no_item, add(abs(lineItemVoids), scansWithoutRegistration))))))),\n",
      " mul(no_item, mul(neg(add(min(totalScanTimeInSeconds, trust_2.0), mul(trust_1.0, no_item))), mul(no_item, add(mul(trust_1.0, totalScanTimeInSeconds), add(mul(trust_1.0, totalScanTimeInSeconds), mul(no_item, add(abs(lineItemVoids), scansWithoutRegistration))))))),\n",
      " mul(no_item, mul(add(min(totalScanTimeInSeconds, trust_2.0), mul(trust_1.0, no_item)), mul(no_item, add(mul(trust_1.0, totalScanTimeInSeconds), add(mul(trust_1.0, totalScanTimeInSeconds), mul(no_item, mul(no_item, add(abs(lineItemVoids), scansWithoutRegistration)))))))),\n",
      " mul(no_item, mul(neg(add(min(totalScanTimeInSeconds, trust_2.0), mul(trust_1.0, no_item))), mul(no_item, add(mul(trust_1.0, totalScanTimeInSeconds), add(mul(trust_1.0, totalScanTimeInSeconds), mul(no_item, add(abs(lineItemVoids), scansWithoutRegistration))))))),\n",
      " mul(no_item, mul(add(min(totalScanTimeInSeconds, trust_2.0), mul(trust_1.0, no_item)), mul(no_item, add(mul(trust_1.0, totalScanTimeInSeconds), add(mul(trust_1.0, totalScanTimeInSeconds), add(lineItemVoids, scansWithoutRegistration)))))),\n",
      " mul(no_item, mul(add(min(totalScanTimeInSeconds, trust_2.0), mul(trust_1.0, no_item)), mul(no_item, add(mul(trust_1.0, totalScanTimeInSeconds), add(mul(trust_1.0, totalScanTimeInSeconds), mul(no_item, add(abs(lineItemVoids), scansWithoutRegistration))))))),\n",
      " mul(no_item, mul(neg(add(min(totalScanTimeInSeconds, trust_2.0), mul(trust_1.0, no_item))), mul(no_item, add(mul(trust_1.0, totalScanTimeInSeconds), add(mul(trust_1.0, totalScanTimeInSeconds), mul(no_item, add(abs(lineItemVoids), scansWithoutRegistration))))))),\n",
      " mul(no_item, mul(neg(neg(add(min(totalScanTimeInSeconds, trust_2.0), mul(trust_1.0, no_item)))), mul(no_item, add(mul(trust_1.0, totalScanTimeInSeconds), add(mul(trust_1.0, totalScanTimeInSeconds), mul(no_item, add(abs(lineItemVoids), scansWithoutRegistration))))))),\n",
      " mul(no_item, mul(neg(add(min(totalScanTimeInSeconds, trust_2.0), mul(trust_1.0, no_item))), mul(no_item, add(mul(trust_1.0, totalScanTimeInSeconds), add(mul(trust_1.0, totalScanTimeInSeconds), mul(no_item, add(abs(lineItemVoids), scansWithoutRegistration))))))),\n",
      " mul(no_item, mul(add(min(totalScanTimeInSeconds, trust_2.0), mul(trust_1.0, no_item)), mul(no_item, add(mul(trust_1.0, totalScanTimeInSeconds), add(mul(trust_1.0, totalScanTimeInSeconds), add(lineItemVoids, scansWithoutRegistration)))))),\n",
      " mul(no_item, mul(neg(add(min(min(min(totalScanTimeInSeconds, trust_2.0), trust_2.0), trust_2.0), mul(trust_1.0, no_item))), mul(no_item, add(mul(trust_1.0, totalScanTimeInSeconds), add(mul(trust_1.0, totalScanTimeInSeconds), add(mul(trust_other, totalScanTimeInSeconds), mul(no_item, add(abs(lineItemVoids), scansWithoutRegistration)))))))),\n",
      " mul(no_item, mul(neg(add(min(totalScanTimeInSeconds, trust_2.0), mul(trust_1.0, no_item))), mul(no_item, add(mul(trust_1.0, totalScanTimeInSeconds), add(mul(trust_1.0, totalScanTimeInSeconds), mul(no_item, add(abs(abs(lineItemVoids)), scansWithoutRegistration))))))),\n",
      " mul(no_item, mul(add(min(totalScanTimeInSeconds, trust_2.0), mul(trust_1.0, no_item)), mul(no_item, add(mul(trust_1.0, totalScanTimeInSeconds), add(mul(trust_1.0, totalScanTimeInSeconds), mul(no_item, add(abs(lineItemVoids), scansWithoutRegistration))))))),\n",
      " mul(no_item, mul(add(min(totalScanTimeInSeconds, trust_2.0), mul(trust_1.0, no_item)), mul(no_item, add(mul(trust_1.0, totalScanTimeInSeconds), add(mul(trust_1.0, totalScanTimeInSeconds), add(mul(trust_1.0, totalScanTimeInSeconds), add(mul(trust_other, totalScanTimeInSeconds), mul(no_item, add(abs(lineItemVoids), scansWithoutRegistration)))))))))]\n"
     ]
    }
   ],
   "source": [
    "# drop lineItemVoidsPerPosition \n",
    "GP, x_auto_manual = gp(X_manual, y, 40, 40)\n",
    "print('without autogeneration')\n",
    "code_for_test(X_manual, y)\n",
    "print('autogeneration')\n",
    "code_for_test(x_auto_manual, y)\n",
    "print('auto-features')\n",
    "print(GP)"
   ]
  },
  {
   "cell_type": "code",
   "execution_count": 37,
   "metadata": {
    "scrolled": true
   },
   "outputs": [
    {
     "name": "stdout",
     "output_type": "stream",
     "text": [
      "    |   Population Average    |             Best Individual              |\n",
      "---- ------------------------- ------------------------------------------ ----------\n",
      " Gen   Length          Fitness   Length          Fitness      OOB Fitness  Time Left\n",
      "   0    11.86         0.121434       11         0.598137         0.466999     31.44s\n",
      "   1     8.38         0.298296       17         0.729586         0.529154      1.77m\n",
      "   2    12.00         0.394533       19         0.753587         0.746162      2.48m\n",
      "   3    14.79         0.527792       29          0.77866         0.706179      2.58m\n",
      "   4    20.16         0.621892       20         0.805338         0.628288      2.54m\n",
      "   5    23.15         0.658883       71           0.8197         0.782564      2.70m\n",
      "   6    26.46         0.708991       46         0.831469         0.651422      3.05m\n",
      "   7    27.50         0.739954       33         0.843712         0.546862      3.34m\n",
      "   8    32.47         0.763343       44         0.851229         0.521246      3.23m\n",
      "   9    33.67         0.775924       92         0.852054         0.765627      3.30m\n",
      "  10    37.56         0.785128       43          0.87011         0.486883      3.52m\n",
      "  11    36.66         0.779052       52         0.872373         0.665702      3.50m\n",
      "  12    42.71         0.783164       71         0.891213         0.709613      3.46m\n",
      "  13    49.39         0.795672       73         0.890033         0.753029      3.39m\n",
      "  14    48.48         0.799094       47         0.895837         0.723646      3.18m\n",
      "  15    48.94         0.798783       75         0.897295          0.72998      3.22m\n",
      "  16    50.49         0.808372       49         0.896815         0.614806      3.14m\n",
      "  17    50.82         0.808554       72         0.907488         0.693051      3.18m\n",
      "  18    52.10         0.823619       64         0.900415         0.620291      3.04m\n",
      "  19    50.75         0.817299       68         0.901266         0.648487      2.89m\n",
      "  20    48.69          0.81812       87         0.906186         0.608915      2.75m\n",
      "  21    50.89         0.823816       69         0.906211         0.694004      2.67m\n",
      "  22    50.92         0.830651       71         0.902321         0.706621      2.49m\n",
      "  23    49.80         0.821252       79         0.901452         0.766527      2.32m\n",
      "  24    49.44          0.82926      109         0.904487         0.686832      2.17m\n",
      "  25    50.44         0.823898       59         0.906425         0.732358      2.08m\n",
      "  26    48.25         0.827863       99         0.905682         0.721373      1.95m\n",
      "  27    49.35         0.828366       49         0.903821         0.386619      1.71m\n",
      "  28    49.80         0.830897       65         0.905798         0.756381      1.54m\n",
      "  29    48.81         0.829251       55         0.907231         0.757462      1.42m\n",
      "  30    51.91         0.838386      107          0.91555         0.543504      1.26m\n",
      "  31    49.10         0.832195       55         0.906186          0.73297      1.12m\n",
      "  32    47.21         0.826945       77         0.907288         0.741293     59.20s\n",
      "  33    48.59         0.829936       97         0.906968         0.763652     49.35s\n",
      "  34    49.20         0.827086       69         0.905661          0.77216     40.22s\n",
      "  35    47.74         0.832675       63         0.902624         0.693445     33.64s\n",
      "  36    47.78         0.823677       93         0.905238         0.778123     25.16s\n",
      "  37    49.17         0.831862       51          0.90964         0.671307     16.48s\n",
      "  38    46.30         0.827509       79         0.906885         0.778394      8.41s\n",
      "  39    47.27          0.82785       41         0.911726         0.623648      0.00s\n",
      "without autogeneration\n",
      "Logistic Regression: test core = 225 \n",
      "Neural Net: test core = 220 \n",
      "XGBoost: test core = 205 \n",
      "autogeneration\n",
      "Logistic Regression: test core = 170 \n",
      "Neural Net: test core = 180 \n",
      "XGBoost: test core = 195 \n",
      "auto-features\n",
      "[min(trust_1.0, mul(no_item, mul(mul(mul(mul(mul(no_item, add(no_item, totalScanTimeInSeconds)), add(no_item, totalScanTimeInSeconds)), mul(no_item, add(add(no_item, totalScanTimeInSeconds), totalScanTimeInSeconds))), no_item), mul(mul(max(totalScanTimeInSeconds, add(lineItemVoids, scansWithoutRegistration)), no_item), mul(mul(add(lineItemVoids, scansWithoutRegistration), no_item), add(no_item, totalScanTimeInSeconds)))))),\n",
      " min(trust_1.0, mul(no_item, mul(mul(add(no_item, totalScanTimeInSeconds), mul(no_item, mul(mul(mul(no_item, mul(no_item, trust_1.0)), add(no_item, totalScanTimeInSeconds)), add(no_item, totalScanTimeInSeconds)))), mul(mul(max(totalScanTimeInSeconds, add(lineItemVoids, scansWithoutRegistration)), no_item), mul(mul(no_item, add(lineItemVoids, scansWithoutRegistration)), add(no_item, totalScanTimeInSeconds)))))),\n",
      " min(trust_1.0, mul(no_item, mul(mul(min(trust_1.0, mul(no_item, mul(mul(mul(mul(mul(no_item, mul(no_item, add(no_item, totalScanTimeInSeconds))), add(no_item, totalScanTimeInSeconds)), add(no_item, totalScanTimeInSeconds)), mul(no_item, add(no_item, totalScanTimeInSeconds))), mul(mul(max(totalScanTimeInSeconds, add(lineItemVoids, scansWithoutRegistration)), no_item), mul(mul(no_item, add(lineItemVoids, scansWithoutRegistration)), add(no_item, totalScanTimeInSeconds)))))), mul(mul(no_item, add(no_item, totalScanTimeInSeconds)), add(no_item, totalScanTimeInSeconds))), mul(mul(max(totalScanTimeInSeconds, add(lineItemVoids, scansWithoutRegistration)), no_item), mul(mul(add(lineItemVoids, scansWithoutRegistration), add(no_item, totalScanTimeInSeconds)), mul(mul(no_item, mul(no_item, add(no_item, totalScanTimeInSeconds))), add(no_item, totalScanTimeInSeconds))))))),\n",
      " min(trust_1.0, mul(mul(no_item, mul(mul(mul(mul(mul(no_item, mul(no_item, add(no_item, totalScanTimeInSeconds))), add(no_item, totalScanTimeInSeconds)), add(no_item, totalScanTimeInSeconds)), no_item), mul(mul(max(totalScanTimeInSeconds, add(lineItemVoids, scansWithoutRegistration)), no_item), mul(mul(add(lineItemVoids, scansWithoutRegistration), no_item), add(add(no_item, totalScanTimeInSeconds), totalScanTimeInSeconds))))), min(trust_1.0, mul(no_item, mul(mul(mul(mul(mul(no_item, mul(no_item, add(no_item, totalScanTimeInSeconds))), add(no_item, totalScanTimeInSeconds)), add(no_item, totalScanTimeInSeconds)), mul(no_item, add(no_item, totalScanTimeInSeconds))), mul(mul(max(totalScanTimeInSeconds, add(lineItemVoids, scansWithoutRegistration)), no_item), mul(mul(no_item, add(lineItemVoids, scansWithoutRegistration)), mul(mul(add(lineItemVoids, scansWithoutRegistration), no_item), add(no_item, totalScanTimeInSeconds))))))))),\n",
      " min(trust_1.0, mul(no_item, mul(mul(mul(mul(no_item, trust_1.0), add(no_item, totalScanTimeInSeconds)), mul(no_item, add(no_item, totalScanTimeInSeconds))), mul(mul(max(totalScanTimeInSeconds, mul(mul(add(lineItemVoids, scansWithoutRegistration), no_item), mul(mul(add(lineItemVoids, scansWithoutRegistration), add(no_item, totalScanTimeInSeconds)), add(no_item, totalScanTimeInSeconds)))), no_item), mul(mul(add(lineItemVoids, scansWithoutRegistration), no_item), mul(max(no_item, trust_other), add(no_item, totalScanTimeInSeconds))))))),\n",
      " min(trust_1.0, mul(mul(no_item, mul(mul(mul(mul(mul(no_item, mul(mul(no_item, add(no_item, totalScanTimeInSeconds)), trust_1.0)), add(no_item, totalScanTimeInSeconds)), mul(mul(mul(no_item, mul(mul(mul(no_item, add(no_item, totalScanTimeInSeconds)), mul(no_item, trust_1.0)), add(no_item, totalScanTimeInSeconds))), add(no_item, totalScanTimeInSeconds)), add(no_item, totalScanTimeInSeconds))), mul(no_item, trust_1.0)), mul(max(totalScanTimeInSeconds, add(lineItemVoids, scansWithoutRegistration)), mul(mul(add(lineItemVoids, scansWithoutRegistration), no_item), add(no_item, totalScanTimeInSeconds))))), mul(mul(mul(mul(mul(no_item, mul(no_item, add(no_item, totalScanTimeInSeconds))), add(no_item, totalScanTimeInSeconds)), add(no_item, totalScanTimeInSeconds)), mul(no_item, add(no_item, totalScanTimeInSeconds))), mul(mul(max(totalScanTimeInSeconds, add(lineItemVoids, scansWithoutRegistration)), no_item), mul(mul(no_item, add(lineItemVoids, scansWithoutRegistration)), add(no_item, totalScanTimeInSeconds)))))),\n",
      " min(trust_1.0, mul(no_item, mul(mul(mul(no_item, trust_1.0), mul(mul(no_item, mul(mul(add(no_item, totalScanTimeInSeconds), no_item), mul(mul(no_item, mul(no_item, add(no_item, totalScanTimeInSeconds))), add(no_item, totalScanTimeInSeconds)))), add(no_item, totalScanTimeInSeconds))), mul(mul(max(totalScanTimeInSeconds, add(lineItemVoids, scansWithoutRegistration)), no_item), mul(mul(add(lineItemVoids, scansWithoutRegistration), add(no_item, totalScanTimeInSeconds)), add(no_item, totalScanTimeInSeconds)))))),\n",
      " min(trust_1.0, mul(no_item, mul(mul(mul(mul(mul(mul(no_item, max(totalScanTimeInSeconds, mul(mul(max(totalScanTimeInSeconds, add(lineItemVoids, scansWithoutRegistration)), no_item), mul(mul(no_item, add(lineItemVoids, scansWithoutRegistration)), add(no_item, totalScanTimeInSeconds))))), add(no_item, totalScanTimeInSeconds)), add(no_item, totalScanTimeInSeconds)), mul(no_item, add(no_item, totalScanTimeInSeconds))), mul(no_item, add(no_item, totalScanTimeInSeconds))), mul(mul(max(totalScanTimeInSeconds, add(lineItemVoids, scansWithoutRegistration)), no_item), mul(mul(no_item, add(lineItemVoids, scansWithoutRegistration)), add(no_item, totalScanTimeInSeconds)))))),\n",
      " min(trust_1.0, mul(no_item, mul(mul(mul(mul(min(trust_1.0, mul(no_item, mul(mul(mul(mul(no_item, mul(no_item, add(no_item, totalScanTimeInSeconds))), add(no_item, totalScanTimeInSeconds)), add(no_item, totalScanTimeInSeconds)), mul(mul(max(totalScanTimeInSeconds, add(lineItemVoids, scansWithoutRegistration)), no_item), mul(mul(no_item, add(lineItemVoids, scansWithoutRegistration)), mul(mul(no_item, mul(no_item, add(no_item, totalScanTimeInSeconds))), add(no_item, totalScanTimeInSeconds))))))), mul(mul(add(no_item, totalScanTimeInSeconds), add(no_item, totalScanTimeInSeconds)), mul(no_item, add(no_item, totalScanTimeInSeconds)))), add(no_item, totalScanTimeInSeconds)), add(no_item, totalScanTimeInSeconds)), mul(mul(max(totalScanTimeInSeconds, add(lineItemVoids, scansWithoutRegistration)), no_item), mul(no_item, trust_1.0))))),\n",
      " min(trust_1.0, mul(no_item, mul(mul(mul(mul(mul(no_item, mul(no_item, add(no_item, totalScanTimeInSeconds))), add(no_item, totalScanTimeInSeconds)), add(no_item, totalScanTimeInSeconds)), mul(no_item, add(mul(no_item, add(lineItemVoids, scansWithoutRegistration)), totalScanTimeInSeconds))), mul(mul(max(totalScanTimeInSeconds, add(lineItemVoids, scansWithoutRegistration)), no_item), mul(mul(no_item, add(lineItemVoids, scansWithoutRegistration)), add(no_item, totalScanTimeInSeconds)))))),\n",
      " min(trust_1.0, mul(mul(mul(mul(mul(no_item, mul(no_item, trust_1.0)), add(no_item, totalScanTimeInSeconds)), mul(mul(mul(mul(no_item, trust_1.0), add(mul(mul(no_item, mul(no_item, add(no_item, totalScanTimeInSeconds))), add(no_item, totalScanTimeInSeconds)), totalScanTimeInSeconds)), trust_1.0), add(mul(no_item, mul(mul(mul(mul(mul(no_item, mul(no_item, add(no_item, totalScanTimeInSeconds))), add(no_item, totalScanTimeInSeconds)), add(no_item, totalScanTimeInSeconds)), mul(no_item, add(no_item, totalScanTimeInSeconds))), mul(mul(max(totalScanTimeInSeconds, add(lineItemVoids, scansWithoutRegistration)), no_item), mul(mul(no_item, add(lineItemVoids, scansWithoutRegistration)), mul(mul(add(lineItemVoids, scansWithoutRegistration), no_item), add(no_item, totalScanTimeInSeconds)))))), totalScanTimeInSeconds))), no_item), mul(mul(max(totalScanTimeInSeconds, add(lineItemVoids, scansWithoutRegistration)), no_item), mul(mul(no_item, add(lineItemVoids, scansWithoutRegistration)), add(no_item, totalScanTimeInSeconds))))),\n",
      " min(trust_1.0, mul(no_item, mul(mul(add(no_item, totalScanTimeInSeconds), mul(no_item, mul(mul(mul(no_item, mul(mul(no_item, add(no_item, totalScanTimeInSeconds)), add(no_item, totalScanTimeInSeconds))), add(no_item, totalScanTimeInSeconds)), add(no_item, totalScanTimeInSeconds)))), mul(mul(max(totalScanTimeInSeconds, add(lineItemVoids, scansWithoutRegistration)), no_item), mul(mul(no_item, add(lineItemVoids, scansWithoutRegistration)), add(no_item, totalScanTimeInSeconds)))))),\n",
      " min(trust_1.0, mul(no_item, mul(mul(mul(mul(add(lineItemVoids, scansWithoutRegistration), no_item), add(no_item, totalScanTimeInSeconds)), trust_1.0), mul(mul(add(lineItemVoids, scansWithoutRegistration), no_item), mul(mul(mul(mul(mul(mul(no_item, mul(mul(mul(mul(mul(no_item, mul(mul(mul(no_item, max(totalScanTimeInSeconds, mul(mul(add(lineItemVoids, scansWithoutRegistration), no_item), add(no_item, totalScanTimeInSeconds)))), mul(no_item, trust_1.0)), add(no_item, totalScanTimeInSeconds))), add(no_item, totalScanTimeInSeconds)), add(no_item, totalScanTimeInSeconds)), add(no_item, totalScanTimeInSeconds)), mul(mul(max(totalScanTimeInSeconds, add(lineItemVoids, scansWithoutRegistration)), no_item), add(lineItemVoids, scansWithoutRegistration)))), add(no_item, totalScanTimeInSeconds)), no_item), add(no_item, totalScanTimeInSeconds)), mul(mul(mul(no_item, mul(no_item, add(no_item, totalScanTimeInSeconds))), add(no_item, totalScanTimeInSeconds)), add(no_item, totalScanTimeInSeconds))), add(no_item, totalScanTimeInSeconds)))))),\n",
      " min(trust_1.0, mul(no_item, mul(mul(trust_1.0, mul(mul(no_item, mul(mul(mul(mul(no_item, trust_1.0), mul(mul(max(totalScanTimeInSeconds, add(lineItemVoids, scansWithoutRegistration)), no_item), add(no_item, totalScanTimeInSeconds))), add(no_item, totalScanTimeInSeconds)), no_item)), mul(max(totalScanTimeInSeconds, add(lineItemVoids, scansWithoutRegistration)), no_item))), mul(mul(max(totalScanTimeInSeconds, add(lineItemVoids, scansWithoutRegistration)), no_item), mul(add(no_item, totalScanTimeInSeconds), add(no_item, totalScanTimeInSeconds)))))),\n",
      " min(trust_1.0, min(trust_1.0, mul(no_item, mul(mul(mul(mul(mul(mul(no_item, add(lineItemVoids, scansWithoutRegistration)), add(no_item, totalScanTimeInSeconds)), no_item), add(no_item, totalScanTimeInSeconds)), trust_1.0), mul(mul(add(lineItemVoids, scansWithoutRegistration), no_item), mul(mul(mul(mul(mul(mul(mul(no_item, trust_1.0), add(lineItemVoids, scansWithoutRegistration)), add(no_item, totalScanTimeInSeconds)), no_item), add(no_item, totalScanTimeInSeconds)), mul(mul(no_item, trust_1.0), mul(mul(mul(mul(no_item, trust_1.0), max(totalScanTimeInSeconds, add(lineItemVoids, scansWithoutRegistration))), add(no_item, totalScanTimeInSeconds)), add(no_item, totalScanTimeInSeconds)))), add(no_item, totalScanTimeInSeconds))))))),\n",
      " min(trust_1.0, mul(no_item, mul(mul(mul(mul(mul(no_item, mul(no_item, mul(mul(max(totalScanTimeInSeconds, add(lineItemVoids, scansWithoutRegistration)), no_item), mul(add(no_item, totalScanTimeInSeconds), mul(add(no_item, totalScanTimeInSeconds), mul(mul(mul(no_item, trust_1.0), add(no_item, totalScanTimeInSeconds)), no_item)))))), add(no_item, totalScanTimeInSeconds)), add(no_item, totalScanTimeInSeconds)), mul(no_item, add(no_item, totalScanTimeInSeconds))), mul(mul(max(totalScanTimeInSeconds, add(lineItemVoids, scansWithoutRegistration)), no_item), mul(mul(no_item, add(lineItemVoids, scansWithoutRegistration)), add(no_item, totalScanTimeInSeconds)))))),\n",
      " min(trust_1.0, min(trust_1.0, mul(no_item, mul(mul(mul(mul(mul(no_item, mul(no_item, add(no_item, totalScanTimeInSeconds))), add(no_item, totalScanTimeInSeconds)), add(no_item, totalScanTimeInSeconds)), mul(no_item, add(no_item, totalScanTimeInSeconds))), mul(mul(mul(no_item, add(lineItemVoids, scansWithoutRegistration)), no_item), mul(add(lineItemVoids, scansWithoutRegistration), add(no_item, totalScanTimeInSeconds))))))),\n",
      " min(trust_1.0, mul(no_item, mul(mul(mul(mul(no_item, trust_1.0), add(no_item, totalScanTimeInSeconds)), mul(mul(mul(no_item, mul(mul(add(lineItemVoids, scansWithoutRegistration), no_item), mul(mul(no_item, mul(no_item, add(no_item, totalScanTimeInSeconds))), add(no_item, totalScanTimeInSeconds)))), add(no_item, totalScanTimeInSeconds)), add(no_item, totalScanTimeInSeconds))), mul(mul(max(totalScanTimeInSeconds, add(lineItemVoids, scansWithoutRegistration)), no_item), mul(mul(add(lineItemVoids, scansWithoutRegistration), add(no_item, totalScanTimeInSeconds)), add(no_item, totalScanTimeInSeconds)))))),\n",
      " min(trust_1.0, mul(no_item, mul(mul(mul(mul(mul(mul(no_item, trust_1.0), add(no_item, totalScanTimeInSeconds)), add(no_item, totalScanTimeInSeconds)), mul(no_item, mul(mul(no_item, add(lineItemVoids, scansWithoutRegistration)), add(no_item, totalScanTimeInSeconds)))), mul(no_item, add(no_item, totalScanTimeInSeconds))), mul(mul(max(totalScanTimeInSeconds, add(lineItemVoids, scansWithoutRegistration)), no_item), mul(mul(no_item, add(mul(mul(no_item, mul(mul(no_item, add(lineItemVoids, scansWithoutRegistration)), add(no_item, totalScanTimeInSeconds))), add(no_item, totalScanTimeInSeconds)), scansWithoutRegistration)), add(no_item, totalScanTimeInSeconds)))))),\n",
      " min(trust_1.0, mul(no_item, mul(mul(mul(mul(mul(no_item, mul(no_item, mul(mul(no_item, mul(no_item, add(no_item, totalScanTimeInSeconds))), add(no_item, totalScanTimeInSeconds)))), add(no_item, totalScanTimeInSeconds)), add(no_item, totalScanTimeInSeconds)), mul(no_item, add(no_item, totalScanTimeInSeconds))), mul(mul(max(totalScanTimeInSeconds, add(lineItemVoids, scansWithoutRegistration)), no_item), mul(mul(no_item, add(lineItemVoids, scansWithoutRegistration)), add(no_item, totalScanTimeInSeconds)))))),\n",
      " min(trust_1.0, mul(no_item, mul(mul(mul(mul(mul(mul(add(lineItemVoids, scansWithoutRegistration), no_item), add(no_item, totalScanTimeInSeconds)), no_item), add(no_item, totalScanTimeInSeconds)), trust_1.0), mul(mul(add(lineItemVoids, scansWithoutRegistration), no_item), mul(mul(mul(mul(mul(mul(mul(no_item, trust_1.0), add(lineItemVoids, scansWithoutRegistration)), add(no_item, totalScanTimeInSeconds)), no_item), add(no_item, totalScanTimeInSeconds)), mul(mul(no_item, trust_1.0), mul(mul(mul(mul(no_item, trust_1.0), trust_1.0), add(no_item, totalScanTimeInSeconds)), add(no_item, totalScanTimeInSeconds)))), add(no_item, totalScanTimeInSeconds)))))),\n",
      " min(trust_1.0, mul(no_item, mul(mul(mul(mul(mul(no_item, trust_1.0), max(totalScanTimeInSeconds, mul(mul(mul(add(lineItemVoids, scansWithoutRegistration), no_item), add(no_item, totalScanTimeInSeconds)), trust_1.0))), add(mul(no_item, trust_1.0), totalScanTimeInSeconds)), mul(mul(no_item, mul(mul(no_item, add(no_item, totalScanTimeInSeconds)), no_item)), add(no_item, totalScanTimeInSeconds))), mul(mul(max(totalScanTimeInSeconds, add(lineItemVoids, mul(no_item, no_item))), no_item), mul(mul(add(lineItemVoids, scansWithoutRegistration), add(no_item, totalScanTimeInSeconds)), add(no_item, totalScanTimeInSeconds)))))),\n",
      " min(trust_1.0, mul(no_item, mul(mul(mul(mul(mul(mul(no_item, trust_1.0), add(no_item, totalScanTimeInSeconds)), add(no_item, totalScanTimeInSeconds)), mul(no_item, add(no_item, totalScanTimeInSeconds))), mul(no_item, add(no_item, totalScanTimeInSeconds))), mul(mul(max(totalScanTimeInSeconds, add(scansWithoutRegistration, scansWithoutRegistration)), no_item), mul(mul(no_item, add(lineItemVoids, scansWithoutRegistration)), add(no_item, totalScanTimeInSeconds)))))),\n",
      " min(trust_1.0, mul(no_item, mul(mul(mul(max(no_item, trust_other), add(no_item, totalScanTimeInSeconds)), mul(mul(no_item, mul(mul(no_item, add(no_item, totalScanTimeInSeconds)), no_item)), add(no_item, totalScanTimeInSeconds))), mul(mul(max(totalScanTimeInSeconds, add(lineItemVoids, scansWithoutRegistration)), no_item), mul(mul(add(mul(mul(mul(mul(no_item, mul(no_item, add(no_item, totalScanTimeInSeconds))), add(no_item, totalScanTimeInSeconds)), add(no_item, totalScanTimeInSeconds)), mul(no_item, add(no_item, totalScanTimeInSeconds))), scansWithoutRegistration), add(no_item, totalScanTimeInSeconds)), mul(mul(no_item, add(lineItemVoids, scansWithoutRegistration)), add(no_item, totalScanTimeInSeconds))))))),\n",
      " min(trust_1.0, mul(no_item, mul(mul(trust_1.0, mul(mul(no_item, mul(mul(mul(mul(no_item, trust_1.0), mul(mul(max(totalScanTimeInSeconds, add(lineItemVoids, scansWithoutRegistration)), no_item), add(no_item, totalScanTimeInSeconds))), add(no_item, totalScanTimeInSeconds)), no_item)), add(no_item, totalScanTimeInSeconds))), mul(mul(max(totalScanTimeInSeconds, add(lineItemVoids, scansWithoutRegistration)), no_item), mul(add(no_item, totalScanTimeInSeconds), add(mul(no_item, mul(mul(mul(no_item, trust_1.0), mul(mul(no_item, mul(mul(add(no_item, totalScanTimeInSeconds), no_item), mul(mul(no_item, mul(no_item, add(no_item, totalScanTimeInSeconds))), add(no_item, totalScanTimeInSeconds)))), add(no_item, totalScanTimeInSeconds))), mul(mul(max(totalScanTimeInSeconds, add(lineItemVoids, scansWithoutRegistration)), no_item), mul(mul(add(lineItemVoids, scansWithoutRegistration), add(no_item, totalScanTimeInSeconds)), add(no_item, totalScanTimeInSeconds))))), totalScanTimeInSeconds)))))),\n",
      " min(trust_1.0, mul(no_item, mul(mul(mul(mul(mul(max(totalScanTimeInSeconds, add(no_item, scansWithoutRegistration)), no_item), add(no_item, totalScanTimeInSeconds)), mul(mul(add(lineItemVoids, scansWithoutRegistration), no_item), add(no_item, totalScanTimeInSeconds))), mul(mul(no_item, no_item), add(no_item, totalScanTimeInSeconds))), add(no_item, totalScanTimeInSeconds)))),\n",
      " min(trust_1.0, mul(no_item, mul(mul(mul(mul(mul(no_item, mul(mul(no_item, add(no_item, mul(add(no_item, totalScanTimeInSeconds), mul(add(no_item, totalScanTimeInSeconds), mul(mul(mul(no_item, trust_1.0), add(no_item, totalScanTimeInSeconds)), no_item))))), trust_1.0)), add(no_item, totalScanTimeInSeconds)), mul(mul(mul(no_item, mul(mul(mul(no_item, add(no_item, totalScanTimeInSeconds)), mul(no_item, trust_1.0)), add(no_item, totalScanTimeInSeconds))), add(no_item, totalScanTimeInSeconds)), add(no_item, totalScanTimeInSeconds))), mul(no_item, trust_1.0)), mul(max(totalScanTimeInSeconds, add(lineItemVoids, scansWithoutRegistration)), mul(mul(add(lineItemVoids, scansWithoutRegistration), no_item), add(no_item, totalScanTimeInSeconds)))))),\n",
      " min(trust_1.0, mul(no_item, mul(mul(mul(mul(mul(mul(no_item, trust_1.0), add(no_item, totalScanTimeInSeconds)), add(no_item, totalScanTimeInSeconds)), no_item), mul(no_item, add(no_item, totalScanTimeInSeconds))), mul(mul(max(totalScanTimeInSeconds, add(lineItemVoids, scansWithoutRegistration)), no_item), mul(mul(no_item, mul(add(lineItemVoids, scansWithoutRegistration), no_item)), add(no_item, totalScanTimeInSeconds)))))),\n",
      " min(trust_1.0, mul(mul(no_item, add(no_item, totalScanTimeInSeconds)), mul(mul(mul(mul(mul(no_item, trust_1.0), max(totalScanTimeInSeconds, add(lineItemVoids, scansWithoutRegistration))), add(mul(mul(mul(no_item, trust_1.0), mul(mul(max(totalScanTimeInSeconds, add(lineItemVoids, scansWithoutRegistration)), no_item), add(no_item, totalScanTimeInSeconds))), add(no_item, totalScanTimeInSeconds)), totalScanTimeInSeconds)), mul(no_item, add(no_item, totalScanTimeInSeconds))), mul(mul(add(lineItemVoids, scansWithoutRegistration), no_item), mul(mul(no_item, mul(no_item, add(no_item, totalScanTimeInSeconds))), add(no_item, totalScanTimeInSeconds)))))),\n",
      " min(trust_1.0, mul(no_item, mul(mul(mul(mul(no_item, mul(no_item, add(no_item, totalScanTimeInSeconds))), add(no_item, mul(trust_1.0, mul(mul(no_item, mul(mul(mul(mul(no_item, trust_1.0), mul(mul(max(totalScanTimeInSeconds, add(lineItemVoids, scansWithoutRegistration)), no_item), add(no_item, totalScanTimeInSeconds))), add(no_item, totalScanTimeInSeconds)), no_item)), add(no_item, totalScanTimeInSeconds))))), add(no_item, totalScanTimeInSeconds)), mul(mul(max(totalScanTimeInSeconds, add(lineItemVoids, scansWithoutRegistration)), no_item), mul(mul(no_item, add(lineItemVoids, scansWithoutRegistration)), mul(mul(no_item, mul(no_item, add(no_item, totalScanTimeInSeconds))), add(no_item, totalScanTimeInSeconds))))))),\n",
      " min(trust_1.0, mul(no_item, mul(mul(mul(mul(no_item, mul(mul(mul(mul(mul(mul(mul(no_item, add(lineItemVoids, scansWithoutRegistration)), add(no_item, totalScanTimeInSeconds)), no_item), add(no_item, totalScanTimeInSeconds)), mul(mul(add(lineItemVoids, scansWithoutRegistration), no_item), add(no_item, totalScanTimeInSeconds))), mul(mul(no_item, no_item), add(no_item, totalScanTimeInSeconds))), add(no_item, totalScanTimeInSeconds))), add(no_item, totalScanTimeInSeconds)), trust_1.0), mul(mul(add(lineItemVoids, scansWithoutRegistration), no_item), mul(mul(mul(mul(mul(mul(mul(no_item, trust_1.0), add(lineItemVoids, scansWithoutRegistration)), add(no_item, totalScanTimeInSeconds)), no_item), add(no_item, totalScanTimeInSeconds)), mul(mul(no_item, trust_1.0), mul(mul(mul(mul(no_item, trust_1.0), trust_1.0), add(no_item, totalScanTimeInSeconds)), add(no_item, totalScanTimeInSeconds)))), add(no_item, totalScanTimeInSeconds)))))),\n",
      " min(trust_1.0, mul(no_item, mul(mul(mul(mul(no_item, trust_1.0), add(no_item, totalScanTimeInSeconds)), mul(no_item, add(no_item, add(no_item, totalScanTimeInSeconds)))), mul(mul(max(totalScanTimeInSeconds, mul(mul(add(lineItemVoids, scansWithoutRegistration), no_item), mul(mul(add(lineItemVoids, scansWithoutRegistration), add(no_item, totalScanTimeInSeconds)), add(no_item, totalScanTimeInSeconds)))), no_item), mul(mul(add(lineItemVoids, scansWithoutRegistration), no_item), mul(max(no_item, trust_other), add(no_item, totalScanTimeInSeconds))))))),\n",
      " min(trust_1.0, mul(no_item, mul(mul(mul(mul(mul(no_item, mul(add(add(lineItemVoids, scansWithoutRegistration), totalScanTimeInSeconds), mul(no_item, add(no_item, totalScanTimeInSeconds)))), add(no_item, totalScanTimeInSeconds)), mul(no_item, mul(mul(no_item, trust_1.0), mul(add(no_item, totalScanTimeInSeconds), add(no_item, totalScanTimeInSeconds))))), no_item), mul(mul(max(totalScanTimeInSeconds, add(lineItemVoids, scansWithoutRegistration)), no_item), mul(mul(add(lineItemVoids, scansWithoutRegistration), no_item), add(no_item, totalScanTimeInSeconds)))))),\n",
      " min(trust_1.0, mul(mul(mul(no_item, add(add(no_item, totalScanTimeInSeconds), totalScanTimeInSeconds)), mul(no_item, add(no_item, totalScanTimeInSeconds))), mul(mul(add(lineItemVoids, scansWithoutRegistration), no_item), mul(mul(no_item, mul(mul(mul(mul(mul(add(no_item, totalScanTimeInSeconds), mul(no_item, mul(no_item, add(no_item, totalScanTimeInSeconds)))), add(no_item, totalScanTimeInSeconds)), add(no_item, totalScanTimeInSeconds)), mul(no_item, trust_1.0)), mul(mul(add(lineItemVoids, scansWithoutRegistration), no_item), mul(mul(add(lineItemVoids, scansWithoutRegistration), no_item), add(no_item, totalScanTimeInSeconds))))), mul(mul(mul(no_item, trust_1.0), add(mul(no_item, trust_1.0), totalScanTimeInSeconds)), add(no_item, totalScanTimeInSeconds)))))),\n",
      " min(trust_1.0, mul(no_item, mul(mul(mul(mul(no_item, trust_1.0), add(no_item, totalScanTimeInSeconds)), mul(no_item, add(no_item, totalScanTimeInSeconds))), mul(mul(max(totalScanTimeInSeconds, mul(mul(add(lineItemVoids, scansWithoutRegistration), no_item), mul(mul(add(lineItemVoids, scansWithoutRegistration), add(no_item, totalScanTimeInSeconds)), add(no_item, totalScanTimeInSeconds)))), no_item), mul(no_item, mul(mul(mul(mul(no_item, trust_1.0), mul(mul(no_item, add(lineItemVoids, scansWithoutRegistration)), add(no_item, totalScanTimeInSeconds))), add(no_item, totalScanTimeInSeconds)), no_item)))))),\n",
      " min(trust_1.0, mul(no_item, min(trust_1.0, mul(no_item, mul(mul(trust_1.0, mul(mul(no_item, add(lineItemVoids, scansWithoutRegistration)), add(no_item, totalScanTimeInSeconds))), mul(mul(max(totalScanTimeInSeconds, add(lineItemVoids, scansWithoutRegistration)), no_item), mul(add(no_item, totalScanTimeInSeconds), mul(add(no_item, totalScanTimeInSeconds), mul(mul(mul(no_item, trust_1.0), add(no_item, totalScanTimeInSeconds)), no_item))))))))),\n",
      " min(trust_1.0, mul(mul(mul(mul(no_item, trust_1.0), mul(mul(mul(mul(no_item, trust_1.0), add(no_item, totalScanTimeInSeconds)), trust_1.0), add(add(no_item, totalScanTimeInSeconds), totalScanTimeInSeconds))), no_item), mul(mul(max(totalScanTimeInSeconds, add(lineItemVoids, scansWithoutRegistration)), no_item), mul(mul(no_item, add(lineItemVoids, scansWithoutRegistration)), add(no_item, totalScanTimeInSeconds))))),\n",
      " min(trust_1.0, mul(no_item, mul(min(trust_1.0, mul(no_item, mul(mul(mul(max(no_item, trust_other), add(no_item, totalScanTimeInSeconds)), mul(mul(no_item, mul(mul(no_item, add(no_item, totalScanTimeInSeconds)), no_item)), add(no_item, totalScanTimeInSeconds))), mul(mul(max(totalScanTimeInSeconds, add(lineItemVoids, scansWithoutRegistration)), no_item), mul(mul(add(lineItemVoids, scansWithoutRegistration), mul(no_item, add(no_item, totalScanTimeInSeconds))), mul(mul(no_item, add(no_item, totalScanTimeInSeconds)), add(no_item, totalScanTimeInSeconds))))))), mul(mul(max(totalScanTimeInSeconds, add(lineItemVoids, scansWithoutRegistration)), no_item), mul(mul(add(lineItemVoids, scansWithoutRegistration), add(no_item, totalScanTimeInSeconds)), add(no_item, totalScanTimeInSeconds)))))),\n",
      " min(trust_1.0, mul(no_item, mul(mul(mul(mul(mul(no_item, mul(no_item, add(no_item, totalScanTimeInSeconds))), add(no_item, totalScanTimeInSeconds)), add(no_item, totalScanTimeInSeconds)), no_item), mul(mul(mul(mul(no_item, trust_1.0), mul(mul(no_item, mul(mul(add(no_item, totalScanTimeInSeconds), no_item), mul(mul(no_item, mul(no_item, add(no_item, totalScanTimeInSeconds))), add(no_item, totalScanTimeInSeconds)))), add(no_item, totalScanTimeInSeconds))), mul(mul(max(totalScanTimeInSeconds, add(lineItemVoids, scansWithoutRegistration)), no_item), mul(mul(add(lineItemVoids, scansWithoutRegistration), add(no_item, totalScanTimeInSeconds)), add(no_item, totalScanTimeInSeconds)))), mul(mul(add(lineItemVoids, scansWithoutRegistration), no_item), add(add(no_item, totalScanTimeInSeconds), totalScanTimeInSeconds)))))),\n",
      " min(trust_1.0, mul(mul(mul(mul(mul(no_item, mul(no_item, trust_1.0)), add(no_item, mul(no_item, trust_1.0))), mul(mul(mul(mul(no_item, trust_1.0), add(mul(mul(no_item, mul(no_item, add(no_item, totalScanTimeInSeconds))), add(no_item, totalScanTimeInSeconds)), totalScanTimeInSeconds)), trust_1.0), add(add(no_item, totalScanTimeInSeconds), totalScanTimeInSeconds))), no_item), mul(mul(max(totalScanTimeInSeconds, add(lineItemVoids, scansWithoutRegistration)), no_item), mul(mul(no_item, add(lineItemVoids, scansWithoutRegistration)), add(no_item, totalScanTimeInSeconds)))))]\n"
     ]
    }
   ],
   "source": [
    "# without drop\n",
    "GP, x_auto_manual = gp(X_manual_nodrop, y, 40, 40)\n",
    "print('without autogeneration')\n",
    "code_for_test(X_manual_nodrop,y)\n",
    "print('autogeneration')\n",
    "code_for_test(x_auto_manual, y)\n",
    "print('auto-features')\n",
    "print(GP)"
   ]
  },
  {
   "cell_type": "markdown",
   "metadata": {},
   "source": [
    "## semi-supervised\n"
   ]
  },
  {
   "cell_type": "code",
   "execution_count": 109,
   "metadata": {
    "scrolled": false
   },
   "outputs": [],
   "source": [
    "cv_cost_semi(X_manual, X_manual_test.iloc[:,:30000], y)"
   ]
  },
  {
   "cell_type": "markdown",
   "metadata": {},
   "source": [
    "## Define xgboost with cost sensitive\n",
    "1. better than original sgboost but worse than other algorithm \n",
    "2. best score 170"
   ]
  },
  {
   "cell_type": "code",
   "execution_count": 116,
   "metadata": {},
   "outputs": [
    {
     "name": "stdout",
     "output_type": "stream",
     "text": [
      "cost = 270\n"
     ]
    }
   ],
   "source": [
    "cv_cost_xg(X_manual, y, 3 ,100)"
   ]
  }
 ],
 "metadata": {
  "kernelspec": {
   "display_name": "Python 3",
   "language": "python",
   "name": "python3"
  },
  "language_info": {
   "codemirror_mode": {
    "name": "ipython",
    "version": 3
   },
   "file_extension": ".py",
   "mimetype": "text/x-python",
   "name": "python",
   "nbconvert_exporter": "python",
   "pygments_lexer": "ipython3",
   "version": "3.7.0"
  }
 },
 "nbformat": 4,
 "nbformat_minor": 2
}
