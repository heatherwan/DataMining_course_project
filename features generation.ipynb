{
 "cells": [
  {
   "cell_type": "code",
   "execution_count": 1,
   "metadata": {},
   "outputs": [],
   "source": [
    "import pandas as pd\n",
    "import numpy as np\n",
    "from sklearn import linear_model\n",
    "from sklearn.feature_selection import SelectKBest\n",
    "from sklearn.feature_selection import chi2\n",
    "from sklearn.feature_selection import f_classif\n",
    "from sklearn.feature_selection import mutual_info_classif\n",
    "from sklearn.feature_selection import RFE\n",
    "from sklearn.linear_model import LogisticRegression\n",
    "from sklearn.ensemble import RandomForestRegressor\n",
    "from sklearn.linear_model import Ridge\n",
    "from sklearn.linear_model import Lasso"
   ]
  },
  {
   "cell_type": "code",
   "execution_count": 2,
   "metadata": {},
   "outputs": [],
   "source": [
    "def pretty_print_coefs(coefs, names = None, sort = False):\n",
    "    if names == None:\n",
    "        names = [\"X%s\" % x for x in range(len(coefs))]\n",
    "    lst = zip(coefs, names)\n",
    "    if sort:\n",
    "        lst = sorted(lst,  key = lambda x:-np.abs(x[0]))\n",
    "    return \" + \".join(\"%s * %s\" % (round(coef, 3), name)\n",
    "                                   for coef, name in lst)\n"
   ]
  },
  {
   "cell_type": "code",
   "execution_count": 3,
   "metadata": {},
   "outputs": [],
   "source": [
    "df = pd.read_csv('data/train.csv', delimiter=\"|\")\n",
    "label = df['fraud']\n",
    "features = df.drop('fraud', axis=1)\n",
    "array = df.values\n",
    "attributes = df.columns[0:-1]\n",
    "# print(array)\n",
    "X = array[:,0:9]\n",
    "Y = array[:,9]"
   ]
  },
  {
   "cell_type": "code",
   "execution_count": 5,
   "metadata": {},
   "outputs": [
    {
     "data": {
      "text/plain": [
       "[(0.0432, 'trustLevel'),\n",
       " (0.0205, 'lineItemVoidsPerPosition'),\n",
       " (0.0147, 'scannedLineItemsPerSecond'),\n",
       " (0.0065, 'lineItemVoids'),\n",
       " (0.0059, 'scansWithoutRegistration'),\n",
       " (0.0011, 'valuePerSecond'),\n",
       " (0.0006, 'quantityModifications'),\n",
       " (0.0001, 'totalScanTimeInSeconds'),\n",
       " (0.0001, 'grandTotal')]"
      ]
     },
     "execution_count": 5,
     "metadata": {},
     "output_type": "execute_result"
    }
   ],
   "source": [
    "# Feature extraction with linear regression\n",
    "regr = linear_model.LinearRegression()\n",
    "regr.fit(X,Y)\n",
    "# Summarize scores\n",
    "sorted(zip(map(lambda x: round(x, 4), abs(regr.coef_)), attributes), reverse=True)"
   ]
  },
  {
   "cell_type": "code",
   "execution_count": 6,
   "metadata": {},
   "outputs": [
    {
     "data": {
      "text/plain": [
       "[(6903.0975, 'totalScanTimeInSeconds'),\n",
       " (164.9444, 'trustLevel'),\n",
       " (36.0422, 'lineItemVoidsPerPosition'),\n",
       " (20.7397, 'scansWithoutRegistration'),\n",
       " (16.4871, 'lineItemVoids'),\n",
       " (11.973, 'valuePerSecond'),\n",
       " (1.3354, 'scannedLineItemsPerSecond'),\n",
       " (0.0624, 'grandTotal'),\n",
       " (0.0016, 'quantityModifications')]"
      ]
     },
     "execution_count": 6,
     "metadata": {},
     "output_type": "execute_result"
    }
   ],
   "source": [
    "# Feature extraction with chi square\n",
    "test = SelectKBest(score_func=chi2, k=3) # choose top3\n",
    "fit = test.fit(X, Y)\n",
    "# Summarize scores\n",
    "sorted(zip(map(lambda x: round(x, 4), fit.scores_), attributes), reverse=True)"
   ]
  },
  {
   "cell_type": "code",
   "execution_count": 7,
   "metadata": {},
   "outputs": [
    {
     "data": {
      "text/plain": [
       "[(213.782, 'trustLevel'),\n",
       " (23.1653, 'totalScanTimeInSeconds'),\n",
       " (15.3679, 'lineItemVoidsPerPosition'),\n",
       " (10.3695, 'scansWithoutRegistration'),\n",
       " (7.5983, 'lineItemVoids'),\n",
       " (1.566, 'valuePerSecond'),\n",
       " (1.0008, 'scannedLineItemsPerSecond'),\n",
       " (0.0038, 'grandTotal'),\n",
       " (0.0014, 'quantityModifications')]"
      ]
     },
     "execution_count": 7,
     "metadata": {},
     "output_type": "execute_result"
    }
   ],
   "source": [
    "# Feature extraction with f score\n",
    "test = SelectKBest(score_func=f_classif, k=3) # choose top3\n",
    "fit = test.fit(X, Y)\n",
    "# Summarize scores\n",
    "features = fit.transform(X)\n",
    "sorted(zip(map(lambda x: round(x, 4), fit.scores_), attributes), reverse=True)"
   ]
  },
  {
   "cell_type": "code",
   "execution_count": 8,
   "metadata": {},
   "outputs": [
    {
     "data": {
      "text/plain": [
       "[(0.0759, 'trustLevel'),\n",
       " (0.0331, 'scannedLineItemsPerSecond'),\n",
       " (0.031, 'lineItemVoidsPerPosition'),\n",
       " (0.0088, 'totalScanTimeInSeconds'),\n",
       " (0.0049, 'scansWithoutRegistration'),\n",
       " (0.0044, 'valuePerSecond'),\n",
       " (0.0026, 'lineItemVoids'),\n",
       " (0.0, 'quantityModifications'),\n",
       " (0.0, 'grandTotal')]"
      ]
     },
     "execution_count": 8,
     "metadata": {},
     "output_type": "execute_result"
    }
   ],
   "source": [
    "# Feature extraction with mutual information\n",
    "test = SelectKBest(score_func=mutual_info_classif, k=3) # choose top3\n",
    "fit = test.fit(X, Y)\n",
    "# Summarize scores\n",
    "features = fit.transform(X)\n",
    "sorted(zip(map(lambda x: round(x, 4), fit.scores_), attributes), reverse=True)"
   ]
  },
  {
   "cell_type": "code",
   "execution_count": 9,
   "metadata": {},
   "outputs": [
    {
     "name": "stdout",
     "output_type": "stream",
     "text": [
      "Num Features: 3\n",
      "Feature Ranking: [1 7 6 3 4 5 2 1 1]\n"
     ]
    },
    {
     "data": {
      "text/plain": [
       "[(1, 'lineItemVoidsPerPosition'),\n",
       " (1, 'trustLevel'),\n",
       " (1, 'valuePerSecond'),\n",
       " (2, 'scannedLineItemsPerSecond'),\n",
       " (3, 'lineItemVoids'),\n",
       " (4, 'scansWithoutRegistration'),\n",
       " (5, 'quantityModifications'),\n",
       " (6, 'grandTotal'),\n",
       " (7, 'totalScanTimeInSeconds')]"
      ]
     },
     "execution_count": 9,
     "metadata": {},
     "output_type": "execute_result"
    }
   ],
   "source": [
    "# Feature extraction with logistic regression\n",
    "model = LogisticRegression(solver='lbfgs', max_iter=300)\n",
    "rfe = RFE(model, 3)\n",
    "fit = rfe.fit(X, Y)\n",
    "print(\"Num Features: %s\" % (fit.n_features_))\n",
    "print(\"Feature Ranking: %s\" % (fit.ranking_))\n",
    "sorted(zip(map(lambda x: round(x, 4), fit.ranking_), attributes), reverse=False)"
   ]
  },
  {
   "cell_type": "code",
   "execution_count": 10,
   "metadata": {},
   "outputs": [
    {
     "name": "stdout",
     "output_type": "stream",
     "text": [
      "Ridge model: -0.043 * X0 + 0.0 * X1 + 0.0 * X2 + 0.007 * X3 + 0.006 * X4 + 0.001 * X5 + 0.014 * X6 + -0.001 * X7 + -0.02 * X8\n"
     ]
    },
    {
     "data": {
      "text/plain": [
       "[(0.0432, 'trustLevel'),\n",
       " (0.0205, 'lineItemVoidsPerPosition'),\n",
       " (0.0145, 'scannedLineItemsPerSecond'),\n",
       " (0.0065, 'lineItemVoids'),\n",
       " (0.0059, 'scansWithoutRegistration'),\n",
       " (0.001, 'valuePerSecond'),\n",
       " (0.0006, 'quantityModifications'),\n",
       " (0.0001, 'totalScanTimeInSeconds'),\n",
       " (0.0001, 'grandTotal')]"
      ]
     },
     "execution_count": 10,
     "metadata": {},
     "output_type": "execute_result"
    }
   ],
   "source": [
    "# Feature extraction with ridge regularization regression\n",
    "ridge = Ridge(alpha=1.0)\n",
    "ridge.fit(X,Y)\n",
    "# Summarize scores\n",
    "print (\"Ridge model:\", pretty_print_coefs(ridge.coef_))\n",
    "sorted(zip(map(lambda x: round(x, 4), abs(ridge.coef_)), attributes), reverse=True)"
   ]
  },
  {
   "cell_type": "code",
   "execution_count": 11,
   "metadata": {},
   "outputs": [
    {
     "name": "stdout",
     "output_type": "stream",
     "text": [
      "lasso model: -0.0 * X0 + 0.0 * X1 + 0.0 * X2 + 0.0 * X3 + 0.0 * X4 + 0.0 * X5 + 0.0 * X6 + -0.0 * X7 + -0.0 * X8\n"
     ]
    },
    {
     "data": {
      "text/plain": [
       "[(0.0, 'valuePerSecond'),\n",
       " (0.0, 'trustLevel'),\n",
       " (0.0, 'totalScanTimeInSeconds'),\n",
       " (0.0, 'scansWithoutRegistration'),\n",
       " (0.0, 'scannedLineItemsPerSecond'),\n",
       " (0.0, 'quantityModifications'),\n",
       " (0.0, 'lineItemVoidsPerPosition'),\n",
       " (0.0, 'lineItemVoids'),\n",
       " (0.0, 'grandTotal')]"
      ]
     },
     "execution_count": 11,
     "metadata": {},
     "output_type": "execute_result"
    }
   ],
   "source": [
    "# Feature extraction with Lasso regularization regression\n",
    "lasso = Lasso()\n",
    "lasso.fit(X,Y)\n",
    "# Summarize scores\n",
    "print (\"lasso model:\", pretty_print_coefs(lasso.coef_))\n",
    "sorted(zip(map(lambda x: round(x, 4), abs(lasso.coef_)), attributes), reverse=True)"
   ]
  },
  {
   "cell_type": "code",
   "execution_count": 12,
   "metadata": {},
   "outputs": [
    {
     "data": {
      "text/plain": [
       "[(0.2361, 'scannedLineItemsPerSecond'),\n",
       " (0.2014, 'totalScanTimeInSeconds'),\n",
       " (0.1966, 'trustLevel'),\n",
       " (0.1258, 'lineItemVoidsPerPosition'),\n",
       " (0.0843, 'lineItemVoids'),\n",
       " (0.0536, 'valuePerSecond'),\n",
       " (0.0511, 'scansWithoutRegistration'),\n",
       " (0.037, 'grandTotal'),\n",
       " (0.0142, 'quantityModifications')]"
      ]
     },
     "execution_count": 12,
     "metadata": {},
     "output_type": "execute_result"
    }
   ],
   "source": [
    "# Feature extraction with randomforest\n",
    "rf = RandomForestRegressor(n_estimators=100)\n",
    "rf.fit(X, Y)\n",
    "sorted(zip(map(lambda x: round(x, 4), rf.feature_importances_), attributes), reverse=True)"
   ]
  }
 ],
 "metadata": {
  "kernelspec": {
   "display_name": "Python 3",
   "language": "python",
   "name": "python3"
  },
  "language_info": {
   "codemirror_mode": {
    "name": "ipython",
    "version": 3
   },
   "file_extension": ".py",
   "mimetype": "text/x-python",
   "name": "python",
   "nbconvert_exporter": "python",
   "pygments_lexer": "ipython3",
   "version": "3.7.0"
  }
 },
 "nbformat": 4,
 "nbformat_minor": 2
}
