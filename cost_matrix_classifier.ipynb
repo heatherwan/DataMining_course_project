{
 "cells": [
  {
   "cell_type": "code",
   "execution_count": 36,
   "metadata": {},
   "outputs": [],
   "source": [
    "import pandas as pd\n",
    "import numpy as np\n",
    "from sklearn.preprocessing import StandardScaler\n",
    "import matplotlib.pyplot as plt\n",
    "%matplotlib inline\n",
    "from classifiers import *"
   ]
  },
  {
   "cell_type": "code",
   "execution_count": 37,
   "metadata": {},
   "outputs": [
    {
     "name": "stdout",
     "output_type": "stream",
     "text": [
      "Train set has 1879 entries and 10 features\n",
      "Test set has 498121 entries and 9 features\n"
     ]
    }
   ],
   "source": [
    "train_data = pd.read_csv('data/train.csv', sep = '|')\n",
    "test_data = pd.read_csv('data/test.csv', sep = '|')\n",
    "print(f'Train set has {train_data.shape[0]} entries and {train_data.shape[1]} features')\n",
    "print(f'Test set has {test_data.shape[0]} entries and {test_data.shape[1]} features')\n",
    "# print(f'attributes: \\n {test_data.columns}')\n",
    "# print(f'types: \\n {train_data.dtypes}')"
   ]
  },
  {
   "cell_type": "code",
   "execution_count": 38,
   "metadata": {},
   "outputs": [],
   "source": [
    "# encode category feature\n",
    "X_train = pd.get_dummies(train_data, columns=['trustLevel'], prefix='trustLevel')\n",
    "X_train = X_train.drop(columns=['fraud'])\n",
    "X_test = pd.get_dummies(test_data, columns=['trustLevel'], prefix='trustLevel')\n",
    "y = train_data['fraud']"
   ]
  },
  {
   "cell_type": "code",
   "execution_count": 39,
   "metadata": {
    "scrolled": false
   },
   "outputs": [
    {
     "name": "stderr",
     "output_type": "stream",
     "text": [
      "/usr/local/lib/python3.7/site-packages/sklearn/preprocessing/data.py:617: DataConversionWarning: Data with input dtype uint8, int64, float64 were all converted to float64 by StandardScaler.\n",
      "  return self.partial_fit(X, y)\n",
      "/usr/local/lib/python3.7/site-packages/sklearn/base.py:462: DataConversionWarning: Data with input dtype uint8, int64, float64 were all converted to float64 by StandardScaler.\n",
      "  return self.fit(X, **fit_params).transform(X)\n"
     ]
    }
   ],
   "source": [
    "# normalize \n",
    "X = X_train.append(X_test)\n",
    "X_train_norm = StandardScaler().fit_transform(X)\n",
    "X_norm = X_train_norm[:1879,:]\n",
    "X_test_norm = X_train_norm[1879:,:]\n"
   ]
  },
  {
   "cell_type": "code",
   "execution_count": null,
   "metadata": {},
   "outputs": [
    {
     "name": "stdout",
     "output_type": "stream",
     "text": [
      "Naive Bayes: test core = -11340 \n",
      "K Nerest Neighbors: test core = -1700 \n",
      "Linear SVM: test core = -520 \n",
      "RBF SVM: test core = -520 \n"
     ]
    },
    {
     "name": "stderr",
     "output_type": "stream",
     "text": [
      "/usr/local/lib/python3.7/site-packages/sklearn/gaussian_process/gpc.py:413: RuntimeWarning: overflow encountered in exp\n",
      "  - np.log(np.diag(L)).sum()\n"
     ]
    }
   ],
   "source": [
    "evaluate_classification(X_norm, y)\n",
    "# positive class is not predicted in Random Forest => should check balance labels"
   ]
  },
  {
   "cell_type": "markdown",
   "metadata": {},
   "source": [
    "<h2> Try xgboost with cost sensitive </h2>"
   ]
  },
  {
   "cell_type": "code",
   "execution_count": 32,
   "metadata": {},
   "outputs": [],
   "source": [
    "#!/usr/bin/python\n",
    "import numpy as np\n",
    "import xgboost as xgb\n",
    "from sklearn.model_selection import train_test_split\n",
    "from sklearn.metrics import mean_squared_error\n",
    "\n",
    "def logistic_obj(y_hat, dtrain, alpha=5, beta=25): # alpha for FN beta for FP\n",
    "    y = dtrain.get_label()\n",
    "    pred = 1. / (1. + np.exp(-y_hat))\n",
    "    grad = pred * (beta + alpha*y - beta*y) - alpha*y  # alpha*(p-1)*y + beta*p*(1-y)\n",
    "    hess = pred * (1 - pred) * (beta + alpha*y - beta*y)\n",
    "    return grad, hess\n",
    "\n",
    "def err_rate(pred, dtrain):\n",
    "    y = dtrain.get_label()\n",
    "    pred = 1. / (1. + np.exp(-pred))\n",
    "    loss_fn = y*np.log(pred)\n",
    "    loss_fp = (1.0 - y)*np.log(1.0 - pred)\n",
    "    return 'error', np.sum(-(5*loss_fn+25*loss_fp))/len(y)\n",
    "\n"
   ]
  },
  {
   "cell_type": "code",
   "execution_count": 48,
   "metadata": {
    "scrolled": false
   },
   "outputs": [
    {
     "name": "stdout",
     "output_type": "stream",
     "text": [
      "[0]\teval-rmse:2.13458\ttrain-rmse:2.10701\teval-error:3.60496\ttrain-error:2.82673\n",
      "[1]\teval-rmse:3.19775\ttrain-rmse:3.17288\teval-error:2.72454\ttrain-error:0.984047\n",
      "[2]\teval-rmse:4.16468\ttrain-rmse:4.17326\teval-error:2.06821\ttrain-error:0.359491\n",
      "[3]\teval-rmse:5.09802\ttrain-rmse:5.12145\teval-error:1.54672\ttrain-error:0.149323\n",
      "[4]\teval-rmse:6.01971\ttrain-rmse:6.04156\teval-error:1.54653\ttrain-error:0.064146\n",
      "[5]\teval-rmse:6.87529\ttrain-rmse:6.90585\teval-error:1.43376\ttrain-error:0.03263\n",
      "[6]\teval-rmse:7.68033\ttrain-rmse:7.70648\teval-error:1.37229\ttrain-error:0.019419\n",
      "[7]\teval-rmse:8.30954\ttrain-rmse:8.34334\teval-error:1.33709\ttrain-error:0.013175\n",
      "[8]\teval-rmse:8.84312\ttrain-rmse:8.86081\teval-error:1.21554\ttrain-error:0.010303\n",
      "[9]\teval-rmse:9.11996\ttrain-rmse:9.16637\teval-error:1.2562\ttrain-error:0.008685\n",
      "<xgboost.core.Booster object at 0x11dc060f0>\n",
      "cost = -130\n"
     ]
    }
   ],
   "source": [
    "# prepare input data\n",
    "X_train, X_test, y_train, y_test = train_test_split(X_norm, y, test_size=0.3, random_state=42)\n",
    "\n",
    "def cross_validate(X_train, X_test, y_train, y_test,depth):\n",
    "    # load data\n",
    "    d_train = xgb.DMatrix(X_train, label=y_train)\n",
    "    d_val = xgb.DMatrix(X_test, label=y_test)\n",
    "    # build model\n",
    "    param = {'max_depth': depth, 'eta': 1, 'silent': 1, 'seed': 0}\n",
    "    watchlist = [(d_val, 'eval'), (d_train, 'train')]\n",
    "    num_round = 10\n",
    "    model_trn = xgb.train(param, d_train, num_round, watchlist, obj=logistic_obj, feval=err_rate)\n",
    "#     model_trn = xgb.cv(param, d_train, num_round, nfold=10, obj=logistic_obj, feval=profit_scorer)\n",
    "\n",
    "    print(model_trn)\n",
    "    # prediction\n",
    "    pred = model_trn.predict(d_val) \n",
    "    pred = 1. / (1. + np.exp(-pred))\n",
    "#     print(pred)\n",
    "    return pred\n",
    "\n",
    "pred = cross_validate(X_train, X_test, y_train, y_test,10)\n",
    "print(f'cost = {profit_scorer(y_test, pred>0.5)}')"
   ]
  },
  {
   "cell_type": "code",
   "execution_count": 49,
   "metadata": {
    "scrolled": false
   },
   "outputs": [
    {
     "name": "stdout",
     "output_type": "stream",
     "text": [
      "[0]\teval-rmse:2.14601\ttrain-rmse:2.168\teval-error:3.25119\ttrain-error:3.40013\n",
      "[1]\teval-rmse:3.13491\ttrain-rmse:3.15575\teval-error:1.73549\ttrain-error:2.00125\n",
      "[2]\teval-rmse:3.87272\ttrain-rmse:3.89306\teval-error:1.33509\ttrain-error:1.67685\n",
      "[3]\teval-rmse:4.28143\ttrain-rmse:4.3016\teval-error:1.24835\ttrain-error:1.63015\n",
      "[4]\teval-rmse:4.38731\ttrain-rmse:4.40742\teval-error:1.23618\ttrain-error:1.6282\n",
      "[5]\teval-rmse:4.39341\ttrain-rmse:4.4135\teval-error:1.23559\ttrain-error:1.62819\n",
      "[6]\teval-rmse:4.39342\ttrain-rmse:4.41358\teval-error:1.23558\ttrain-error:1.62819\n",
      "[7]\teval-rmse:4.39342\ttrain-rmse:4.41358\teval-error:1.23558\ttrain-error:1.62819\n",
      "[8]\teval-rmse:4.39342\ttrain-rmse:4.41358\teval-error:1.23558\ttrain-error:1.62819\n",
      "[9]\teval-rmse:4.39342\ttrain-rmse:4.41358\teval-error:1.23558\ttrain-error:1.62819\n",
      "<xgboost.core.Booster object at 0x11dc0d7f0>\n",
      "depth 1 = -600\n",
      "[0]\teval-rmse:2.13907\ttrain-rmse:2.15315\teval-error:3.2253\ttrain-error:3.3436\n",
      "[1]\teval-rmse:3.15016\ttrain-rmse:3.15193\teval-error:1.66132\ttrain-error:1.84188\n",
      "[2]\teval-rmse:4.03066\ttrain-rmse:4.01766\teval-error:1.20097\ttrain-error:1.38588\n",
      "[3]\teval-rmse:4.44752\ttrain-rmse:4.48136\teval-error:1.06533\ttrain-error:1.23616\n",
      "[4]\teval-rmse:5.13976\ttrain-rmse:5.15513\teval-error:1.03049\ttrain-error:1.13174\n",
      "[5]\teval-rmse:5.23492\ttrain-rmse:5.19048\teval-error:0.971982\ttrain-error:1.06394\n",
      "[6]\teval-rmse:5.44596\ttrain-rmse:5.43986\teval-error:0.866357\ttrain-error:0.962844\n",
      "[7]\teval-rmse:5.57632\ttrain-rmse:5.54376\teval-error:0.833573\ttrain-error:0.914328\n",
      "[8]\teval-rmse:5.85552\ttrain-rmse:5.89189\teval-error:0.808403\ttrain-error:0.866\n",
      "[9]\teval-rmse:5.9252\ttrain-rmse:5.93103\teval-error:0.806302\ttrain-error:0.82545\n",
      "<xgboost.core.Booster object at 0x11dc0d7f0>\n",
      "depth 2 = -480\n",
      "[0]\teval-rmse:2.12896\ttrain-rmse:2.14099\teval-error:3.22641\ttrain-error:3.29492\n",
      "[1]\teval-rmse:3.13371\ttrain-rmse:3.13443\teval-error:1.63055\ttrain-error:1.73415\n",
      "[2]\teval-rmse:4.02279\ttrain-rmse:4.01153\teval-error:1.12108\ttrain-error:1.18354\n",
      "[3]\teval-rmse:4.84342\ttrain-rmse:4.81207\teval-error:0.95964\ttrain-error:0.96168\n",
      "[4]\teval-rmse:5.23858\ttrain-rmse:5.27139\teval-error:0.852393\ttrain-error:0.830475\n",
      "[5]\teval-rmse:5.62915\ttrain-rmse:5.68781\teval-error:0.771599\ttrain-error:0.728873\n",
      "[6]\teval-rmse:6.3808\ttrain-rmse:6.4235\teval-error:0.75131\ttrain-error:0.628321\n",
      "[7]\teval-rmse:6.73002\ttrain-rmse:6.75297\teval-error:0.627351\ttrain-error:0.531422\n",
      "[8]\teval-rmse:7.02391\ttrain-rmse:7.04675\teval-error:0.636706\ttrain-error:0.482699\n",
      "[9]\teval-rmse:7.36317\ttrain-rmse:7.3472\teval-error:0.656732\ttrain-error:0.444042\n",
      "<xgboost.core.Booster object at 0x11dc0d7f0>\n",
      "depth 3 = -305\n",
      "[0]\teval-rmse:2.12887\ttrain-rmse:2.1286\teval-error:3.21544\ttrain-error:3.1859\n",
      "[1]\teval-rmse:3.15036\ttrain-rmse:3.14648\teval-error:1.71133\ttrain-error:1.46696\n",
      "[2]\teval-rmse:4.09411\ttrain-rmse:4.07482\teval-error:1.02826\ttrain-error:0.859635\n",
      "[3]\teval-rmse:4.97101\ttrain-rmse:4.92696\teval-error:0.779856\ttrain-error:0.596827\n",
      "[4]\teval-rmse:5.57199\ttrain-rmse:5.49507\teval-error:0.697704\ttrain-error:0.48413\n",
      "[5]\teval-rmse:6.35541\ttrain-rmse:6.26079\teval-error:0.63095\ttrain-error:0.356499\n",
      "[6]\teval-rmse:6.88564\ttrain-rmse:6.76408\teval-error:0.5585\ttrain-error:0.281417\n",
      "[7]\teval-rmse:7.72592\ttrain-rmse:7.59762\teval-error:0.502516\ttrain-error:0.220325\n",
      "[8]\teval-rmse:8.12076\ttrain-rmse:7.96823\teval-error:0.429127\ttrain-error:0.169195\n",
      "[9]\teval-rmse:8.84006\ttrain-rmse:8.7048\teval-error:0.469229\ttrain-error:0.131705\n",
      "<xgboost.core.Booster object at 0x11dc0d828>\n",
      "depth 4 = -130\n",
      "[0]\teval-rmse:2.13938\ttrain-rmse:2.13202\teval-error:3.46904\ttrain-error:3.11849\n",
      "[1]\teval-rmse:3.1644\ttrain-rmse:3.16687\teval-error:1.97492\ttrain-error:1.35255\n",
      "[2]\teval-rmse:4.09199\ttrain-rmse:4.11629\teval-error:1.4809\ttrain-error:0.670745\n",
      "[3]\teval-rmse:4.97573\ttrain-rmse:4.99484\teval-error:1.1665\ttrain-error:0.398704\n",
      "[4]\teval-rmse:5.86049\ttrain-rmse:5.84708\teval-error:1.10281\ttrain-error:0.282517\n",
      "[5]\teval-rmse:6.53104\ttrain-rmse:6.5036\teval-error:1.05501\ttrain-error:0.351921\n",
      "[6]\teval-rmse:7.41575\ttrain-rmse:7.40138\teval-error:0.980332\ttrain-error:0.130754\n",
      "[7]\teval-rmse:8.32041\ttrain-rmse:8.28935\teval-error:1.09119\ttrain-error:0.081061\n",
      "[8]\teval-rmse:8.99161\ttrain-rmse:9.00609\teval-error:1.08784\ttrain-error:0.056031\n",
      "[9]\teval-rmse:9.37599\ttrain-rmse:9.3691\teval-error:0.998642\ttrain-error:0.046713\n",
      "<xgboost.core.Booster object at 0x11dc0d630>\n",
      "depth 5 = -80\n",
      "[0]\teval-rmse:2.13468\ttrain-rmse:2.12518\teval-error:3.47923\ttrain-error:3.06412\n",
      "[1]\teval-rmse:3.17259\ttrain-rmse:3.16615\teval-error:1.95735\ttrain-error:1.24902\n",
      "[2]\teval-rmse:4.14112\ttrain-rmse:4.13152\teval-error:1.41009\ttrain-error:0.526042\n",
      "[3]\teval-rmse:5.05345\ttrain-rmse:5.02001\teval-error:1.08137\ttrain-error:0.267432\n",
      "[4]\teval-rmse:5.97694\ttrain-rmse:5.94274\teval-error:0.885451\ttrain-error:0.138273\n",
      "[5]\teval-rmse:6.83009\ttrain-rmse:6.79066\teval-error:0.891147\ttrain-error:0.078031\n",
      "[6]\teval-rmse:7.65747\ttrain-rmse:7.60062\teval-error:0.748773\ttrain-error:0.046497\n",
      "[7]\teval-rmse:8.40807\ttrain-rmse:8.34909\teval-error:0.702845\ttrain-error:0.028606\n",
      "[8]\teval-rmse:8.82309\ttrain-rmse:8.77723\teval-error:0.682208\ttrain-error:0.021529\n",
      "[9]\teval-rmse:9.40296\ttrain-rmse:9.34792\teval-error:0.72665\ttrain-error:0.01641\n",
      "<xgboost.core.Booster object at 0x11dc0db38>\n",
      "depth 6 = -55\n",
      "[0]\teval-rmse:2.13114\ttrain-rmse:2.11727\teval-error:3.47705\ttrain-error:2.96672\n",
      "[1]\teval-rmse:3.16588\ttrain-rmse:3.17247\teval-error:1.75236\ttrain-error:1.14539\n",
      "[2]\teval-rmse:4.16959\ttrain-rmse:4.15159\teval-error:1.28409\ttrain-error:0.419692\n",
      "[3]\teval-rmse:5.11424\ttrain-rmse:5.09521\teval-error:1.00347\ttrain-error:0.16752\n",
      "[4]\teval-rmse:6.01527\ttrain-rmse:6.00443\teval-error:0.949801\ttrain-error:0.079094\n",
      "[5]\teval-rmse:6.89127\ttrain-rmse:6.87209\teval-error:0.887255\ttrain-error:0.040317\n",
      "[6]\teval-rmse:7.68481\ttrain-rmse:7.66576\teval-error:0.766668\ttrain-error:0.024519\n",
      "[7]\teval-rmse:8.27676\ttrain-rmse:8.29634\teval-error:0.769699\ttrain-error:0.017505\n",
      "[8]\teval-rmse:8.89642\ttrain-rmse:8.90868\teval-error:0.720589\ttrain-error:0.013053\n",
      "[9]\teval-rmse:9.19645\ttrain-rmse:9.2206\teval-error:0.681152\ttrain-error:0.010923\n",
      "<xgboost.core.Booster object at 0x11d6a0860>\n",
      "depth 7 = -135\n",
      "[0]\teval-rmse:2.1367\ttrain-rmse:2.11836\teval-error:3.63441\ttrain-error:2.92579\n",
      "[1]\teval-rmse:3.15749\ttrain-rmse:3.17305\teval-error:2.05018\ttrain-error:1.08785\n",
      "[2]\teval-rmse:4.13849\ttrain-rmse:4.16174\teval-error:1.58898\ttrain-error:0.373501\n",
      "[3]\teval-rmse:5.069\ttrain-rmse:5.10429\teval-error:1.07952\ttrain-error:0.159217\n",
      "[4]\teval-rmse:5.97893\ttrain-rmse:6.01936\teval-error:0.970136\ttrain-error:0.069776\n",
      "[5]\teval-rmse:6.85978\ttrain-rmse:6.88588\teval-error:0.918276\ttrain-error:0.036134\n",
      "[6]\teval-rmse:7.62562\ttrain-rmse:7.65714\teval-error:0.955305\ttrain-error:0.021351\n",
      "[7]\teval-rmse:8.34294\ttrain-rmse:8.36189\teval-error:0.925008\ttrain-error:0.014381\n",
      "[8]\teval-rmse:8.78877\ttrain-rmse:8.82325\teval-error:0.910732\ttrain-error:0.010901\n",
      "[9]\teval-rmse:9.30529\ttrain-rmse:9.32371\teval-error:0.899098\ttrain-error:0.009152\n",
      "<xgboost.core.Booster object at 0x11dc0da58>\n",
      "depth 8 = -95\n",
      "[0]\teval-rmse:2.13523\ttrain-rmse:2.11234\teval-error:3.59784\ttrain-error:2.89766\n",
      "[1]\teval-rmse:3.18723\ttrain-rmse:3.17459\teval-error:2.05354\ttrain-error:0.998708\n",
      "[2]\teval-rmse:4.17234\ttrain-rmse:4.16789\teval-error:1.23719\ttrain-error:0.365691\n",
      "[3]\teval-rmse:5.10932\ttrain-rmse:5.11993\teval-error:0.984603\ttrain-error:0.151043\n",
      "[4]\teval-rmse:6.01273\ttrain-rmse:6.03362\teval-error:0.913495\ttrain-error:0.065935\n",
      "[5]\teval-rmse:6.88505\ttrain-rmse:6.89898\teval-error:0.929965\ttrain-error:0.033948\n",
      "[6]\teval-rmse:7.68639\ttrain-rmse:7.69341\teval-error:0.955042\ttrain-error:0.020633\n",
      "[7]\teval-rmse:8.34568\ttrain-rmse:8.35088\teval-error:0.947528\ttrain-error:0.013567\n",
      "[8]\teval-rmse:8.83112\ttrain-rmse:8.82894\teval-error:0.834524\ttrain-error:0.010523\n",
      "[9]\teval-rmse:9.37071\ttrain-rmse:9.3486\teval-error:0.844575\ttrain-error:0.008671\n",
      "<xgboost.core.Booster object at 0x11dc12b70>\n",
      "depth 9 = -120\n",
      "[0]\teval-rmse:2.13615\ttrain-rmse:2.1111\teval-error:3.58531\ttrain-error:2.85045\n",
      "[1]\teval-rmse:3.20071\ttrain-rmse:3.1798\teval-error:2.25532\ttrain-error:0.987227\n",
      "[2]\teval-rmse:4.16901\ttrain-rmse:4.18008\teval-error:1.61732\ttrain-error:0.358513\n",
      "[3]\teval-rmse:5.11632\ttrain-rmse:5.13316\teval-error:1.31013\ttrain-error:0.14731\n",
      "[4]\teval-rmse:6.02926\ttrain-rmse:6.04537\teval-error:1.16813\ttrain-error:0.064002\n"
     ]
    },
    {
     "name": "stdout",
     "output_type": "stream",
     "text": [
      "[5]\teval-rmse:6.89047\ttrain-rmse:6.91206\teval-error:1.16335\ttrain-error:0.031579\n",
      "[6]\teval-rmse:7.68936\ttrain-rmse:7.70249\teval-error:1.10817\ttrain-error:0.019347\n",
      "[7]\teval-rmse:8.3477\ttrain-rmse:8.36133\teval-error:1.10576\ttrain-error:0.013014\n",
      "[8]\teval-rmse:8.74122\ttrain-rmse:8.77916\teval-error:1.06129\ttrain-error:0.010108\n",
      "[9]\teval-rmse:9.29809\ttrain-rmse:9.32223\teval-error:1.02896\ttrain-error:0.00834\n",
      "<xgboost.core.Booster object at 0x11dc12ac8>\n",
      "depth 10 = -145\n"
     ]
    }
   ],
   "source": [
    "for i in range(10):\n",
    "    pred = cross_validate(X_train, X_test, y_train, y_test,i)\n",
    "    print(f'depth {i+1} = {profit_scorer(y_test, pred>0.5)}')"
   ]
  },
  {
   "cell_type": "code",
   "execution_count": null,
   "metadata": {},
   "outputs": [],
   "source": []
  },
  {
   "cell_type": "code",
   "execution_count": null,
   "metadata": {},
   "outputs": [],
   "source": []
  },
  {
   "cell_type": "code",
   "execution_count": null,
   "metadata": {},
   "outputs": [],
   "source": []
  }
 ],
 "metadata": {
  "kernelspec": {
   "display_name": "Python 3",
   "language": "python",
   "name": "python3"
  },
  "language_info": {
   "codemirror_mode": {
    "name": "ipython",
    "version": 3
   },
   "file_extension": ".py",
   "mimetype": "text/x-python",
   "name": "python",
   "nbconvert_exporter": "python",
   "pygments_lexer": "ipython3",
   "version": "3.6.4"
  },
  "varInspector": {
   "cols": {
    "lenName": 16,
    "lenType": 16,
    "lenVar": 40
   },
   "kernels_config": {
    "python": {
     "delete_cmd_postfix": "",
     "delete_cmd_prefix": "del ",
     "library": "var_list.py",
     "varRefreshCmd": "print(var_dic_list())"
    },
    "r": {
     "delete_cmd_postfix": ") ",
     "delete_cmd_prefix": "rm(",
     "library": "var_list.r",
     "varRefreshCmd": "cat(var_dic_list()) "
    }
   },
   "types_to_exclude": [
    "module",
    "function",
    "builtin_function_or_method",
    "instance",
    "_Feature"
   ],
   "window_display": false
  }
 },
 "nbformat": 4,
 "nbformat_minor": 2
}
