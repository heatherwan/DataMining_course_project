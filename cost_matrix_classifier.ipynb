{
 "cells": [
  {
   "cell_type": "code",
   "execution_count": 1,
   "metadata": {},
   "outputs": [],
   "source": [
    "import pandas as pd\n",
    "import numpy as np\n",
    "from sklearn.preprocessing import StandardScaler\n",
    "import matplotlib.pyplot as plt\n",
    "%matplotlib inline\n",
    "from classifiers import *"
   ]
  },
  {
   "cell_type": "code",
   "execution_count": 2,
   "metadata": {},
   "outputs": [
    {
     "name": "stdout",
     "output_type": "stream",
     "text": [
      "Train set has 1879 entries and 10 features\n"
     ]
    }
   ],
   "source": [
    "train_data = pd.read_csv('data/train.csv', sep = '|')\n",
    "test_data = pd.read_csv('data/test.csv', sep = '|')\n",
    "print(f'Train set has {train_data.shape[0]} entries and {train_data.shape[1]} features')\n",
    "# print(f'Test set has {test_data.shape[0]} entries and {test_data.shape[1]} features')\n",
    "# print(f'attributes: \\n {test_data.columns}')\n",
    "# print(f'types: \\n {train_data.dtypes}')"
   ]
  },
  {
   "cell_type": "code",
   "execution_count": 3,
   "metadata": {
    "scrolled": false
   },
   "outputs": [],
   "source": [
    "# encode category feature\n",
    "trust_encode = pd.get_dummies(train_data['trustLevel'], prefix='trustLevel')\n",
    "# normalize \n",
    "X = train_data.drop(columns=['trustLevel','fraud'])\n",
    "col = X.columns \n",
    "y = train_data['fraud']\n",
    "# X = StandardScaler().fit_transform(X)\n",
    "X = trust_encode.join(pd.DataFrame(X, columns=col))\n",
    "# X_train, X_test, y_train, y_test = train_test_split(X, y, test_size=.3, random_state=42)"
   ]
  },
  {
   "cell_type": "code",
   "execution_count": null,
   "metadata": {},
   "outputs": [
    {
     "name": "stdout",
     "output_type": "stream",
     "text": [
      "Naive Bayes: test core =-9840\n",
      "K Nerest Neighbors: test core =-1095\n",
      "Linear SVM: test core =-520\n",
      "RBF SVM: test core =-520\n"
     ]
    }
   ],
   "source": [
    "evaluate_classification(X, y)\n",
    "# positive class is not predicted in Random Forest => should check balance labels"
   ]
  }
 ],
 "metadata": {
  "kernelspec": {
   "display_name": "Python 3",
   "language": "python",
   "name": "python3"
  },
  "language_info": {
   "codemirror_mode": {
    "name": "ipython",
    "version": 3
   },
   "file_extension": ".py",
   "mimetype": "text/x-python",
   "name": "python",
   "nbconvert_exporter": "python",
   "pygments_lexer": "ipython3",
   "version": "3.7.0"
  }
 },
 "nbformat": 4,
 "nbformat_minor": 2
}
