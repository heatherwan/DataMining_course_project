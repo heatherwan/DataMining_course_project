{
 "cells": [
  {
   "cell_type": "code",
   "execution_count": 1,
   "metadata": {},
   "outputs": [],
   "source": [
    "import pandas as pd\n",
    "import numpy as np\n",
    "from sklearn.preprocessing import MinMaxScaler\n",
    "import matplotlib.pyplot as plt\n",
    "%matplotlib inline\n",
    "from classifiers import *\n",
    "from sklearn.metrics import confusion_matrix"
   ]
  },
  {
   "cell_type": "markdown",
   "metadata": {},
   "source": [
    "## Original dataset"
   ]
  },
  {
   "cell_type": "code",
   "execution_count": 2,
   "metadata": {},
   "outputs": [
    {
     "name": "stdout",
     "output_type": "stream",
     "text": [
      "Train set has 1879 entries and 10 features\n",
      "Test set has 498121 entries and 9 features\n"
     ]
    }
   ],
   "source": [
    "train_data = pd.read_csv('data/train.csv', sep = '|')\n",
    "test_data = pd.read_csv('data/test.csv', sep = '|')\n",
    "print(f'Train set has {train_data.shape[0]} entries and {train_data.shape[1]} features')\n",
    "print(f'Test set has {test_data.shape[0]} entries and {test_data.shape[1]} features')"
   ]
  },
  {
   "cell_type": "code",
   "execution_count": 3,
   "metadata": {},
   "outputs": [
    {
     "name": "stdout",
     "output_type": "stream",
     "text": [
      "(500000, 14)\n"
     ]
    },
    {
     "name": "stderr",
     "output_type": "stream",
     "text": [
      "/usr/local/lib/python3.7/site-packages/sklearn/preprocessing/data.py:323: DataConversionWarning: Data with input dtype uint8, float64 were all converted to float64 by MinMaxScaler.\n",
      "  return self.partial_fit(X, y)\n"
     ]
    }
   ],
   "source": [
    "## normalize w/ encode \n",
    "y = train_data['fraud']\n",
    "X = train_data.drop(columns=['fraud']).astype(float)\n",
    "X_all = X.append(test_data, sort=False)\n",
    "X_all= pd.get_dummies(X_all, columns=['trustLevel'], prefix='trustLevel')\n",
    "X_norm_encode = pd.DataFrame(MinMaxScaler().fit_transform(X_all), columns=X_all.columns, index=X_all.index)\n",
    "print(X_norm_encode.shape)\n",
    "X_train_norm_enc = X_norm_encode.iloc[:1879,:]\n",
    "X_test_norm_enc = X_norm_encode.iloc[1879:,:]\n",
    "# print(X_train_norm_enc)"
   ]
  },
  {
   "cell_type": "code",
   "execution_count": 4,
   "metadata": {},
   "outputs": [
    {
     "name": "stdout",
     "output_type": "stream",
     "text": [
      "(500000, 9)\n"
     ]
    }
   ],
   "source": [
    "## normalized w/o encode \n",
    "y = train_data['fraud']\n",
    "X = train_data.drop(columns=['fraud']).astype(float)\n",
    "X_all = X.append(test_data, sort=False)\n",
    "X_norm = pd.DataFrame(MinMaxScaler().fit_transform(X_all), columns=X_all.columns, index=X_all.index)\n",
    "print(X_norm.shape)\n",
    "X_train_norm = X_norm.iloc[:1879,:]\n",
    "X_test_norm = X_norm.iloc[1879:,:]\n",
    "# print(X_train_norm)"
   ]
  },
  {
   "cell_type": "code",
   "execution_count": 5,
   "metadata": {},
   "outputs": [
    {
     "name": "stdout",
     "output_type": "stream",
     "text": [
      "[-55 -55 -55 -55 -50 -50 -50 -50 -50 -50]\n",
      "Linear SVM: test core = -520 \n",
      "[-55 -55 -55 -55 -50 -50 -50 -50 -50 -50]\n",
      "RBF SVM: test core = -520 \n"
     ]
    },
    {
     "name": "stderr",
     "output_type": "stream",
     "text": [
      "/usr/local/lib/python3.7/site-packages/sklearn/linear_model/sag.py:334: ConvergenceWarning: The max_iter was reached which means the coef_ did not converge\n",
      "  \"the coef_ did not converge\", ConvergenceWarning)\n",
      "/usr/local/lib/python3.7/site-packages/sklearn/linear_model/sag.py:334: ConvergenceWarning: The max_iter was reached which means the coef_ did not converge\n",
      "  \"the coef_ did not converge\", ConvergenceWarning)\n",
      "/usr/local/lib/python3.7/site-packages/sklearn/linear_model/sag.py:334: ConvergenceWarning: The max_iter was reached which means the coef_ did not converge\n",
      "  \"the coef_ did not converge\", ConvergenceWarning)\n",
      "/usr/local/lib/python3.7/site-packages/sklearn/linear_model/sag.py:334: ConvergenceWarning: The max_iter was reached which means the coef_ did not converge\n",
      "  \"the coef_ did not converge\", ConvergenceWarning)\n",
      "/usr/local/lib/python3.7/site-packages/sklearn/linear_model/sag.py:334: ConvergenceWarning: The max_iter was reached which means the coef_ did not converge\n",
      "  \"the coef_ did not converge\", ConvergenceWarning)\n",
      "/usr/local/lib/python3.7/site-packages/sklearn/linear_model/sag.py:334: ConvergenceWarning: The max_iter was reached which means the coef_ did not converge\n",
      "  \"the coef_ did not converge\", ConvergenceWarning)\n",
      "/usr/local/lib/python3.7/site-packages/sklearn/linear_model/sag.py:334: ConvergenceWarning: The max_iter was reached which means the coef_ did not converge\n",
      "  \"the coef_ did not converge\", ConvergenceWarning)\n",
      "/usr/local/lib/python3.7/site-packages/sklearn/linear_model/sag.py:334: ConvergenceWarning: The max_iter was reached which means the coef_ did not converge\n",
      "  \"the coef_ did not converge\", ConvergenceWarning)\n",
      "/usr/local/lib/python3.7/site-packages/sklearn/linear_model/sag.py:334: ConvergenceWarning: The max_iter was reached which means the coef_ did not converge\n",
      "  \"the coef_ did not converge\", ConvergenceWarning)\n",
      "/usr/local/lib/python3.7/site-packages/sklearn/linear_model/sag.py:334: ConvergenceWarning: The max_iter was reached which means the coef_ did not converge\n",
      "  \"the coef_ did not converge\", ConvergenceWarning)\n"
     ]
    },
    {
     "name": "stdout",
     "output_type": "stream",
     "text": [
      "[-55 -55 -55 -55 -50 -50 -50 -50 -50 -50]\n"
     ]
    },
    {
     "name": "stderr",
     "output_type": "stream",
     "text": [
      "/usr/local/lib/python3.7/site-packages/sklearn/linear_model/sag.py:334: ConvergenceWarning: The max_iter was reached which means the coef_ did not converge\n",
      "  \"the coef_ did not converge\", ConvergenceWarning)\n",
      "/usr/local/lib/python3.7/site-packages/sklearn/linear_model/sag.py:334: ConvergenceWarning: The max_iter was reached which means the coef_ did not converge\n",
      "  \"the coef_ did not converge\", ConvergenceWarning)\n",
      "/usr/local/lib/python3.7/site-packages/sklearn/linear_model/sag.py:334: ConvergenceWarning: The max_iter was reached which means the coef_ did not converge\n",
      "  \"the coef_ did not converge\", ConvergenceWarning)\n",
      "/usr/local/lib/python3.7/site-packages/sklearn/linear_model/sag.py:334: ConvergenceWarning: The max_iter was reached which means the coef_ did not converge\n",
      "  \"the coef_ did not converge\", ConvergenceWarning)\n",
      "/usr/local/lib/python3.7/site-packages/sklearn/linear_model/sag.py:334: ConvergenceWarning: The max_iter was reached which means the coef_ did not converge\n",
      "  \"the coef_ did not converge\", ConvergenceWarning)\n",
      "/usr/local/lib/python3.7/site-packages/sklearn/linear_model/sag.py:334: ConvergenceWarning: The max_iter was reached which means the coef_ did not converge\n",
      "  \"the coef_ did not converge\", ConvergenceWarning)\n",
      "/usr/local/lib/python3.7/site-packages/sklearn/linear_model/sag.py:334: ConvergenceWarning: The max_iter was reached which means the coef_ did not converge\n",
      "  \"the coef_ did not converge\", ConvergenceWarning)\n",
      "/usr/local/lib/python3.7/site-packages/sklearn/linear_model/sag.py:334: ConvergenceWarning: The max_iter was reached which means the coef_ did not converge\n",
      "  \"the coef_ did not converge\", ConvergenceWarning)\n",
      "/usr/local/lib/python3.7/site-packages/sklearn/linear_model/sag.py:334: ConvergenceWarning: The max_iter was reached which means the coef_ did not converge\n",
      "  \"the coef_ did not converge\", ConvergenceWarning)\n",
      "/usr/local/lib/python3.7/site-packages/sklearn/linear_model/sag.py:334: ConvergenceWarning: The max_iter was reached which means the coef_ did not converge\n",
      "  \"the coef_ did not converge\", ConvergenceWarning)\n"
     ]
    },
    {
     "name": "stdout",
     "output_type": "stream",
     "text": [
      "Logistic Regression: test core = -520 \n",
      "[ -55  -55 -370  -55  -50  -50  -50  -50 -480 -775]\n",
      "Neural Net: test core = -520 \n",
      "[-55 -55 -55 -55 -50 -50 -50 -50 -50 -50]\n",
      "Random Forest: test core = -500 \n",
      "[ 20 -40 -15  15 -30 -10  10  15 -90  -5]\n",
      "AdaBoost: test core = -130 \n",
      "[ 10  10 -50  25 -20 -10  -5 -10 -40  10]\n",
      "XGBoost: test core = -80 \n"
     ]
    }
   ],
   "source": [
    "#basic case\n",
    "evaluate_classification(train_data.drop(columns=['fraud']), y)"
   ]
  },
  {
   "cell_type": "code",
   "execution_count": 6,
   "metadata": {
    "scrolled": true
   },
   "outputs": [
    {
     "name": "stdout",
     "output_type": "stream",
     "text": [
      "[-55 -55 -55 -55 -50 -50 -50 -50 -50 -50]\n",
      "Linear SVM: test core = -520 \n",
      "[-55 -55 -55 -55 -50 -50 -50 -50 -50 -50]\n",
      "RBF SVM: test core = -520 \n",
      "[-55 -45 -55 -35 -50 -40 -40 -75 -50 -50]\n",
      "Logistic Regression: test core = -495 \n",
      "[-55 -45 -55 -45 -50 -50 -40 -50 -50 -50]\n",
      "Neural Net: test core = -500 \n",
      "[-55 -55 -55 -55 -50 -50 -40 -50 -50 -50]\n",
      "Random Forest: test core = -510 \n",
      "[ 20 -40 -15  15 -30 -10  10  15 -90  -5]\n",
      "AdaBoost: test core = -130 \n",
      "[ 10  10 -50  25 -20 -10  -5 -10 -40  10]\n",
      "XGBoost: test core = -80 \n"
     ]
    }
   ],
   "source": [
    "# with normalized\n",
    "evaluate_classification(X_train_norm, y)"
   ]
  },
  {
   "cell_type": "code",
   "execution_count": 9,
   "metadata": {
    "scrolled": true
   },
   "outputs": [
    {
     "name": "stdout",
     "output_type": "stream",
     "text": [
      "[-55 -55 -55 -55 -50 -50 -50 -50 -50 -50]\n",
      "Linear SVM: test core = -520 \n",
      "[ -55  -55  -55  -80  -50  -50  -40  -75 -100  -50]\n",
      "RBF SVM: test core = -610 \n",
      "[ -55  -35  -60 -110  -40  -40  -55  -70  -90  -75]\n",
      "Logistic Regression: test core = -630 \n",
      "[-55 -45 -55 -45 -50 -50 -40 -75 -50 -50]\n",
      "Neural Net: test core = -495 \n",
      "[-55 -55 -55 -55 -50 -50 -50 -50 -50 -50]\n",
      "Random Forest: test core = -520 \n",
      "[ 35 -65 -15  25  -5 -35  10   5 -30  20]\n",
      "AdaBoost: test core = -55 \n",
      "[  0  10 -25   0 -20 -20 -15  15 -15  10]\n",
      "XGBoost: test core = -60 \n"
     ]
    }
   ],
   "source": [
    "# with normalize and encode\n",
    "evaluate_classification(X_train_norm_enc, y)"
   ]
  },
  {
   "cell_type": "markdown",
   "metadata": {},
   "source": [
    "<h2> Define xgboost with cost sensitive </h2>"
   ]
  },
  {
   "cell_type": "code",
   "execution_count": 10,
   "metadata": {},
   "outputs": [],
   "source": [
    "#!/usr/bin/python\n",
    "import numpy as np\n",
    "import xgboost as xgb\n",
    "from sklearn.model_selection import train_test_split\n",
    "from sklearn.metrics import mean_squared_error\n",
    "\n",
    "def logistic_obj(y_hat, dtrain, alpha=5, beta=25): # alpha for FN beta for FP\n",
    "    y = dtrain.get_label()\n",
    "    pred = 1. / (1. + np.exp(-y_hat))\n",
    "    grad = pred * (beta + alpha*y - beta*y) - alpha*y  # alpha*(p-1)*y + beta*p*(1-y)\n",
    "    hess = pred * (1 - pred) * (beta + alpha*y - beta*y)\n",
    "    return grad, hess\n",
    "\n",
    "def err_rate(pred, dtrain):\n",
    "    y = dtrain.get_label()\n",
    "    pred = 1. / (1. + np.exp(-pred))\n",
    "    loss_fn = y*np.log(pred)\n",
    "    loss_fp = (1.0 - y)*np.log(1.0 - pred)\n",
    "    return 'error', np.sum(-(5*loss_fn+25*loss_fp))/len(y)\n",
    "\n"
   ]
  },
  {
   "cell_type": "code",
   "execution_count": 11,
   "metadata": {},
   "outputs": [],
   "source": [
    "def cross_validate(X_train, X_test, y_train, y_test, depth, num_round):\n",
    "    # load data\n",
    "    d_train = xgb.DMatrix(X_train, label=y_train)\n",
    "    d_val = xgb.DMatrix(X_test, label=y_test)\n",
    "    # build model\n",
    "    param = {'max_depth': depth, 'eta': 1, 'silent': 1, 'seed': 0}\n",
    "#     watchlist = [(d_val, 'eval'), (d_train, 'train')]\n",
    "#     model_trn = xgb.train(param, d_train, num_round, watchlist, obj=logistic_obj, feval=err_rate)\n",
    "    model_trn = xgb.train(param, d_train, num_round, obj=logistic_obj, feval=err_rate)\n",
    "    # prediction\n",
    "    pred = model_trn.predict(d_val) \n",
    "    pred = 1. / (1. + np.exp(-pred))\n",
    "    return pred"
   ]
  },
  {
   "cell_type": "markdown",
   "metadata": {},
   "source": [
    "<h2> test with one train-test split</h2>"
   ]
  },
  {
   "cell_type": "code",
   "execution_count": 12,
   "metadata": {},
   "outputs": [
    {
     "name": "stdout",
     "output_type": "stream",
     "text": [
      "[[538   2]\n",
      " [  5  19]]\n",
      "cost = 20\n"
     ]
    },
    {
     "name": "stderr",
     "output_type": "stream",
     "text": [
      "/usr/local/lib/python3.7/site-packages/xgboost/core.py:587: FutureWarning: Series.base is deprecated and will be removed in a future version\n",
      "  if getattr(data, 'base', None) is not None and \\\n"
     ]
    }
   ],
   "source": [
    "## normalized dataset\n",
    "X_train, X_test, y_train, y_test = train_test_split(X_train_norm, y, test_size=0.3, random_state=42)\n",
    "pred = cross_validate(X_train, X_test, y_train, y_test, 4, 90)\n",
    "print(confusion_matrix(y_test, pred>0.5))\n",
    "print(f'cost = {profit_scorer(y_test, pred>0.5)}')"
   ]
  },
  {
   "cell_type": "code",
   "execution_count": 13,
   "metadata": {},
   "outputs": [
    {
     "name": "stdout",
     "output_type": "stream",
     "text": [
      "[[539   1]\n",
      " [  4  20]]\n",
      "cost = 55\n"
     ]
    }
   ],
   "source": [
    "## encode and normalized dataset\n",
    "X_train, X_test, y_train, y_test = train_test_split(X_train_norm_enc, y, test_size=0.3, random_state=42)\n",
    "pred = cross_validate(X_train, X_test, y_train, y_test, 2, 100)\n",
    "print(confusion_matrix(y_test, pred>0.5))\n",
    "print(f'cost = {profit_scorer(y_test, pred>0.5)}')"
   ]
  },
  {
   "cell_type": "markdown",
   "metadata": {},
   "source": [
    "<h2> test with cv split</h2>"
   ]
  },
  {
   "cell_type": "code",
   "execution_count": 20,
   "metadata": {
    "scrolled": false
   },
   "outputs": [
    {
     "name": "stderr",
     "output_type": "stream",
     "text": [
      "/usr/local/lib/python3.7/site-packages/xgboost/core.py:587: FutureWarning: Series.base is deprecated and will be removed in a future version\n",
      "  if getattr(data, 'base', None) is not None and \\\n"
     ]
    },
    {
     "name": "stdout",
     "output_type": "stream",
     "text": [
      " confusion matrix: cost(25)\n",
      " [[178   0]\n",
      " [  3   8]]\n",
      " confusion matrix: cost(35)\n",
      " [[178   0]\n",
      " [  2   9]]\n",
      " confusion matrix: cost(0)\n",
      " [[177   1]\n",
      " [  3   8]]\n",
      " confusion matrix: cost(25)\n",
      " [[178   0]\n",
      " [  3   8]]\n",
      " confusion matrix: cost(40)\n",
      " [[178   0]\n",
      " [  1   9]]\n",
      " confusion matrix: cost(-5)\n",
      " [[176   1]\n",
      " [  3   7]]\n",
      " confusion matrix: cost(20)\n",
      " [[177   0]\n",
      " [  3   7]]\n",
      " confusion matrix: cost(-5)\n",
      " [[176   1]\n",
      " [  3   7]]\n",
      " confusion matrix: cost(-15)\n",
      " [[176   1]\n",
      " [  4   6]]\n",
      " confusion matrix: cost(10)\n",
      " [[177   0]\n",
      " [  4   6]]\n",
      "cost = 130\n"
     ]
    }
   ],
   "source": [
    "## normalized dataset\n",
    "cv = StratifiedKFold(n_splits=10, random_state=42)\n",
    "cost=0\n",
    "for train_index, test_index in cv.split(X_train_norm, y):\n",
    "    X_train, X_test = X_train_norm.iloc[train_index], X_train_norm.iloc[test_index]\n",
    "    y_train, y_test = y[train_index], y[test_index]\n",
    "    pred = cross_validate(X_train, X_test, y_train, y_test, 2, 130)\n",
    "    print(f' confusion matrix: cost({profit_scorer(y_test, pred>0.5)})\\n {confusion_matrix(y_test, pred>0.5)}')\n",
    "    cost += profit_scorer(y_test, pred>0.5)\n",
    "\n",
    "print(f'cost = {cost}')"
   ]
  },
  {
   "cell_type": "code",
   "execution_count": 18,
   "metadata": {
    "scrolled": false
   },
   "outputs": [
    {
     "name": "stderr",
     "output_type": "stream",
     "text": [
      "/usr/local/lib/python3.7/site-packages/xgboost/core.py:587: FutureWarning: Series.base is deprecated and will be removed in a future version\n",
      "  if getattr(data, 'base', None) is not None and \\\n"
     ]
    },
    {
     "name": "stdout",
     "output_type": "stream",
     "text": [
      " confusion matrix: cost(15)\n",
      " [[178   0]\n",
      " [  4   7]]\n",
      " confusion matrix: cost(35)\n",
      " [[178   0]\n",
      " [  2   9]]\n",
      " confusion matrix: cost(-25)\n",
      " [[176   2]\n",
      " [  3   8]]\n",
      " confusion matrix: cost(35)\n",
      " [[178   0]\n",
      " [  2   9]]\n",
      " confusion matrix: cost(15)\n",
      " [[177   1]\n",
      " [  1   9]]\n",
      " confusion matrix: cost(-5)\n",
      " [[176   1]\n",
      " [  3   7]]\n",
      " confusion matrix: cost(20)\n",
      " [[177   0]\n",
      " [  3   7]]\n",
      " confusion matrix: cost(5)\n",
      " [[176   1]\n",
      " [  2   8]]\n",
      " confusion matrix: cost(-15)\n",
      " [[176   1]\n",
      " [  4   6]]\n",
      " confusion matrix: cost(10)\n",
      " [[177   0]\n",
      " [  4   6]]\n",
      "cost = 90\n"
     ]
    }
   ],
   "source": [
    "## encode and normalized dataset\n",
    "cv = StratifiedKFold(n_splits=10, random_state=42)\n",
    "cost=0\n",
    "for train_index, test_index in cv.split(X_train_norm_enc, y):\n",
    "    X_train, X_test = X_train_norm_enc.iloc[train_index], X_train_norm_enc.iloc[test_index]\n",
    "    y_train, y_test = y[train_index], y[test_index]\n",
    "    pred = cross_validate(X_train, X_test, y_train, y_test, 2, 60)\n",
    "    print(f' confusion matrix: cost({profit_scorer(y_test, pred>0.5)})\\n {confusion_matrix(y_test, pred>0.5)}')\n",
    "    cost += profit_scorer(y_test, pred>0.5)\n",
    "\n",
    "print(f'cost = {cost}')"
   ]
  },
  {
   "cell_type": "markdown",
   "metadata": {},
   "source": [
    "<h2> test parameters - depth/num_round</h2>"
   ]
  },
  {
   "cell_type": "code",
   "execution_count": 50,
   "metadata": {},
   "outputs": [],
   "source": [
    "## feature select dataset\n",
    "def parameter_tuning(train_data, number_depth, number_rounds):\n",
    "    for i in range(number_depth):\n",
    "        cv = StratifiedKFold(n_splits=10, random_state=42)\n",
    "        cost=0\n",
    "        for train_index, test_index in cv.split(train_data, y):\n",
    "            X_train, X_test = X_train_norm[train_index], X_train_norm[test_index]\n",
    "            y_train, y_test = y[train_index], y[test_index]\n",
    "            pred = cross_validate(X_train, X_test, y_train, y_test, i, 130)\n",
    "            print(f' confusion matrix: cost({profit_scorer(y_test, pred>0.5)})\\n {confusion_matrix(y_test, pred>0.5)}')\n",
    "            cost += profit_scorer(y_test, pred>0.5)\n",
    "        print(f'depth {i} cost = {cost}')\n",
    "    for i in range(number_rounds):\n",
    "        cv = StratifiedKFold(n_splits=10, random_state=42)\n",
    "        cost=0\n",
    "        for train_index, test_index in cv.split(X_train_norm, y):\n",
    "            X_train, X_test = X_train_norm[train_index], X_train_norm[test_index]\n",
    "            y_train, y_test = y[train_index], y[test_index]\n",
    "            pred = cross_validate(X_train, X_test, y_train, y_test, 2, i*10)\n",
    "            print(f' confusion matrix: cost({profit_scorer(y_test, pred>0.5)})\\n {confusion_matrix(y_test, pred>0.5)}')\n",
    "            cost += profit_scorer(y_test, pred>0.5)\n",
    "        print(f'depth {i} cost = {cost}')"
   ]
  },
  {
   "cell_type": "code",
   "execution_count": 51,
   "metadata": {
    "scrolled": false
   },
   "outputs": [
    {
     "name": "stderr",
     "output_type": "stream",
     "text": [
      "/usr/local/lib/python3.7/site-packages/xgboost/core.py:587: FutureWarning: Series.base is deprecated and will be removed in a future version\n",
      "  if getattr(data, 'base', None) is not None and \\\n"
     ]
    },
    {
     "name": "stdout",
     "output_type": "stream",
     "text": [
      " confusion matrix: cost(-55)\n",
      " [[178   0]\n",
      " [ 11   0]]\n",
      " confusion matrix: cost(-55)\n",
      " [[178   0]\n",
      " [ 11   0]]\n",
      " confusion matrix: cost(-55)\n",
      " [[178   0]\n",
      " [ 11   0]]\n",
      " confusion matrix: cost(-55)\n",
      " [[178   0]\n",
      " [ 11   0]]\n",
      " confusion matrix: cost(-50)\n",
      " [[178   0]\n",
      " [ 10   0]]\n",
      " confusion matrix: cost(-50)\n",
      " [[177   0]\n",
      " [ 10   0]]\n",
      " confusion matrix: cost(-50)\n",
      " [[177   0]\n",
      " [ 10   0]]\n",
      " confusion matrix: cost(-50)\n",
      " [[177   0]\n",
      " [ 10   0]]\n",
      " confusion matrix: cost(-50)\n",
      " [[177   0]\n",
      " [ 10   0]]\n",
      " confusion matrix: cost(-50)\n",
      " [[177   0]\n",
      " [ 10   0]]\n",
      "depth 0 cost = -520\n"
     ]
    },
    {
     "name": "stderr",
     "output_type": "stream",
     "text": [
      "/usr/local/lib/python3.7/site-packages/xgboost/core.py:587: FutureWarning: Series.base is deprecated and will be removed in a future version\n",
      "  if getattr(data, 'base', None) is not None and \\\n"
     ]
    },
    {
     "name": "stdout",
     "output_type": "stream",
     "text": [
      " confusion matrix: cost(5)\n",
      " [[178   0]\n",
      " [  5   6]]\n",
      " confusion matrix: cost(35)\n",
      " [[178   0]\n",
      " [  2   9]]\n",
      " confusion matrix: cost(0)\n",
      " [[177   1]\n",
      " [  3   8]]\n",
      " confusion matrix: cost(15)\n",
      " [[178   0]\n",
      " [  4   7]]\n",
      " confusion matrix: cost(10)\n",
      " [[178   0]\n",
      " [  4   6]]\n",
      " confusion matrix: cost(15)\n",
      " [[176   1]\n",
      " [  1   9]]\n",
      " confusion matrix: cost(-15)\n",
      " [[176   1]\n",
      " [  4   6]]\n",
      " confusion matrix: cost(5)\n",
      " [[176   1]\n",
      " [  2   8]]\n",
      " confusion matrix: cost(0)\n",
      " [[177   0]\n",
      " [  5   5]]\n",
      " confusion matrix: cost(-25)\n",
      " [[176   1]\n",
      " [  5   5]]\n",
      "depth 1 cost = 45\n",
      " confusion matrix: cost(25)\n",
      " [[178   0]\n",
      " [  3   8]]\n"
     ]
    },
    {
     "name": "stderr",
     "output_type": "stream",
     "text": [
      "/usr/local/lib/python3.7/site-packages/xgboost/core.py:587: FutureWarning: Series.base is deprecated and will be removed in a future version\n",
      "  if getattr(data, 'base', None) is not None and \\\n"
     ]
    },
    {
     "name": "stdout",
     "output_type": "stream",
     "text": [
      " confusion matrix: cost(35)\n",
      " [[178   0]\n",
      " [  2   9]]\n",
      " confusion matrix: cost(0)\n",
      " [[177   1]\n",
      " [  3   8]]\n",
      " confusion matrix: cost(25)\n",
      " [[178   0]\n",
      " [  3   8]]\n",
      " confusion matrix: cost(40)\n",
      " [[178   0]\n",
      " [  1   9]]\n",
      " confusion matrix: cost(-5)\n",
      " [[176   1]\n",
      " [  3   7]]\n",
      " confusion matrix: cost(20)\n",
      " [[177   0]\n",
      " [  3   7]]\n",
      " confusion matrix: cost(-5)\n",
      " [[176   1]\n",
      " [  3   7]]\n",
      " confusion matrix: cost(-15)\n",
      " [[176   1]\n",
      " [  4   6]]\n",
      " confusion matrix: cost(10)\n",
      " [[177   0]\n",
      " [  4   6]]\n",
      "depth 2 cost = 130\n",
      " confusion matrix: cost(15)\n",
      " [[178   0]\n",
      " [  4   7]]\n"
     ]
    },
    {
     "name": "stderr",
     "output_type": "stream",
     "text": [
      "/usr/local/lib/python3.7/site-packages/xgboost/core.py:587: FutureWarning: Series.base is deprecated and will be removed in a future version\n",
      "  if getattr(data, 'base', None) is not None and \\\n"
     ]
    },
    {
     "name": "stdout",
     "output_type": "stream",
     "text": [
      " confusion matrix: cost(-15)\n",
      " [[176   2]\n",
      " [  2   9]]\n",
      " confusion matrix: cost(-40)\n",
      " [[175   3]\n",
      " [  2   9]]\n",
      " confusion matrix: cost(15)\n",
      " [[178   0]\n",
      " [  4   7]]\n",
      " confusion matrix: cost(40)\n",
      " [[178   0]\n",
      " [  1   9]]\n",
      " confusion matrix: cost(-45)\n",
      " [[174   3]\n",
      " [  2   8]]\n",
      " confusion matrix: cost(10)\n",
      " [[177   0]\n",
      " [  4   6]]\n",
      " confusion matrix: cost(-15)\n",
      " [[176   1]\n",
      " [  4   6]]\n",
      " confusion matrix: cost(-50)\n",
      " [[175   2]\n",
      " [  5   5]]\n",
      " confusion matrix: cost(-40)\n",
      " [[175   2]\n",
      " [  4   6]]\n",
      "depth 3 cost = -125\n",
      " confusion matrix: cost(0)\n",
      " [[177   1]\n",
      " [  3   8]]\n"
     ]
    },
    {
     "name": "stderr",
     "output_type": "stream",
     "text": [
      "/usr/local/lib/python3.7/site-packages/xgboost/core.py:587: FutureWarning: Series.base is deprecated and will be removed in a future version\n",
      "  if getattr(data, 'base', None) is not None and \\\n"
     ]
    },
    {
     "name": "stdout",
     "output_type": "stream",
     "text": [
      " confusion matrix: cost(10)\n",
      " [[177   1]\n",
      " [  2   9]]\n",
      " confusion matrix: cost(-35)\n",
      " [[176   2]\n",
      " [  4   7]]\n",
      " confusion matrix: cost(5)\n",
      " [[178   0]\n",
      " [  5   6]]\n",
      " confusion matrix: cost(-20)\n",
      " [[176   2]\n",
      " [  2   8]]\n",
      " confusion matrix: cost(-30)\n",
      " [[175   2]\n",
      " [  3   7]]\n",
      " confusion matrix: cost(-30)\n",
      " [[175   2]\n",
      " [  3   7]]\n",
      " confusion matrix: cost(5)\n",
      " [[176   1]\n",
      " [  2   8]]\n",
      " confusion matrix: cost(-10)\n",
      " [[177   0]\n",
      " [  6   4]]\n",
      " confusion matrix: cost(0)\n",
      " [[177   0]\n",
      " [  5   5]]\n",
      "depth 4 cost = -105\n",
      " confusion matrix: cost(15)\n",
      " [[178   0]\n",
      " [  4   7]]\n"
     ]
    },
    {
     "name": "stderr",
     "output_type": "stream",
     "text": [
      "/usr/local/lib/python3.7/site-packages/xgboost/core.py:587: FutureWarning: Series.base is deprecated and will be removed in a future version\n",
      "  if getattr(data, 'base', None) is not None and \\\n"
     ]
    },
    {
     "name": "stdout",
     "output_type": "stream",
     "text": [
      " confusion matrix: cost(10)\n",
      " [[177   1]\n",
      " [  2   9]]\n",
      " confusion matrix: cost(-60)\n",
      " [[175   3]\n",
      " [  4   7]]\n",
      " confusion matrix: cost(25)\n",
      " [[178   0]\n",
      " [  3   8]]\n",
      " confusion matrix: cost(-20)\n",
      " [[176   2]\n",
      " [  2   8]]\n",
      " confusion matrix: cost(-5)\n",
      " [[176   1]\n",
      " [  3   7]]\n",
      " confusion matrix: cost(-50)\n",
      " [[175   2]\n",
      " [  5   5]]\n",
      " confusion matrix: cost(-5)\n",
      " [[176   1]\n",
      " [  3   7]]\n",
      " confusion matrix: cost(0)\n",
      " [[177   0]\n",
      " [  5   5]]\n",
      " confusion matrix: cost(-15)\n",
      " [[176   1]\n",
      " [  4   6]]\n",
      "depth 5 cost = -105\n",
      " confusion matrix: cost(25)\n",
      " [[178   0]\n",
      " [  3   8]]\n"
     ]
    },
    {
     "name": "stderr",
     "output_type": "stream",
     "text": [
      "/usr/local/lib/python3.7/site-packages/xgboost/core.py:587: FutureWarning: Series.base is deprecated and will be removed in a future version\n",
      "  if getattr(data, 'base', None) is not None and \\\n"
     ]
    },
    {
     "name": "stdout",
     "output_type": "stream",
     "text": [
      " confusion matrix: cost(10)\n",
      " [[177   1]\n",
      " [  2   9]]\n",
      " confusion matrix: cost(-65)\n",
      " [[174   4]\n",
      " [  2   9]]\n",
      " confusion matrix: cost(25)\n",
      " [[178   0]\n",
      " [  3   8]]\n",
      " confusion matrix: cost(25)\n",
      " [[177   1]\n",
      " [  0  10]]\n",
      " confusion matrix: cost(-55)\n",
      " [[174   3]\n",
      " [  3   7]]\n",
      " confusion matrix: cost(-25)\n",
      " [[176   1]\n",
      " [  5   5]]\n",
      " confusion matrix: cost(-20)\n",
      " [[175   2]\n",
      " [  2   8]]\n",
      " confusion matrix: cost(-35)\n",
      " [[176   1]\n",
      " [  6   4]]\n",
      " confusion matrix: cost(-50)\n",
      " [[175   2]\n",
      " [  5   5]]\n",
      "depth 6 cost = -165\n",
      " confusion matrix: cost(25)\n",
      " [[178   0]\n",
      " [  3   8]]\n"
     ]
    },
    {
     "name": "stderr",
     "output_type": "stream",
     "text": [
      "/usr/local/lib/python3.7/site-packages/xgboost/core.py:587: FutureWarning: Series.base is deprecated and will be removed in a future version\n",
      "  if getattr(data, 'base', None) is not None and \\\n"
     ]
    },
    {
     "name": "stdout",
     "output_type": "stream",
     "text": [
      " confusion matrix: cost(35)\n",
      " [[178   0]\n",
      " [  2   9]]\n",
      " confusion matrix: cost(-60)\n",
      " [[175   3]\n",
      " [  4   7]]\n",
      " confusion matrix: cost(5)\n",
      " [[178   0]\n",
      " [  5   6]]\n",
      " confusion matrix: cost(0)\n",
      " [[176   2]\n",
      " [  0  10]]\n",
      " confusion matrix: cost(-20)\n",
      " [[175   2]\n",
      " [  2   8]]\n",
      " confusion matrix: cost(20)\n",
      " [[177   0]\n",
      " [  3   7]]\n",
      " confusion matrix: cost(5)\n",
      " [[176   1]\n",
      " [  2   8]]\n",
      " confusion matrix: cost(-35)\n",
      " [[176   1]\n",
      " [  6   4]]\n",
      " confusion matrix: cost(-25)\n",
      " [[176   1]\n",
      " [  5   5]]\n",
      "depth 7 cost = -50\n",
      " confusion matrix: cost(25)\n",
      " [[178   0]\n",
      " [  3   8]]\n"
     ]
    },
    {
     "name": "stderr",
     "output_type": "stream",
     "text": [
      "/usr/local/lib/python3.7/site-packages/xgboost/core.py:587: FutureWarning: Series.base is deprecated and will be removed in a future version\n",
      "  if getattr(data, 'base', None) is not None and \\\n"
     ]
    },
    {
     "name": "stdout",
     "output_type": "stream",
     "text": [
      " confusion matrix: cost(35)\n",
      " [[178   0]\n",
      " [  2   9]]\n",
      " confusion matrix: cost(-60)\n",
      " [[175   3]\n",
      " [  4   7]]\n",
      " confusion matrix: cost(25)\n",
      " [[178   0]\n",
      " [  3   8]]\n",
      " confusion matrix: cost(50)\n",
      " [[178   0]\n",
      " [  0  10]]\n",
      " confusion matrix: cost(-10)\n",
      " [[175   2]\n",
      " [  1   9]]\n",
      " confusion matrix: cost(-25)\n",
      " [[176   1]\n",
      " [  5   5]]\n",
      " confusion matrix: cost(5)\n",
      " [[176   1]\n",
      " [  2   8]]\n",
      " confusion matrix: cost(-35)\n",
      " [[176   1]\n",
      " [  6   4]]\n",
      " confusion matrix: cost(-50)\n",
      " [[175   2]\n",
      " [  5   5]]\n",
      "depth 8 cost = -40\n",
      " confusion matrix: cost(25)\n",
      " [[178   0]\n",
      " [  3   8]]\n"
     ]
    },
    {
     "name": "stderr",
     "output_type": "stream",
     "text": [
      "/usr/local/lib/python3.7/site-packages/xgboost/core.py:587: FutureWarning: Series.base is deprecated and will be removed in a future version\n",
      "  if getattr(data, 'base', None) is not None and \\\n"
     ]
    },
    {
     "name": "stdout",
     "output_type": "stream",
     "text": [
      " confusion matrix: cost(10)\n",
      " [[177   1]\n",
      " [  2   9]]\n",
      " confusion matrix: cost(-55)\n",
      " [[174   4]\n",
      " [  1  10]]\n",
      " confusion matrix: cost(15)\n",
      " [[178   0]\n",
      " [  4   7]]\n",
      " confusion matrix: cost(5)\n",
      " [[177   1]\n",
      " [  2   8]]\n",
      " confusion matrix: cost(-20)\n",
      " [[175   2]\n",
      " [  2   8]]\n",
      " confusion matrix: cost(-25)\n",
      " [[176   1]\n",
      " [  5   5]]\n",
      " confusion matrix: cost(-5)\n",
      " [[176   1]\n",
      " [  3   7]]\n",
      " confusion matrix: cost(-25)\n",
      " [[176   1]\n",
      " [  5   5]]\n",
      " confusion matrix: cost(-25)\n",
      " [[176   1]\n",
      " [  5   5]]\n",
      "depth 9 cost = -100\n",
      " confusion matrix: cost(-4395)\n",
      " [[  0 178]\n",
      " [  0  11]]\n",
      " confusion matrix: cost(-4395)\n",
      " [[  0 178]\n",
      " [  0  11]]\n",
      " confusion matrix: cost(-4395)\n",
      " [[  0 178]\n",
      " [  0  11]]\n",
      " confusion matrix: cost(-4395)\n",
      " [[  0 178]\n",
      " [  0  11]]\n",
      " confusion matrix: cost(-4400)\n",
      " [[  0 178]\n",
      " [  0  10]]\n",
      " confusion matrix: cost(-4375)\n",
      " [[  0 177]\n",
      " [  0  10]]\n",
      " confusion matrix: cost(-4375)\n",
      " [[  0 177]\n",
      " [  0  10]]\n",
      " confusion matrix: cost(-4375)\n",
      " [[  0 177]\n",
      " [  0  10]]\n",
      " confusion matrix: cost(-4375)\n",
      " [[  0 177]\n",
      " [  0  10]]\n",
      " confusion matrix: cost(-4375)\n",
      " [[  0 177]\n",
      " [  0  10]]\n",
      "depth 0 cost = -43855\n",
      " confusion matrix: cost(-5)\n",
      " [[178   0]\n",
      " [  6   5]]\n",
      " confusion matrix: cost(15)\n",
      " [[178   0]\n",
      " [  4   7]]\n",
      " confusion matrix: cost(-30)\n",
      " [[177   1]\n",
      " [  6   5]]\n",
      " confusion matrix: cost(-25)\n",
      " [[178   0]\n",
      " [  8   3]]\n",
      " confusion matrix: cost(-90)\n",
      " [[174   4]\n",
      " [  4   6]]\n",
      " confusion matrix: cost(-15)\n",
      " [[176   1]\n",
      " [  4   6]]\n",
      " confusion matrix: cost(-55)\n",
      " [[176   1]\n",
      " [  8   2]]\n",
      " confusion matrix: cost(-50)\n",
      " [[175   2]\n",
      " [  5   5]]\n",
      " confusion matrix: cost(-20)\n",
      " [[177   0]\n",
      " [  7   3]]\n"
     ]
    },
    {
     "name": "stderr",
     "output_type": "stream",
     "text": [
      "/usr/local/lib/python3.7/site-packages/xgboost/core.py:587: FutureWarning: Series.base is deprecated and will be removed in a future version\n",
      "  if getattr(data, 'base', None) is not None and \\\n",
      "/usr/local/lib/python3.7/site-packages/xgboost/core.py:587: FutureWarning: Series.base is deprecated and will be removed in a future version\n",
      "  if getattr(data, 'base', None) is not None and \\\n"
     ]
    },
    {
     "name": "stdout",
     "output_type": "stream",
     "text": [
      " confusion matrix: cost(-20)\n",
      " [[177   0]\n",
      " [  7   3]]\n",
      "depth 1 cost = -295\n",
      " confusion matrix: cost(15)\n",
      " [[178   0]\n",
      " [  4   7]]\n",
      " confusion matrix: cost(10)\n",
      " [[177   1]\n",
      " [  2   9]]\n",
      " confusion matrix: cost(-25)\n",
      " [[176   2]\n",
      " [  3   8]]\n",
      " confusion matrix: cost(-5)\n",
      " [[178   0]\n",
      " [  6   5]]\n",
      " confusion matrix: cost(-40)\n",
      " [[176   2]\n",
      " [  4   6]]\n",
      " confusion matrix: cost(-25)\n",
      " [[176   1]\n",
      " [  5   5]]\n",
      " confusion matrix: cost(-25)\n",
      " [[176   1]\n",
      " [  5   5]]\n"
     ]
    },
    {
     "name": "stderr",
     "output_type": "stream",
     "text": [
      "/usr/local/lib/python3.7/site-packages/xgboost/core.py:587: FutureWarning: Series.base is deprecated and will be removed in a future version\n",
      "  if getattr(data, 'base', None) is not None and \\\n"
     ]
    },
    {
     "name": "stdout",
     "output_type": "stream",
     "text": [
      " confusion matrix: cost(5)\n",
      " [[176   1]\n",
      " [  2   8]]\n",
      " confusion matrix: cost(-25)\n",
      " [[176   1]\n",
      " [  5   5]]\n",
      " confusion matrix: cost(-10)\n",
      " [[177   0]\n",
      " [  6   4]]\n",
      "depth 2 cost = -125\n",
      " confusion matrix: cost(15)\n",
      " [[178   0]\n",
      " [  4   7]]\n",
      " confusion matrix: cost(10)\n",
      " [[177   1]\n",
      " [  2   9]]\n",
      " confusion matrix: cost(-35)\n",
      " [[176   2]\n",
      " [  4   7]]\n",
      " confusion matrix: cost(15)\n",
      " [[178   0]\n",
      " [  4   7]]\n"
     ]
    },
    {
     "name": "stderr",
     "output_type": "stream",
     "text": [
      "/usr/local/lib/python3.7/site-packages/xgboost/core.py:587: FutureWarning: Series.base is deprecated and will be removed in a future version\n",
      "  if getattr(data, 'base', None) is not None and \\\n"
     ]
    },
    {
     "name": "stdout",
     "output_type": "stream",
     "text": [
      " confusion matrix: cost(-5)\n",
      " [[177   1]\n",
      " [  3   7]]\n",
      " confusion matrix: cost(-40)\n",
      " [[175   2]\n",
      " [  4   6]]\n",
      " confusion matrix: cost(-5)\n",
      " [[176   1]\n",
      " [  3   7]]\n",
      " confusion matrix: cost(15)\n",
      " [[176   1]\n",
      " [  1   9]]\n",
      " confusion matrix: cost(-25)\n",
      " [[176   1]\n",
      " [  5   5]]\n",
      " confusion matrix: cost(-25)\n",
      " [[176   1]\n",
      " [  5   5]]\n",
      "depth 3 cost = -80\n"
     ]
    },
    {
     "name": "stderr",
     "output_type": "stream",
     "text": [
      "/usr/local/lib/python3.7/site-packages/xgboost/core.py:587: FutureWarning: Series.base is deprecated and will be removed in a future version\n",
      "  if getattr(data, 'base', None) is not None and \\\n"
     ]
    },
    {
     "name": "stdout",
     "output_type": "stream",
     "text": [
      " confusion matrix: cost(15)\n",
      " [[178   0]\n",
      " [  4   7]]\n",
      " confusion matrix: cost(10)\n",
      " [[177   1]\n",
      " [  2   9]]\n",
      " confusion matrix: cost(-10)\n",
      " [[177   1]\n",
      " [  4   7]]\n",
      " confusion matrix: cost(15)\n",
      " [[178   0]\n",
      " [  4   7]]\n",
      " confusion matrix: cost(20)\n",
      " [[178   0]\n",
      " [  3   7]]\n",
      " confusion matrix: cost(-15)\n",
      " [[176   1]\n",
      " [  4   6]]\n",
      " confusion matrix: cost(-15)\n",
      " [[176   1]\n",
      " [  4   6]]\n",
      " confusion matrix: cost(5)\n",
      " [[176   1]\n",
      " [  2   8]]\n",
      " confusion matrix: cost(-50)\n",
      " [[175   2]\n",
      " [  5   5]]\n",
      " confusion matrix: cost(10)\n",
      " [[177   0]\n",
      " [  4   6]]\n",
      "depth 4 cost = -15\n"
     ]
    },
    {
     "name": "stderr",
     "output_type": "stream",
     "text": [
      "/usr/local/lib/python3.7/site-packages/xgboost/core.py:587: FutureWarning: Series.base is deprecated and will be removed in a future version\n",
      "  if getattr(data, 'base', None) is not None and \\\n"
     ]
    },
    {
     "name": "stdout",
     "output_type": "stream",
     "text": [
      " confusion matrix: cost(5)\n",
      " [[178   0]\n",
      " [  5   6]]\n",
      " confusion matrix: cost(25)\n",
      " [[178   0]\n",
      " [  3   8]]\n",
      " confusion matrix: cost(-35)\n",
      " [[176   2]\n",
      " [  4   7]]\n",
      " confusion matrix: cost(25)\n",
      " [[178   0]\n",
      " [  3   8]]\n",
      " confusion matrix: cost(30)\n",
      " [[178   0]\n",
      " [  2   8]]\n",
      " confusion matrix: cost(-15)\n",
      " [[176   1]\n",
      " [  4   6]]\n",
      " confusion matrix: cost(20)\n",
      " [[177   0]\n",
      " [  3   7]]\n",
      " confusion matrix: cost(5)\n",
      " [[176   1]\n",
      " [  2   8]]\n",
      " confusion matrix: cost(-15)\n",
      " [[176   1]\n",
      " [  4   6]]\n",
      " confusion matrix: cost(10)\n",
      " [[177   0]\n",
      " [  4   6]]\n",
      "depth 5 cost = 55\n",
      " confusion matrix: cost(25)\n",
      " [[178   0]\n",
      " [  3   8]]\n"
     ]
    },
    {
     "name": "stderr",
     "output_type": "stream",
     "text": [
      "/usr/local/lib/python3.7/site-packages/xgboost/core.py:587: FutureWarning: Series.base is deprecated and will be removed in a future version\n",
      "  if getattr(data, 'base', None) is not None and \\\n"
     ]
    },
    {
     "name": "stdout",
     "output_type": "stream",
     "text": [
      " confusion matrix: cost(35)\n",
      " [[178   0]\n",
      " [  2   9]]\n",
      " confusion matrix: cost(0)\n",
      " [[177   1]\n",
      " [  3   8]]\n",
      " confusion matrix: cost(25)\n",
      " [[178   0]\n",
      " [  3   8]]\n",
      " confusion matrix: cost(30)\n",
      " [[178   0]\n",
      " [  2   8]]\n",
      " confusion matrix: cost(-15)\n",
      " [[176   1]\n",
      " [  4   6]]\n",
      " confusion matrix: cost(-5)\n",
      " [[176   1]\n",
      " [  3   7]]\n",
      " confusion matrix: cost(5)\n",
      " [[176   1]\n",
      " [  2   8]]\n",
      " confusion matrix: cost(-40)\n",
      " [[175   2]\n",
      " [  4   6]]\n",
      " confusion matrix: cost(10)\n",
      " [[177   0]\n",
      " [  4   6]]\n",
      "depth 6 cost = 70\n",
      " confusion matrix: cost(25)\n",
      " [[178   0]\n",
      " [  3   8]]\n"
     ]
    },
    {
     "name": "stderr",
     "output_type": "stream",
     "text": [
      "/usr/local/lib/python3.7/site-packages/xgboost/core.py:587: FutureWarning: Series.base is deprecated and will be removed in a future version\n",
      "  if getattr(data, 'base', None) is not None and \\\n"
     ]
    },
    {
     "name": "stdout",
     "output_type": "stream",
     "text": [
      " confusion matrix: cost(35)\n",
      " [[178   0]\n",
      " [  2   9]]\n",
      " confusion matrix: cost(0)\n",
      " [[177   1]\n",
      " [  3   8]]\n",
      " confusion matrix: cost(25)\n",
      " [[178   0]\n",
      " [  3   8]]\n",
      " confusion matrix: cost(20)\n",
      " [[178   0]\n",
      " [  3   7]]\n",
      " confusion matrix: cost(-15)\n",
      " [[176   1]\n",
      " [  4   6]]\n",
      " confusion matrix: cost(-5)\n",
      " [[176   1]\n",
      " [  3   7]]\n",
      " confusion matrix: cost(5)\n",
      " [[176   1]\n",
      " [  2   8]]\n",
      " confusion matrix: cost(-5)\n",
      " [[176   1]\n",
      " [  3   7]]\n",
      " confusion matrix: cost(10)\n",
      " [[177   0]\n",
      " [  4   6]]\n",
      "depth 7 cost = 95\n"
     ]
    },
    {
     "name": "stderr",
     "output_type": "stream",
     "text": [
      "/usr/local/lib/python3.7/site-packages/xgboost/core.py:587: FutureWarning: Series.base is deprecated and will be removed in a future version\n",
      "  if getattr(data, 'base', None) is not None and \\\n"
     ]
    },
    {
     "name": "stdout",
     "output_type": "stream",
     "text": [
      " confusion matrix: cost(25)\n",
      " [[178   0]\n",
      " [  3   8]]\n",
      " confusion matrix: cost(35)\n",
      " [[178   0]\n",
      " [  2   9]]\n",
      " confusion matrix: cost(0)\n",
      " [[177   1]\n",
      " [  3   8]]\n",
      " confusion matrix: cost(15)\n",
      " [[178   0]\n",
      " [  4   7]]\n",
      " confusion matrix: cost(30)\n",
      " [[178   0]\n",
      " [  2   8]]\n",
      " confusion matrix: cost(-15)\n",
      " [[176   1]\n",
      " [  4   6]]\n",
      " confusion matrix: cost(-5)\n",
      " [[176   1]\n",
      " [  3   7]]\n",
      " confusion matrix: cost(5)\n",
      " [[176   1]\n",
      " [  2   8]]\n",
      " confusion matrix: cost(-15)\n",
      " [[176   1]\n",
      " [  4   6]]\n",
      " confusion matrix: cost(10)\n",
      " [[177   0]\n",
      " [  4   6]]\n",
      "depth 8 cost = 85\n",
      " confusion matrix: cost(35)\n",
      " [[178   0]\n",
      " [  2   9]]\n",
      " confusion matrix: cost(35)\n",
      " [[178   0]\n",
      " [  2   9]]\n"
     ]
    },
    {
     "name": "stderr",
     "output_type": "stream",
     "text": [
      "/usr/local/lib/python3.7/site-packages/xgboost/core.py:587: FutureWarning: Series.base is deprecated and will be removed in a future version\n",
      "  if getattr(data, 'base', None) is not None and \\\n"
     ]
    },
    {
     "name": "stdout",
     "output_type": "stream",
     "text": [
      " confusion matrix: cost(0)\n",
      " [[177   1]\n",
      " [  3   8]]\n",
      " confusion matrix: cost(25)\n",
      " [[178   0]\n",
      " [  3   8]]\n",
      " confusion matrix: cost(5)\n",
      " [[177   1]\n",
      " [  2   8]]\n",
      " confusion matrix: cost(-30)\n",
      " [[175   2]\n",
      " [  3   7]]\n",
      " confusion matrix: cost(-5)\n",
      " [[176   1]\n",
      " [  3   7]]\n",
      " confusion matrix: cost(5)\n",
      " [[176   1]\n",
      " [  2   8]]\n",
      " confusion matrix: cost(-15)\n",
      " [[176   1]\n",
      " [  4   6]]\n",
      " confusion matrix: cost(10)\n",
      " [[177   0]\n",
      " [  4   6]]\n",
      "depth 9 cost = 65\n",
      " confusion matrix: cost(25)\n",
      " [[178   0]\n",
      " [  3   8]]\n"
     ]
    },
    {
     "name": "stderr",
     "output_type": "stream",
     "text": [
      "/usr/local/lib/python3.7/site-packages/xgboost/core.py:587: FutureWarning: Series.base is deprecated and will be removed in a future version\n",
      "  if getattr(data, 'base', None) is not None and \\\n"
     ]
    },
    {
     "name": "stdout",
     "output_type": "stream",
     "text": [
      " confusion matrix: cost(35)\n",
      " [[178   0]\n",
      " [  2   9]]\n",
      " confusion matrix: cost(0)\n",
      " [[177   1]\n",
      " [  3   8]]\n",
      " confusion matrix: cost(25)\n",
      " [[178   0]\n",
      " [  3   8]]\n",
      " confusion matrix: cost(30)\n",
      " [[178   0]\n",
      " [  2   8]]\n",
      " confusion matrix: cost(-30)\n",
      " [[175   2]\n",
      " [  3   7]]\n",
      " confusion matrix: cost(20)\n",
      " [[177   0]\n",
      " [  3   7]]\n",
      " confusion matrix: cost(5)\n",
      " [[176   1]\n",
      " [  2   8]]\n",
      " confusion matrix: cost(-25)\n",
      " [[176   1]\n",
      " [  5   5]]\n",
      " confusion matrix: cost(10)\n",
      " [[177   0]\n",
      " [  4   6]]\n",
      "depth 10 cost = 95\n",
      " confusion matrix: cost(25)\n",
      " [[178   0]\n",
      " [  3   8]]\n"
     ]
    },
    {
     "name": "stderr",
     "output_type": "stream",
     "text": [
      "/usr/local/lib/python3.7/site-packages/xgboost/core.py:587: FutureWarning: Series.base is deprecated and will be removed in a future version\n",
      "  if getattr(data, 'base', None) is not None and \\\n"
     ]
    },
    {
     "name": "stdout",
     "output_type": "stream",
     "text": [
      " confusion matrix: cost(35)\n",
      " [[178   0]\n",
      " [  2   9]]\n",
      " confusion matrix: cost(0)\n",
      " [[177   1]\n",
      " [  3   8]]\n",
      " confusion matrix: cost(25)\n",
      " [[178   0]\n",
      " [  3   8]]\n",
      " confusion matrix: cost(30)\n",
      " [[178   0]\n",
      " [  2   8]]\n",
      " confusion matrix: cost(-5)\n",
      " [[176   1]\n",
      " [  3   7]]\n",
      " confusion matrix: cost(-5)\n",
      " [[176   1]\n",
      " [  3   7]]\n",
      " confusion matrix: cost(5)\n",
      " [[176   1]\n",
      " [  2   8]]\n",
      " confusion matrix: cost(-25)\n",
      " [[176   1]\n",
      " [  5   5]]\n",
      " confusion matrix: cost(10)\n",
      " [[177   0]\n",
      " [  4   6]]\n",
      "depth 11 cost = 95\n",
      " confusion matrix: cost(35)\n",
      " [[178   0]\n",
      " [  2   9]]\n"
     ]
    },
    {
     "name": "stderr",
     "output_type": "stream",
     "text": [
      "/usr/local/lib/python3.7/site-packages/xgboost/core.py:587: FutureWarning: Series.base is deprecated and will be removed in a future version\n",
      "  if getattr(data, 'base', None) is not None and \\\n"
     ]
    },
    {
     "name": "stdout",
     "output_type": "stream",
     "text": [
      " confusion matrix: cost(35)\n",
      " [[178   0]\n",
      " [  2   9]]\n",
      " confusion matrix: cost(0)\n",
      " [[177   1]\n",
      " [  3   8]]\n",
      " confusion matrix: cost(25)\n",
      " [[178   0]\n",
      " [  3   8]]\n",
      " confusion matrix: cost(30)\n",
      " [[178   0]\n",
      " [  2   8]]\n",
      " confusion matrix: cost(-5)\n",
      " [[176   1]\n",
      " [  3   7]]\n",
      " confusion matrix: cost(-15)\n",
      " [[176   1]\n",
      " [  4   6]]\n",
      " confusion matrix: cost(5)\n",
      " [[176   1]\n",
      " [  2   8]]\n",
      " confusion matrix: cost(-35)\n",
      " [[176   1]\n",
      " [  6   4]]\n",
      " confusion matrix: cost(10)\n",
      " [[177   0]\n",
      " [  4   6]]\n",
      "depth 12 cost = 85\n",
      " confusion matrix: cost(25)\n",
      " [[178   0]\n",
      " [  3   8]]\n"
     ]
    },
    {
     "name": "stderr",
     "output_type": "stream",
     "text": [
      "/usr/local/lib/python3.7/site-packages/xgboost/core.py:587: FutureWarning: Series.base is deprecated and will be removed in a future version\n",
      "  if getattr(data, 'base', None) is not None and \\\n"
     ]
    },
    {
     "name": "stdout",
     "output_type": "stream",
     "text": [
      " confusion matrix: cost(35)\n",
      " [[178   0]\n",
      " [  2   9]]\n",
      " confusion matrix: cost(0)\n",
      " [[177   1]\n",
      " [  3   8]]\n",
      " confusion matrix: cost(25)\n",
      " [[178   0]\n",
      " [  3   8]]\n",
      " confusion matrix: cost(40)\n",
      " [[178   0]\n",
      " [  1   9]]\n",
      " confusion matrix: cost(-5)\n",
      " [[176   1]\n",
      " [  3   7]]\n",
      " confusion matrix: cost(20)\n",
      " [[177   0]\n",
      " [  3   7]]\n",
      " confusion matrix: cost(-5)\n",
      " [[176   1]\n",
      " [  3   7]]\n",
      " confusion matrix: cost(-15)\n",
      " [[176   1]\n",
      " [  4   6]]\n",
      " confusion matrix: cost(10)\n",
      " [[177   0]\n",
      " [  4   6]]\n",
      "depth 13 cost = 130\n",
      " confusion matrix: cost(25)\n",
      " [[178   0]\n",
      " [  3   8]]\n"
     ]
    },
    {
     "name": "stderr",
     "output_type": "stream",
     "text": [
      "/usr/local/lib/python3.7/site-packages/xgboost/core.py:587: FutureWarning: Series.base is deprecated and will be removed in a future version\n",
      "  if getattr(data, 'base', None) is not None and \\\n"
     ]
    },
    {
     "name": "stdout",
     "output_type": "stream",
     "text": [
      " confusion matrix: cost(35)\n",
      " [[178   0]\n",
      " [  2   9]]\n",
      " confusion matrix: cost(0)\n",
      " [[177   1]\n",
      " [  3   8]]\n",
      " confusion matrix: cost(25)\n",
      " [[178   0]\n",
      " [  3   8]]\n",
      " confusion matrix: cost(40)\n",
      " [[178   0]\n",
      " [  1   9]]\n",
      " confusion matrix: cost(-5)\n",
      " [[176   1]\n",
      " [  3   7]]\n",
      " confusion matrix: cost(20)\n",
      " [[177   0]\n",
      " [  3   7]]\n",
      " confusion matrix: cost(-5)\n",
      " [[176   1]\n",
      " [  3   7]]\n",
      " confusion matrix: cost(-35)\n",
      " [[176   1]\n",
      " [  6   4]]\n",
      " confusion matrix: cost(10)\n",
      " [[177   0]\n",
      " [  4   6]]\n",
      "depth 14 cost = 110\n",
      " confusion matrix: cost(35)\n",
      " [[178   0]\n",
      " [  2   9]]\n"
     ]
    },
    {
     "name": "stderr",
     "output_type": "stream",
     "text": [
      "/usr/local/lib/python3.7/site-packages/xgboost/core.py:587: FutureWarning: Series.base is deprecated and will be removed in a future version\n",
      "  if getattr(data, 'base', None) is not None and \\\n"
     ]
    },
    {
     "name": "stdout",
     "output_type": "stream",
     "text": [
      " confusion matrix: cost(35)\n",
      " [[178   0]\n",
      " [  2   9]]\n",
      " confusion matrix: cost(0)\n",
      " [[177   1]\n",
      " [  3   8]]\n",
      " confusion matrix: cost(25)\n",
      " [[178   0]\n",
      " [  3   8]]\n",
      " confusion matrix: cost(40)\n",
      " [[178   0]\n",
      " [  1   9]]\n",
      " confusion matrix: cost(-5)\n",
      " [[176   1]\n",
      " [  3   7]]\n",
      " confusion matrix: cost(10)\n",
      " [[177   0]\n",
      " [  4   6]]\n",
      " confusion matrix: cost(-5)\n",
      " [[176   1]\n",
      " [  3   7]]\n",
      " confusion matrix: cost(-35)\n",
      " [[176   1]\n",
      " [  6   4]]\n",
      " confusion matrix: cost(10)\n",
      " [[177   0]\n",
      " [  4   6]]\n",
      "depth 15 cost = 110\n",
      " confusion matrix: cost(35)\n",
      " [[178   0]\n",
      " [  2   9]]\n"
     ]
    },
    {
     "name": "stderr",
     "output_type": "stream",
     "text": [
      "/usr/local/lib/python3.7/site-packages/xgboost/core.py:587: FutureWarning: Series.base is deprecated and will be removed in a future version\n",
      "  if getattr(data, 'base', None) is not None and \\\n"
     ]
    },
    {
     "name": "stdout",
     "output_type": "stream",
     "text": [
      " confusion matrix: cost(35)\n",
      " [[178   0]\n",
      " [  2   9]]\n",
      " confusion matrix: cost(0)\n",
      " [[177   1]\n",
      " [  3   8]]\n",
      " confusion matrix: cost(25)\n",
      " [[178   0]\n",
      " [  3   8]]\n",
      " confusion matrix: cost(40)\n",
      " [[178   0]\n",
      " [  1   9]]\n",
      " confusion matrix: cost(-5)\n",
      " [[176   1]\n",
      " [  3   7]]\n",
      " confusion matrix: cost(20)\n",
      " [[177   0]\n",
      " [  3   7]]\n",
      " confusion matrix: cost(-5)\n",
      " [[176   1]\n",
      " [  3   7]]\n",
      " confusion matrix: cost(-35)\n",
      " [[176   1]\n",
      " [  6   4]]\n",
      " confusion matrix: cost(10)\n",
      " [[177   0]\n",
      " [  4   6]]\n",
      "depth 16 cost = 120\n",
      " confusion matrix: cost(35)\n",
      " [[178   0]\n",
      " [  2   9]]\n"
     ]
    },
    {
     "name": "stderr",
     "output_type": "stream",
     "text": [
      "/usr/local/lib/python3.7/site-packages/xgboost/core.py:587: FutureWarning: Series.base is deprecated and will be removed in a future version\n",
      "  if getattr(data, 'base', None) is not None and \\\n"
     ]
    },
    {
     "name": "stdout",
     "output_type": "stream",
     "text": [
      " confusion matrix: cost(35)\n",
      " [[178   0]\n",
      " [  2   9]]\n",
      " confusion matrix: cost(0)\n",
      " [[177   1]\n",
      " [  3   8]]\n",
      " confusion matrix: cost(25)\n",
      " [[178   0]\n",
      " [  3   8]]\n",
      " confusion matrix: cost(30)\n",
      " [[178   0]\n",
      " [  2   8]]\n",
      " confusion matrix: cost(-5)\n",
      " [[176   1]\n",
      " [  3   7]]\n",
      " confusion matrix: cost(20)\n",
      " [[177   0]\n",
      " [  3   7]]\n",
      " confusion matrix: cost(-5)\n",
      " [[176   1]\n",
      " [  3   7]]\n",
      " confusion matrix: cost(-35)\n",
      " [[176   1]\n",
      " [  6   4]]\n",
      " confusion matrix: cost(10)\n",
      " [[177   0]\n",
      " [  4   6]]\n",
      "depth 17 cost = 110\n",
      " confusion matrix: cost(35)\n",
      " [[178   0]\n",
      " [  2   9]]\n"
     ]
    },
    {
     "name": "stderr",
     "output_type": "stream",
     "text": [
      "/usr/local/lib/python3.7/site-packages/xgboost/core.py:587: FutureWarning: Series.base is deprecated and will be removed in a future version\n",
      "  if getattr(data, 'base', None) is not None and \\\n"
     ]
    },
    {
     "name": "stdout",
     "output_type": "stream",
     "text": [
      " confusion matrix: cost(35)\n",
      " [[178   0]\n",
      " [  2   9]]\n",
      " confusion matrix: cost(0)\n",
      " [[177   1]\n",
      " [  3   8]]\n",
      " confusion matrix: cost(25)\n",
      " [[178   0]\n",
      " [  3   8]]\n",
      " confusion matrix: cost(30)\n",
      " [[178   0]\n",
      " [  2   8]]\n",
      " confusion matrix: cost(-5)\n",
      " [[176   1]\n",
      " [  3   7]]\n",
      " confusion matrix: cost(20)\n",
      " [[177   0]\n",
      " [  3   7]]\n",
      " confusion matrix: cost(-5)\n",
      " [[176   1]\n",
      " [  3   7]]\n",
      " confusion matrix: cost(-25)\n",
      " [[176   1]\n",
      " [  5   5]]\n",
      " confusion matrix: cost(10)\n",
      " [[177   0]\n",
      " [  4   6]]\n",
      "depth 18 cost = 120\n",
      " confusion matrix: cost(35)\n",
      " [[178   0]\n",
      " [  2   9]]\n"
     ]
    },
    {
     "name": "stderr",
     "output_type": "stream",
     "text": [
      "/usr/local/lib/python3.7/site-packages/xgboost/core.py:587: FutureWarning: Series.base is deprecated and will be removed in a future version\n",
      "  if getattr(data, 'base', None) is not None and \\\n"
     ]
    },
    {
     "name": "stdout",
     "output_type": "stream",
     "text": [
      " confusion matrix: cost(35)\n",
      " [[178   0]\n",
      " [  2   9]]\n",
      " confusion matrix: cost(0)\n",
      " [[177   1]\n",
      " [  3   8]]\n",
      " confusion matrix: cost(25)\n",
      " [[178   0]\n",
      " [  3   8]]\n",
      " confusion matrix: cost(30)\n",
      " [[178   0]\n",
      " [  2   8]]\n",
      " confusion matrix: cost(-5)\n",
      " [[176   1]\n",
      " [  3   7]]\n",
      " confusion matrix: cost(10)\n",
      " [[177   0]\n",
      " [  4   6]]\n",
      " confusion matrix: cost(-5)\n",
      " [[176   1]\n",
      " [  3   7]]\n",
      " confusion matrix: cost(-35)\n",
      " [[176   1]\n",
      " [  6   4]]\n",
      " confusion matrix: cost(0)\n",
      " [[177   0]\n",
      " [  5   5]]\n",
      "depth 19 cost = 90\n"
     ]
    }
   ],
   "source": [
    "parameter_tuning(X_train_norm_enc, 10,20)"
   ]
  },
  {
   "cell_type": "code",
   "execution_count": 43,
   "metadata": {
    "scrolled": false
   },
   "outputs": [
    {
     "name": "stderr",
     "output_type": "stream",
     "text": [
      "/usr/local/lib/python3.7/site-packages/xgboost/core.py:587: FutureWarning: Series.base is deprecated and will be removed in a future version\n",
      "  if getattr(data, 'base', None) is not None and \\\n"
     ]
    },
    {
     "name": "stdout",
     "output_type": "stream",
     "text": [
      "depth 0 cost = -520\n"
     ]
    },
    {
     "name": "stderr",
     "output_type": "stream",
     "text": [
      "/usr/local/lib/python3.7/site-packages/xgboost/core.py:587: FutureWarning: Series.base is deprecated and will be removed in a future version\n",
      "  if getattr(data, 'base', None) is not None and \\\n"
     ]
    },
    {
     "name": "stdout",
     "output_type": "stream",
     "text": [
      "depth 1 cost = 45\n"
     ]
    },
    {
     "name": "stderr",
     "output_type": "stream",
     "text": [
      "/usr/local/lib/python3.7/site-packages/xgboost/core.py:587: FutureWarning: Series.base is deprecated and will be removed in a future version\n",
      "  if getattr(data, 'base', None) is not None and \\\n"
     ]
    },
    {
     "name": "stdout",
     "output_type": "stream",
     "text": [
      "depth 2 cost = 130\n"
     ]
    },
    {
     "name": "stderr",
     "output_type": "stream",
     "text": [
      "/usr/local/lib/python3.7/site-packages/xgboost/core.py:587: FutureWarning: Series.base is deprecated and will be removed in a future version\n",
      "  if getattr(data, 'base', None) is not None and \\\n"
     ]
    },
    {
     "name": "stdout",
     "output_type": "stream",
     "text": [
      "depth 3 cost = -125\n"
     ]
    },
    {
     "name": "stderr",
     "output_type": "stream",
     "text": [
      "/usr/local/lib/python3.7/site-packages/xgboost/core.py:587: FutureWarning: Series.base is deprecated and will be removed in a future version\n",
      "  if getattr(data, 'base', None) is not None and \\\n"
     ]
    },
    {
     "name": "stdout",
     "output_type": "stream",
     "text": [
      "depth 4 cost = -105\n"
     ]
    },
    {
     "name": "stderr",
     "output_type": "stream",
     "text": [
      "/usr/local/lib/python3.7/site-packages/xgboost/core.py:587: FutureWarning: Series.base is deprecated and will be removed in a future version\n",
      "  if getattr(data, 'base', None) is not None and \\\n"
     ]
    },
    {
     "name": "stdout",
     "output_type": "stream",
     "text": [
      "depth 5 cost = -105\n"
     ]
    },
    {
     "name": "stderr",
     "output_type": "stream",
     "text": [
      "/usr/local/lib/python3.7/site-packages/xgboost/core.py:587: FutureWarning: Series.base is deprecated and will be removed in a future version\n",
      "  if getattr(data, 'base', None) is not None and \\\n"
     ]
    },
    {
     "name": "stdout",
     "output_type": "stream",
     "text": [
      "depth 6 cost = -165\n"
     ]
    },
    {
     "name": "stderr",
     "output_type": "stream",
     "text": [
      "/usr/local/lib/python3.7/site-packages/xgboost/core.py:587: FutureWarning: Series.base is deprecated and will be removed in a future version\n",
      "  if getattr(data, 'base', None) is not None and \\\n"
     ]
    },
    {
     "name": "stdout",
     "output_type": "stream",
     "text": [
      "depth 7 cost = -50\n"
     ]
    },
    {
     "name": "stderr",
     "output_type": "stream",
     "text": [
      "/usr/local/lib/python3.7/site-packages/xgboost/core.py:587: FutureWarning: Series.base is deprecated and will be removed in a future version\n",
      "  if getattr(data, 'base', None) is not None and \\\n"
     ]
    },
    {
     "name": "stdout",
     "output_type": "stream",
     "text": [
      "depth 8 cost = -40\n"
     ]
    },
    {
     "name": "stderr",
     "output_type": "stream",
     "text": [
      "/usr/local/lib/python3.7/site-packages/xgboost/core.py:587: FutureWarning: Series.base is deprecated and will be removed in a future version\n",
      "  if getattr(data, 'base', None) is not None and \\\n"
     ]
    },
    {
     "name": "stdout",
     "output_type": "stream",
     "text": [
      "depth 9 cost = -100\n",
      "depth 0 cost = -43855\n",
      "depth 1 cost = -295\n"
     ]
    },
    {
     "name": "stderr",
     "output_type": "stream",
     "text": [
      "/usr/local/lib/python3.7/site-packages/xgboost/core.py:587: FutureWarning: Series.base is deprecated and will be removed in a future version\n",
      "  if getattr(data, 'base', None) is not None and \\\n",
      "/usr/local/lib/python3.7/site-packages/xgboost/core.py:587: FutureWarning: Series.base is deprecated and will be removed in a future version\n",
      "  if getattr(data, 'base', None) is not None and \\\n",
      "/usr/local/lib/python3.7/site-packages/xgboost/core.py:587: FutureWarning: Series.base is deprecated and will be removed in a future version\n",
      "  if getattr(data, 'base', None) is not None and \\\n"
     ]
    },
    {
     "name": "stdout",
     "output_type": "stream",
     "text": [
      "depth 2 cost = -125\n"
     ]
    },
    {
     "name": "stderr",
     "output_type": "stream",
     "text": [
      "/usr/local/lib/python3.7/site-packages/xgboost/core.py:587: FutureWarning: Series.base is deprecated and will be removed in a future version\n",
      "  if getattr(data, 'base', None) is not None and \\\n"
     ]
    },
    {
     "name": "stdout",
     "output_type": "stream",
     "text": [
      "depth 3 cost = -80\n"
     ]
    },
    {
     "name": "stderr",
     "output_type": "stream",
     "text": [
      "/usr/local/lib/python3.7/site-packages/xgboost/core.py:587: FutureWarning: Series.base is deprecated and will be removed in a future version\n",
      "  if getattr(data, 'base', None) is not None and \\\n"
     ]
    },
    {
     "name": "stdout",
     "output_type": "stream",
     "text": [
      "depth 4 cost = -15\n"
     ]
    },
    {
     "name": "stderr",
     "output_type": "stream",
     "text": [
      "/usr/local/lib/python3.7/site-packages/xgboost/core.py:587: FutureWarning: Series.base is deprecated and will be removed in a future version\n",
      "  if getattr(data, 'base', None) is not None and \\\n"
     ]
    },
    {
     "name": "stdout",
     "output_type": "stream",
     "text": [
      "depth 5 cost = 55\n"
     ]
    },
    {
     "name": "stderr",
     "output_type": "stream",
     "text": [
      "/usr/local/lib/python3.7/site-packages/xgboost/core.py:587: FutureWarning: Series.base is deprecated and will be removed in a future version\n",
      "  if getattr(data, 'base', None) is not None and \\\n"
     ]
    },
    {
     "name": "stdout",
     "output_type": "stream",
     "text": [
      "depth 6 cost = 70\n"
     ]
    },
    {
     "name": "stderr",
     "output_type": "stream",
     "text": [
      "/usr/local/lib/python3.7/site-packages/xgboost/core.py:587: FutureWarning: Series.base is deprecated and will be removed in a future version\n",
      "  if getattr(data, 'base', None) is not None and \\\n"
     ]
    },
    {
     "name": "stdout",
     "output_type": "stream",
     "text": [
      "depth 7 cost = 95\n"
     ]
    },
    {
     "name": "stderr",
     "output_type": "stream",
     "text": [
      "/usr/local/lib/python3.7/site-packages/xgboost/core.py:587: FutureWarning: Series.base is deprecated and will be removed in a future version\n",
      "  if getattr(data, 'base', None) is not None and \\\n"
     ]
    },
    {
     "name": "stdout",
     "output_type": "stream",
     "text": [
      "depth 8 cost = 85\n"
     ]
    },
    {
     "name": "stderr",
     "output_type": "stream",
     "text": [
      "/usr/local/lib/python3.7/site-packages/xgboost/core.py:587: FutureWarning: Series.base is deprecated and will be removed in a future version\n",
      "  if getattr(data, 'base', None) is not None and \\\n"
     ]
    },
    {
     "name": "stdout",
     "output_type": "stream",
     "text": [
      "depth 9 cost = 65\n"
     ]
    },
    {
     "name": "stderr",
     "output_type": "stream",
     "text": [
      "/usr/local/lib/python3.7/site-packages/xgboost/core.py:587: FutureWarning: Series.base is deprecated and will be removed in a future version\n",
      "  if getattr(data, 'base', None) is not None and \\\n"
     ]
    },
    {
     "name": "stdout",
     "output_type": "stream",
     "text": [
      "depth 10 cost = 95\n"
     ]
    },
    {
     "name": "stderr",
     "output_type": "stream",
     "text": [
      "/usr/local/lib/python3.7/site-packages/xgboost/core.py:587: FutureWarning: Series.base is deprecated and will be removed in a future version\n",
      "  if getattr(data, 'base', None) is not None and \\\n"
     ]
    },
    {
     "name": "stdout",
     "output_type": "stream",
     "text": [
      "depth 11 cost = 95\n"
     ]
    },
    {
     "name": "stderr",
     "output_type": "stream",
     "text": [
      "/usr/local/lib/python3.7/site-packages/xgboost/core.py:587: FutureWarning: Series.base is deprecated and will be removed in a future version\n",
      "  if getattr(data, 'base', None) is not None and \\\n"
     ]
    },
    {
     "name": "stdout",
     "output_type": "stream",
     "text": [
      "depth 12 cost = 85\n"
     ]
    },
    {
     "name": "stderr",
     "output_type": "stream",
     "text": [
      "/usr/local/lib/python3.7/site-packages/xgboost/core.py:587: FutureWarning: Series.base is deprecated and will be removed in a future version\n",
      "  if getattr(data, 'base', None) is not None and \\\n"
     ]
    },
    {
     "name": "stdout",
     "output_type": "stream",
     "text": [
      "depth 13 cost = 130\n"
     ]
    },
    {
     "name": "stderr",
     "output_type": "stream",
     "text": [
      "/usr/local/lib/python3.7/site-packages/xgboost/core.py:587: FutureWarning: Series.base is deprecated and will be removed in a future version\n",
      "  if getattr(data, 'base', None) is not None and \\\n"
     ]
    },
    {
     "name": "stdout",
     "output_type": "stream",
     "text": [
      "depth 14 cost = 110\n"
     ]
    },
    {
     "name": "stderr",
     "output_type": "stream",
     "text": [
      "/usr/local/lib/python3.7/site-packages/xgboost/core.py:587: FutureWarning: Series.base is deprecated and will be removed in a future version\n",
      "  if getattr(data, 'base', None) is not None and \\\n"
     ]
    },
    {
     "name": "stdout",
     "output_type": "stream",
     "text": [
      "depth 15 cost = 110\n"
     ]
    },
    {
     "name": "stderr",
     "output_type": "stream",
     "text": [
      "/usr/local/lib/python3.7/site-packages/xgboost/core.py:587: FutureWarning: Series.base is deprecated and will be removed in a future version\n",
      "  if getattr(data, 'base', None) is not None and \\\n"
     ]
    },
    {
     "name": "stdout",
     "output_type": "stream",
     "text": [
      "depth 16 cost = 120\n"
     ]
    },
    {
     "name": "stderr",
     "output_type": "stream",
     "text": [
      "/usr/local/lib/python3.7/site-packages/xgboost/core.py:587: FutureWarning: Series.base is deprecated and will be removed in a future version\n",
      "  if getattr(data, 'base', None) is not None and \\\n"
     ]
    },
    {
     "name": "stdout",
     "output_type": "stream",
     "text": [
      "depth 17 cost = 110\n"
     ]
    },
    {
     "name": "stderr",
     "output_type": "stream",
     "text": [
      "/usr/local/lib/python3.7/site-packages/xgboost/core.py:587: FutureWarning: Series.base is deprecated and will be removed in a future version\n",
      "  if getattr(data, 'base', None) is not None and \\\n"
     ]
    },
    {
     "name": "stdout",
     "output_type": "stream",
     "text": [
      "depth 18 cost = 120\n"
     ]
    },
    {
     "name": "stderr",
     "output_type": "stream",
     "text": [
      "/usr/local/lib/python3.7/site-packages/xgboost/core.py:587: FutureWarning: Series.base is deprecated and will be removed in a future version\n",
      "  if getattr(data, 'base', None) is not None and \\\n"
     ]
    },
    {
     "name": "stdout",
     "output_type": "stream",
     "text": [
      "depth 19 cost = 90\n"
     ]
    }
   ],
   "source": [
    "parameter_tuning(X_train_select, 10,20)"
   ]
  }
 ],
 "metadata": {
  "kernelspec": {
   "display_name": "Python 3",
   "language": "python",
   "name": "python3"
  },
  "language_info": {
   "codemirror_mode": {
    "name": "ipython",
    "version": 3
   },
   "file_extension": ".py",
   "mimetype": "text/x-python",
   "name": "python",
   "nbconvert_exporter": "python",
   "pygments_lexer": "ipython3",
   "version": "3.7.0"
  },
  "varInspector": {
   "cols": {
    "lenName": 16,
    "lenType": 16,
    "lenVar": 40
   },
   "kernels_config": {
    "python": {
     "delete_cmd_postfix": "",
     "delete_cmd_prefix": "del ",
     "library": "var_list.py",
     "varRefreshCmd": "print(var_dic_list())"
    },
    "r": {
     "delete_cmd_postfix": ") ",
     "delete_cmd_prefix": "rm(",
     "library": "var_list.r",
     "varRefreshCmd": "cat(var_dic_list()) "
    }
   },
   "types_to_exclude": [
    "module",
    "function",
    "builtin_function_or_method",
    "instance",
    "_Feature"
   ],
   "window_display": false
  }
 },
 "nbformat": 4,
 "nbformat_minor": 2
}
