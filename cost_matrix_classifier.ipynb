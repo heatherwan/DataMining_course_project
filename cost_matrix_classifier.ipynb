{
 "cells": [
  {
   "cell_type": "code",
   "execution_count": 1,
   "metadata": {},
   "outputs": [],
   "source": [
    "import pandas as pd\n",
    "import numpy as np\n",
    "from sklearn.preprocessing import StandardScaler\n",
    "import matplotlib.pyplot as plt\n",
    "%matplotlib inline\n",
    "from classifiers import *"
   ]
  },
  {
   "cell_type": "code",
   "execution_count": 2,
   "metadata": {},
   "outputs": [
    {
     "name": "stdout",
     "output_type": "stream",
     "text": [
      "Train set has 1879 entries and 10 features\n",
      "Test set has 498121 entries and 9 features\n"
     ]
    }
   ],
   "source": [
    "train_data = pd.read_csv('data/train.csv', sep = '|')\n",
    "test_data = pd.read_csv('data/test.csv', sep = '|')\n",
    "print(f'Train set has {train_data.shape[0]} entries and {train_data.shape[1]} features')\n",
    "print(f'Test set has {test_data.shape[0]} entries and {test_data.shape[1]} features')\n"
   ]
  },
  {
   "cell_type": "code",
   "execution_count": 3,
   "metadata": {},
   "outputs": [],
   "source": [
    "y = train_data['fraud']\n",
    "X_all = train_data.append(test_data, sort=False).drop(columns=['fraud']).astype(float)\n",
    "# encode trustLevel\n",
    "X_encode = pd.get_dummies(X_all, columns=['trustLevel'], prefix='trustLevel')\n",
    "X_train_encode = X_encode.iloc[:1879,:]\n",
    "X_test_encode = X_encode.iloc[1879:, :]\n",
    "X_norm = StandardScaler().fit_transform(X_all)\n",
    "X_train_norm = X_norm[:1879,:]\n",
    "X_test_norm = X_norm[1879:,:]"
   ]
  },
  {
   "cell_type": "code",
   "execution_count": 4,
   "metadata": {
    "scrolled": false
   },
   "outputs": [],
   "source": [
    "X_sim_encode = pd.get_dummies(X_all['trustLevel'], prefix='trustLevel')\n",
    "X_rest = X_all.drop(columns=\"trustLevel\")\n",
    "X_norm_encode = pd.concat([X_sim_encode, \n",
    "                           pd.DataFrame(StandardScaler().fit_transform(X_rest), \n",
    "                                        columns=X_rest.columns, index=X_rest.index)], sort=False, axis=1)\n",
    "# print(X_norm_encode.shape)\n",
    "X_train_norm_enc = X_norm_encode.iloc[:1879,:]\n",
    "X_test_norm_enc = X_norm_encode.iloc[1879:,:]"
   ]
  },
  {
   "cell_type": "code",
   "execution_count": 5,
   "metadata": {
    "scrolled": false
   },
   "outputs": [
    {
     "name": "stdout",
     "output_type": "stream",
     "text": [
      "(1879, 14)\n",
      "(1879, 9)\n",
      "(1879, 14)\n"
     ]
    }
   ],
   "source": [
    "print(X_train_encode.shape)\n",
    "# print(X_test_encode.shape)\n",
    "print(X_train_norm.shape)\n",
    "# print(X_test_norm)\n",
    "# print(X_test_norm.shape)\n",
    "print(X_train_norm_enc.shape)"
   ]
  },
  {
   "cell_type": "code",
   "execution_count": 6,
   "metadata": {
    "scrolled": true
   },
   "outputs": [
    {
     "name": "stdout",
     "output_type": "stream",
     "text": [
      "Naive Bayes: test core = -113.0 \n",
      "K Nerest Neighbors: test core = -250.5 \n",
      "Linear SVM: test core = -260.0 \n",
      "RBF SVM: test core = -260.0 \n",
      "Decision Tree: test core = -81.5 \n",
      "Neural Net: test core = -176.5 \n",
      "Random Forest: test core = -260.0 \n",
      "AdaBoost: test core = -31.0 \n",
      "XGBoost: test core = -30.0 \n"
     ]
    }
   ],
   "source": [
    "evaluate_classification(X_train_norm, y)"
   ]
  },
  {
   "cell_type": "code",
   "execution_count": 7,
   "metadata": {
    "scrolled": true
   },
   "outputs": [
    {
     "name": "stdout",
     "output_type": "stream",
     "text": [
      "Naive Bayes: test core = -158.0 \n",
      "K Nerest Neighbors: test core = -271.5 \n",
      "Linear SVM: test core = -260.0 \n",
      "RBF SVM: test core = -260.0 \n",
      "Decision Tree: test core = -80.5 \n",
      "Neural Net: test core = -249.0 \n",
      "Random Forest: test core = -260.0 \n",
      "AdaBoost: test core = -32.5 \n",
      "XGBoost: test core = -38.0 \n"
     ]
    }
   ],
   "source": [
    "evaluate_classification(X_train_encode, y)"
   ]
  },
  {
   "cell_type": "code",
   "execution_count": 8,
   "metadata": {},
   "outputs": [
    {
     "name": "stdout",
     "output_type": "stream",
     "text": [
      "Naive Bayes: test core = -185.0 \n",
      "K Nerest Neighbors: test core = -239.0 \n",
      "Linear SVM: test core = -260.0 \n",
      "RBF SVM: test core = -260.0 \n",
      "Decision Tree: test core = -81.0 \n",
      "Neural Net: test core = -163.0 \n",
      "Random Forest: test core = -260.0 \n",
      "AdaBoost: test core = -32.5 \n",
      "XGBoost: test core = -38.0 \n"
     ]
    }
   ],
   "source": [
    "evaluate_classification(X_train_norm_enc, y)"
   ]
  },
  {
   "cell_type": "markdown",
   "metadata": {},
   "source": [
    "<h2> Define xgboost with cost sensitive </h2>"
   ]
  },
  {
   "cell_type": "code",
   "execution_count": 9,
   "metadata": {},
   "outputs": [],
   "source": [
    "#!/usr/bin/python\n",
    "import numpy as np\n",
    "import xgboost as xgb\n",
    "from sklearn.model_selection import train_test_split\n",
    "from sklearn.metrics import mean_squared_error\n",
    "\n",
    "def logistic_obj(y_hat, dtrain, alpha=5, beta=25): # alpha for FN beta for FP\n",
    "    y = dtrain.get_label()\n",
    "    pred = 1. / (1. + np.exp(-y_hat))\n",
    "    grad = pred * (beta + alpha*y - beta*y) - alpha*y  # alpha*(p-1)*y + beta*p*(1-y)\n",
    "    hess = pred * (1 - pred) * (beta + alpha*y - beta*y)\n",
    "    return grad, hess\n",
    "\n",
    "def err_rate(pred, dtrain):\n",
    "    y = dtrain.get_label()\n",
    "    pred = 1. / (1. + np.exp(-pred))\n",
    "    loss_fn = y*np.log(pred)\n",
    "    loss_fp = (1.0 - y)*np.log(1.0 - pred)\n",
    "    return 'error', np.sum(-(5*loss_fn+25*loss_fp))/len(y)\n",
    "\n"
   ]
  },
  {
   "cell_type": "code",
   "execution_count": 10,
   "metadata": {},
   "outputs": [],
   "source": [
    "def cross_validate(X_train, X_test, y_train, y_test, depth, num_round):\n",
    "    # load data\n",
    "    d_train = xgb.DMatrix(X_train, label=y_train)\n",
    "    d_val = xgb.DMatrix(X_test, label=y_test)\n",
    "    # build model\n",
    "    param = {'max_depth': depth, 'eta': 1, 'silent': 1, 'seed': 0}\n",
    "#     watchlist = [(d_val, 'eval'), (d_train, 'train')]\n",
    "#     model_trn = xgb.train(param, d_train, num_round, watchlist, obj=logistic_obj, feval=err_rate)\n",
    "    model_trn = xgb.train(param, d_train, num_round, obj=logistic_obj, feval=err_rate)\n",
    "    # prediction\n",
    "    pred = model_trn.predict(d_val) \n",
    "    pred = 1. / (1. + np.exp(-pred))\n",
    "    return pred"
   ]
  },
  {
   "cell_type": "markdown",
   "metadata": {},
   "source": [
    "<h2> test with one train-test split</h2>"
   ]
  },
  {
   "cell_type": "code",
   "execution_count": 11,
   "metadata": {},
   "outputs": [
    {
     "name": "stdout",
     "output_type": "stream",
     "text": [
      "cost = -40\n"
     ]
    },
    {
     "name": "stderr",
     "output_type": "stream",
     "text": [
      "/usr/local/lib/python3.7/site-packages/xgboost/core.py:587: FutureWarning: Series.base is deprecated and will be removed in a future version\n",
      "  if getattr(data, 'base', None) is not None and \\\n"
     ]
    }
   ],
   "source": [
    "## normalized dataset\n",
    "X_train, X_test, y_train, y_test = train_test_split(X_train_norm, y, test_size=0.3, random_state=42)\n",
    "pred = cross_validate(X_train, X_test, y_train, y_test, 4, 90)\n",
    "print(f'cost = {profit_scorer(y_test, pred>0.5)}')"
   ]
  },
  {
   "cell_type": "code",
   "execution_count": 12,
   "metadata": {},
   "outputs": [
    {
     "name": "stdout",
     "output_type": "stream",
     "text": [
      "cost = -5\n"
     ]
    }
   ],
   "source": [
    "## encode dataset\n",
    "X_train, X_test, y_train, y_test = train_test_split(X_train_encode, y, test_size=0.3, random_state=42)\n",
    "pred = cross_validate(X_train, X_test, y_train, y_test, 2, 100)\n",
    "print(f'cost = {profit_scorer(y_test, pred>0.5)}')"
   ]
  },
  {
   "cell_type": "code",
   "execution_count": 13,
   "metadata": {},
   "outputs": [
    {
     "name": "stdout",
     "output_type": "stream",
     "text": [
      "cost = -5\n"
     ]
    }
   ],
   "source": [
    "## encode and normalized dataset\n",
    "X_train, X_test, y_train, y_test = train_test_split(X_train_norm_enc, y, test_size=0.3, random_state=42)\n",
    "pred = cross_validate(X_train, X_test, y_train, y_test, 2, 100)\n",
    "print(f'cost = {profit_scorer(y_test, pred>0.5)}')"
   ]
  },
  {
   "cell_type": "markdown",
   "metadata": {},
   "source": [
    "<h2> test with cv split</h2>"
   ]
  },
  {
   "cell_type": "code",
   "execution_count": 15,
   "metadata": {
    "scrolled": false
   },
   "outputs": [
    {
     "name": "stderr",
     "output_type": "stream",
     "text": [
      "/usr/local/lib/python3.7/site-packages/xgboost/core.py:587: FutureWarning: Series.base is deprecated and will be removed in a future version\n",
      "  if getattr(data, 'base', None) is not None and \\\n"
     ]
    },
    {
     "name": "stdout",
     "output_type": "stream",
     "text": [
      "cost = -37.0\n"
     ]
    }
   ],
   "source": [
    "## normalized dataset\n",
    "cv = StratifiedKFold(n_splits=10, random_state=42)\n",
    "cost=0\n",
    "for train_index, test_index in cv.split(X_train_norm, y):\n",
    "    X_train, X_test = X_train_norm[train_index], X_train_norm[test_index]\n",
    "    y_train, y_test = y[train_index], y[test_index]\n",
    "    pred = cross_validate(X_train, X_test, y_train, y_test, 2, 130)\n",
    "    cost += profit_scorer(y_test, pred>0.5)\n",
    "\n",
    "print(f'cost = {cost/10}')"
   ]
  },
  {
   "cell_type": "code",
   "execution_count": 16,
   "metadata": {
    "scrolled": true
   },
   "outputs": [
    {
     "name": "stderr",
     "output_type": "stream",
     "text": [
      "/usr/local/lib/python3.7/site-packages/xgboost/core.py:587: FutureWarning: Series.base is deprecated and will be removed in a future version\n",
      "  if getattr(data, 'base', None) is not None and \\\n"
     ]
    },
    {
     "name": "stdout",
     "output_type": "stream",
     "text": [
      "cost = -27.0\n"
     ]
    }
   ],
   "source": [
    "## encode dataset\n",
    "cv = StratifiedKFold(n_splits=10, random_state=42)\n",
    "cost=0\n",
    "for train_index, test_index in cv.split(X_train_encode, y):\n",
    "    X_train, X_test = X_train_encode.iloc[train_index], X_train_encode.iloc[test_index]\n",
    "    y_train, y_test = y[train_index], y[test_index]\n",
    "    pred = cross_validate(X_train, X_test, y_train, y_test, 2, 210)\n",
    "    cost += profit_scorer(y_test, pred>0.5)\n",
    "\n",
    "print(f'cost = {cost/10}')"
   ]
  },
  {
   "cell_type": "code",
   "execution_count": 14,
   "metadata": {
    "scrolled": true
   },
   "outputs": [
    {
     "name": "stderr",
     "output_type": "stream",
     "text": [
      "/usr/local/lib/python3.7/site-packages/xgboost/core.py:587: FutureWarning: Series.base is deprecated and will be removed in a future version\n",
      "  if getattr(data, 'base', None) is not None and \\\n"
     ]
    },
    {
     "name": "stdout",
     "output_type": "stream",
     "text": [
      "cost = -27.0\n"
     ]
    }
   ],
   "source": [
    "## encode and normalized dataset\n",
    "cv = StratifiedKFold(n_splits=10, random_state=42)\n",
    "cost=0\n",
    "for train_index, test_index in cv.split(X_train_norm_enc, y):\n",
    "    X_train, X_test = X_train_encode.iloc[train_index], X_train_encode.iloc[test_index]\n",
    "    y_train, y_test = y[train_index], y[test_index]\n",
    "    pred = cross_validate(X_train, X_test, y_train, y_test, 2, 210)\n",
    "    cost += profit_scorer(y_test, pred>0.5)\n",
    "\n",
    "print(f'cost = {cost/10}')"
   ]
  },
  {
   "cell_type": "markdown",
   "metadata": {},
   "source": [
    "<h2> test parameters - depth/num_round</h2>"
   ]
  },
  {
   "cell_type": "code",
   "execution_count": 92,
   "metadata": {
    "scrolled": false
   },
   "outputs": [
    {
     "name": "stderr",
     "output_type": "stream",
     "text": [
      "/usr/local/lib/python3.7/site-packages/xgboost/core.py:587: FutureWarning: Series.base is deprecated and will be removed in a future version\n",
      "  if getattr(data, 'base', None) is not None and \\\n"
     ]
    },
    {
     "name": "stdout",
     "output_type": "stream",
     "text": [
      "depth 10 cost = -40.5\n"
     ]
    },
    {
     "name": "stderr",
     "output_type": "stream",
     "text": [
      "/usr/local/lib/python3.7/site-packages/xgboost/core.py:587: FutureWarning: Series.base is deprecated and will be removed in a future version\n",
      "  if getattr(data, 'base', None) is not None and \\\n"
     ]
    },
    {
     "name": "stdout",
     "output_type": "stream",
     "text": [
      "depth 11 cost = -40.5\n"
     ]
    },
    {
     "name": "stderr",
     "output_type": "stream",
     "text": [
      "/usr/local/lib/python3.7/site-packages/xgboost/core.py:587: FutureWarning: Series.base is deprecated and will be removed in a future version\n",
      "  if getattr(data, 'base', None) is not None and \\\n"
     ]
    },
    {
     "name": "stdout",
     "output_type": "stream",
     "text": [
      "depth 12 cost = -43.5\n"
     ]
    },
    {
     "name": "stderr",
     "output_type": "stream",
     "text": [
      "/usr/local/lib/python3.7/site-packages/xgboost/core.py:587: FutureWarning: Series.base is deprecated and will be removed in a future version\n",
      "  if getattr(data, 'base', None) is not None and \\\n"
     ]
    },
    {
     "name": "stdout",
     "output_type": "stream",
     "text": [
      "depth 13 cost = -37.0\n"
     ]
    },
    {
     "name": "stderr",
     "output_type": "stream",
     "text": [
      "/usr/local/lib/python3.7/site-packages/xgboost/core.py:587: FutureWarning: Series.base is deprecated and will be removed in a future version\n",
      "  if getattr(data, 'base', None) is not None and \\\n"
     ]
    },
    {
     "name": "stdout",
     "output_type": "stream",
     "text": [
      "depth 14 cost = -43.0\n"
     ]
    },
    {
     "name": "stderr",
     "output_type": "stream",
     "text": [
      "/usr/local/lib/python3.7/site-packages/xgboost/core.py:587: FutureWarning: Series.base is deprecated and will be removed in a future version\n",
      "  if getattr(data, 'base', None) is not None and \\\n"
     ]
    },
    {
     "name": "stdout",
     "output_type": "stream",
     "text": [
      "depth 15 cost = -43.0\n"
     ]
    },
    {
     "name": "stderr",
     "output_type": "stream",
     "text": [
      "/usr/local/lib/python3.7/site-packages/xgboost/core.py:587: FutureWarning: Series.base is deprecated and will be removed in a future version\n",
      "  if getattr(data, 'base', None) is not None and \\\n"
     ]
    },
    {
     "name": "stdout",
     "output_type": "stream",
     "text": [
      "depth 16 cost = -40.0\n"
     ]
    },
    {
     "name": "stderr",
     "output_type": "stream",
     "text": [
      "/usr/local/lib/python3.7/site-packages/xgboost/core.py:587: FutureWarning: Series.base is deprecated and will be removed in a future version\n",
      "  if getattr(data, 'base', None) is not None and \\\n"
     ]
    },
    {
     "name": "stdout",
     "output_type": "stream",
     "text": [
      "depth 17 cost = -43.0\n"
     ]
    },
    {
     "name": "stderr",
     "output_type": "stream",
     "text": [
      "/usr/local/lib/python3.7/site-packages/xgboost/core.py:587: FutureWarning: Series.base is deprecated and will be removed in a future version\n",
      "  if getattr(data, 'base', None) is not None and \\\n"
     ]
    },
    {
     "name": "stdout",
     "output_type": "stream",
     "text": [
      "depth 18 cost = -40.0\n"
     ]
    },
    {
     "name": "stderr",
     "output_type": "stream",
     "text": [
      "/usr/local/lib/python3.7/site-packages/xgboost/core.py:587: FutureWarning: Series.base is deprecated and will be removed in a future version\n",
      "  if getattr(data, 'base', None) is not None and \\\n"
     ]
    },
    {
     "name": "stdout",
     "output_type": "stream",
     "text": [
      "depth 19 cost = -49.0\n"
     ]
    }
   ],
   "source": [
    "## encode dataset\n",
    "for i in range(10,20):\n",
    "    cv = StratifiedKFold(n_splits=10, random_state=42)\n",
    "    cost=0\n",
    "    for train_index, test_index in cv.split(X_train_norm, y):\n",
    "        X_train, X_test = X_train_norm[train_index], X_train_norm[test_index]\n",
    "        y_train, y_test = y[train_index], y[test_index]\n",
    "#         pred = cross_validate(X_train, X_test, y_train, y_test, i, 100)\n",
    "        pred = cross_validate(X_train, X_test, y_train, y_test, 2, i*10)\n",
    "        cost += profit_scorer(y_test, pred>0.5)\n",
    "    print(f'depth {i} cost = {cost/10}')"
   ]
  },
  {
   "cell_type": "code",
   "execution_count": 91,
   "metadata": {
    "scrolled": false
   },
   "outputs": [
    {
     "name": "stderr",
     "output_type": "stream",
     "text": [
      "/usr/local/lib/python3.7/site-packages/xgboost/core.py:587: FutureWarning: Series.base is deprecated and will be removed in a future version\n",
      "  if getattr(data, 'base', None) is not None and \\\n"
     ]
    },
    {
     "name": "stdout",
     "output_type": "stream",
     "text": [
      "depth 1 cost = -45.0\n"
     ]
    },
    {
     "name": "stderr",
     "output_type": "stream",
     "text": [
      "/usr/local/lib/python3.7/site-packages/xgboost/core.py:587: FutureWarning: Series.base is deprecated and will be removed in a future version\n",
      "  if getattr(data, 'base', None) is not None and \\\n"
     ]
    },
    {
     "name": "stdout",
     "output_type": "stream",
     "text": [
      "depth 2 cost = -27.0\n"
     ]
    },
    {
     "name": "stderr",
     "output_type": "stream",
     "text": [
      "/usr/local/lib/python3.7/site-packages/xgboost/core.py:587: FutureWarning: Series.base is deprecated and will be removed in a future version\n",
      "  if getattr(data, 'base', None) is not None and \\\n"
     ]
    },
    {
     "name": "stdout",
     "output_type": "stream",
     "text": [
      "depth 3 cost = -48.5\n"
     ]
    },
    {
     "name": "stderr",
     "output_type": "stream",
     "text": [
      "/usr/local/lib/python3.7/site-packages/xgboost/core.py:587: FutureWarning: Series.base is deprecated and will be removed in a future version\n",
      "  if getattr(data, 'base', None) is not None and \\\n"
     ]
    },
    {
     "name": "stdout",
     "output_type": "stream",
     "text": [
      "depth 4 cost = -48.0\n"
     ]
    },
    {
     "name": "stderr",
     "output_type": "stream",
     "text": [
      "/usr/local/lib/python3.7/site-packages/xgboost/core.py:587: FutureWarning: Series.base is deprecated and will be removed in a future version\n",
      "  if getattr(data, 'base', None) is not None and \\\n"
     ]
    },
    {
     "name": "stdout",
     "output_type": "stream",
     "text": [
      "depth 5 cost = -55.0\n"
     ]
    },
    {
     "name": "stderr",
     "output_type": "stream",
     "text": [
      "/usr/local/lib/python3.7/site-packages/xgboost/core.py:587: FutureWarning: Series.base is deprecated and will be removed in a future version\n",
      "  if getattr(data, 'base', None) is not None and \\\n"
     ]
    },
    {
     "name": "stdout",
     "output_type": "stream",
     "text": [
      "depth 6 cost = -41.0\n"
     ]
    },
    {
     "name": "stderr",
     "output_type": "stream",
     "text": [
      "/usr/local/lib/python3.7/site-packages/xgboost/core.py:587: FutureWarning: Series.base is deprecated and will be removed in a future version\n",
      "  if getattr(data, 'base', None) is not None and \\\n"
     ]
    },
    {
     "name": "stdout",
     "output_type": "stream",
     "text": [
      "depth 7 cost = -38.0\n"
     ]
    },
    {
     "name": "stderr",
     "output_type": "stream",
     "text": [
      "/usr/local/lib/python3.7/site-packages/xgboost/core.py:587: FutureWarning: Series.base is deprecated and will be removed in a future version\n",
      "  if getattr(data, 'base', None) is not None and \\\n"
     ]
    },
    {
     "name": "stdout",
     "output_type": "stream",
     "text": [
      "depth 8 cost = -53.5\n"
     ]
    },
    {
     "name": "stderr",
     "output_type": "stream",
     "text": [
      "/usr/local/lib/python3.7/site-packages/xgboost/core.py:587: FutureWarning: Series.base is deprecated and will be removed in a future version\n",
      "  if getattr(data, 'base', None) is not None and \\\n"
     ]
    },
    {
     "name": "stdout",
     "output_type": "stream",
     "text": [
      "depth 9 cost = -50.0\n"
     ]
    }
   ],
   "source": [
    "## encode dataset\n",
    "for i in range(1,10):\n",
    "    cv = StratifiedKFold(n_splits=10, random_state=42)\n",
    "    cost=0\n",
    "    for train_index, test_index in cv.split(X_train_encode, y):\n",
    "        X_train, X_test = X_train_encode.iloc[train_index], X_train_encode.iloc[test_index]\n",
    "        y_train, y_test = y[train_index], y[test_index]\n",
    "        pred = cross_validate(X_train, X_test, y_train, y_test, i, 210)\n",
    "#         pred = cross_validate(X_train, X_test, y_train, y_test, 2, i*10)\n",
    "        cost += profit_scorer(y_test, pred>0.5)\n",
    "    print(f'depth {i} cost = {cost/10}')"
   ]
  }
 ],
 "metadata": {
  "kernelspec": {
   "display_name": "Python 3",
   "language": "python",
   "name": "python3"
  },
  "language_info": {
   "codemirror_mode": {
    "name": "ipython",
    "version": 3
   },
   "file_extension": ".py",
   "mimetype": "text/x-python",
   "name": "python",
   "nbconvert_exporter": "python",
   "pygments_lexer": "ipython3",
   "version": "3.7.0"
  },
  "varInspector": {
   "cols": {
    "lenName": 16,
    "lenType": 16,
    "lenVar": 40
   },
   "kernels_config": {
    "python": {
     "delete_cmd_postfix": "",
     "delete_cmd_prefix": "del ",
     "library": "var_list.py",
     "varRefreshCmd": "print(var_dic_list())"
    },
    "r": {
     "delete_cmd_postfix": ") ",
     "delete_cmd_prefix": "rm(",
     "library": "var_list.r",
     "varRefreshCmd": "cat(var_dic_list()) "
    }
   },
   "types_to_exclude": [
    "module",
    "function",
    "builtin_function_or_method",
    "instance",
    "_Feature"
   ],
   "window_display": false
  }
 },
 "nbformat": 4,
 "nbformat_minor": 2
}
