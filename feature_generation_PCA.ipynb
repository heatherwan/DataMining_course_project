{
 "cells": [
  {
   "cell_type": "markdown",
   "metadata": {},
   "source": [
    "## Different perspective\n",
    "1. PCA\n",
    "2. manual\n",
    "   - encode trustLevel\n",
    "   - delete 'valuePerSecond', 'scannedLineItemsPerSecond', 'lineItemVoidsPerPosition'\n",
    "   - generate no. item = totalScanTimeInSeconds * scannedLineItemsPerSecond\n",
    "3. automatic generation"
   ]
  },
  {
   "cell_type": "markdown",
   "metadata": {},
   "source": [
    "## Code for test\n",
    "prepare different input dataset and test at 10-fold stratified cross validation set\n",
    "1. train_data (raw data)\n",
    "2. X_train_norm_enc data (normalized and encode)\n",
    "3. X_train_manual (manual)\n",
    "4. X_train_PCA (PCA)"
   ]
  },
  {
   "cell_type": "code",
   "execution_count": 1,
   "metadata": {},
   "outputs": [],
   "source": [
    "import pandas as pd\n",
    "import numpy as np\n",
    "from sklearn.preprocessing import MinMaxScaler\n",
    "import matplotlib.pyplot as plt\n",
    "%matplotlib inline\n",
    "from classifiers import *\n",
    "from sklearn.metrics import confusion_matrix"
   ]
  },
  {
   "cell_type": "code",
   "execution_count": 2,
   "metadata": {},
   "outputs": [
    {
     "name": "stdout",
     "output_type": "stream",
     "text": [
      "Train set has 1879 entries and 10 features\n",
      "Test set has 498121 entries and 9 features\n"
     ]
    }
   ],
   "source": [
    "train_data = pd.read_csv('data/train.csv', sep = '|')\n",
    "test_data = pd.read_csv('data/test.csv', sep = '|')\n",
    "print(f'Train set has {train_data.shape[0]} entries and {train_data.shape[1]} features')\n",
    "print(f'Test set has {test_data.shape[0]} entries and {test_data.shape[1]} features')\n",
    "\n",
    "y = train_data['fraud']\n",
    "X = train_data.drop(columns=['fraud']).astype(float)\n",
    "X_all = X.append(test_data, sort=False)"
   ]
  },
  {
   "cell_type": "code",
   "execution_count": 3,
   "metadata": {},
   "outputs": [
    {
     "name": "stdout",
     "output_type": "stream",
     "text": [
      "(1879, 14)\n"
     ]
    },
    {
     "name": "stderr",
     "output_type": "stream",
     "text": [
      "/usr/local/lib/python3.7/site-packages/sklearn/preprocessing/data.py:323: DataConversionWarning: Data with input dtype uint8, float64 were all converted to float64 by MinMaxScaler.\n",
      "  return self.partial_fit(X, y)\n"
     ]
    }
   ],
   "source": [
    "## normalize w/ encode \n",
    "X_encode= pd.get_dummies(X_all, columns=['trustLevel'], prefix='trustLevel')\n",
    "X_norm_encode = pd.DataFrame(MinMaxScaler().fit_transform(X_encode), columns=X_encode.columns, index=X_encode.index)\n",
    "X_train_norm_enc = X_norm_encode.iloc[:1879,:]\n",
    "X_test_norm_enc = X_norm_encode.iloc[1879:,:]\n",
    "print(X_train_norm_enc.shape)"
   ]
  },
  {
   "cell_type": "code",
   "execution_count": 4,
   "metadata": {
    "scrolled": false
   },
   "outputs": [
    {
     "name": "stdout",
     "output_type": "stream",
     "text": [
      "(1879, 12)\n"
     ]
    }
   ],
   "source": [
    "## delete correlate features\n",
    "X_manual = X_all.assign(no_item = X_all.totalScanTimeInSeconds* X_all.scannedLineItemsPerSecond)\n",
    "X_manual = X_manual.drop(columns=['valuePerSecond', 'scannedLineItemsPerSecond', 'lineItemVoidsPerPosition'])\n",
    "X_manual.shape\n",
    "X_manual_norm = pd.DataFrame(MinMaxScaler().fit_transform(X_manual), columns=X_manual.columns, index=X_manual.index)\n",
    "X_manual_norm_enc = pd.get_dummies(X_manual_norm, columns=['trustLevel'])\n",
    "X_train_manual = X_manual_norm_enc.iloc[:1879,:]\n",
    "X_test_manual = X_manual_norm_enc.iloc[:1879,:]\n",
    "print(X_train_manual.shape)"
   ]
  },
  {
   "cell_type": "code",
   "execution_count": 5,
   "metadata": {},
   "outputs": [],
   "source": [
    "def code_for_test(X,y):\n",
    "    \"\"\"\n",
    "    test code with 10-fold stratified cross validation\n",
    "    parameters\n",
    "    X: trainset features after generation\n",
    "    y: trainset y label\n",
    "    \"\"\"\n",
    "    evaluate_classification(X, y)"
   ]
  },
  {
   "cell_type": "code",
   "execution_count": 6,
   "metadata": {},
   "outputs": [
    {
     "name": "stdout",
     "output_type": "stream",
     "text": [
      "K Nerest Neighbors: test core = -710 \n",
      "Linear SVM: test core = -520 \n",
      "RBF SVM: test core = -610 \n",
      "Logistic Regression: test core = -630 \n",
      "Decision Tree: test core = -760 \n",
      "Neural Net: test core = -505 \n",
      "Random Forest: test core = -85 \n",
      "AdaBoost: test core = -55 \n",
      "XGBoost: test core = -60 \n"
     ]
    }
   ],
   "source": [
    "code_for_test(X_train_norm_enc, y)"
   ]
  },
  {
   "cell_type": "code",
   "execution_count": 7,
   "metadata": {},
   "outputs": [
    {
     "name": "stdout",
     "output_type": "stream",
     "text": [
      "K Nerest Neighbors: test core = -65 \n",
      "Linear SVM: test core = -520 \n",
      "RBF SVM: test core = 225 \n",
      "Logistic Regression: test core = 205 \n",
      "Decision Tree: test core = -200 \n",
      "Neural Net: test core = 200 \n",
      "Random Forest: test core = 80 \n",
      "AdaBoost: test core = 135 \n",
      "XGBoost: test core = 80 \n"
     ]
    }
   ],
   "source": [
    "code_for_test(X_train_manual, y)"
   ]
  },
  {
   "cell_type": "markdown",
   "metadata": {},
   "source": [
    "## PCA"
   ]
  },
  {
   "cell_type": "code",
   "execution_count": 8,
   "metadata": {},
   "outputs": [],
   "source": [
    "from sklearn.decomposition import PCA \n",
    "pca = PCA(n_components = 'mle')\n",
    "X_train_PCA = pca.fit_transform(X_train_manual)"
   ]
  },
  {
   "cell_type": "code",
   "execution_count": 9,
   "metadata": {},
   "outputs": [
    {
     "name": "stdout",
     "output_type": "stream",
     "text": [
      "[[-0.13098485 -0.18134151 -0.59834553 ... -0.35483645  0.04568597\n",
      "   0.02375872]\n",
      " [-0.16179671 -0.51917526  0.66880188 ...  0.08399506 -0.40902145\n",
      "   0.2969565 ]\n",
      " [-0.16594859 -0.60324986  0.65355599 ... -0.09566804  0.28095549\n",
      "  -0.24742593]\n",
      " ...\n",
      " [-0.11462781 -0.13732637 -0.25645255 ... -0.54495218 -0.42649373\n",
      "   0.10559086]\n",
      " [ 0.84510662  0.21070022  0.10828317 ... -0.33169038 -0.1483822\n",
      "  -0.23118448]\n",
      " [-0.06397616 -0.15622316 -0.28300791 ... -0.22868086  0.15629087\n",
      "   0.22400727]]\n"
     ]
    }
   ],
   "source": [
    "print(X_train_PCA)"
   ]
  },
  {
   "cell_type": "code",
   "execution_count": 10,
   "metadata": {},
   "outputs": [
    {
     "data": {
      "text/plain": [
       "<matplotlib.legend.Legend at 0x1108e2b70>"
      ]
     },
     "execution_count": 10,
     "metadata": {},
     "output_type": "execute_result"
    },
    {
     "data": {
      "image/png": "[encoded data removed]",
      "text/plain": [
       "<Figure size 432x288 with 1 Axes>"
      ]
     },
     "metadata": {
      "needs_background": "light"
     },
     "output_type": "display_data"
    }
   ],
   "source": [
    "plt.scatter(X_train_PCA[y==1,0], X_train_PCA[y==1,1], label='1')\n",
    "plt.scatter(X_train_PCA[y==0,0], X_train_PCA[y==0,1], label='0')\n",
    "plt.legend()"
   ]
  },
  {
   "cell_type": "code",
   "execution_count": 11,
   "metadata": {},
   "outputs": [
    {
     "name": "stdout",
     "output_type": "stream",
     "text": [
      "K Nerest Neighbors: test core = -65 \n",
      "Linear SVM: test core = -520 \n",
      "RBF SVM: test core = 225 \n",
      "Logistic Regression: test core = 205 \n",
      "Decision Tree: test core = -75 \n",
      "Neural Net: test core = 180 \n",
      "Random Forest: test core = -10 \n",
      "AdaBoost: test core = 190 \n",
      "XGBoost: test core = 80 \n"
     ]
    }
   ],
   "source": [
    "code_for_test(X_train_PCA, y)"
   ]
  }
 ],
 "metadata": {
  "kernelspec": {
   "display_name": "Python 3",
   "language": "python",
   "name": "python3"
  },
  "language_info": {
   "codemirror_mode": {
    "name": "ipython",
    "version": 3
   },
   "file_extension": ".py",
   "mimetype": "text/x-python",
   "name": "python",
   "nbconvert_exporter": "python",
   "pygments_lexer": "ipython3",
   "version": "3.7.0"
  }
 },
 "nbformat": 4,
 "nbformat_minor": 2
}
