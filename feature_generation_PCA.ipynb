{
 "cells": [
  {
   "cell_type": "markdown",
   "metadata": {},
   "source": [
    "## Functions and libraries "
   ]
  },
  {
   "cell_type": "code",
   "execution_count": 1,
   "metadata": {},
   "outputs": [],
   "source": [
    "import pandas as pd\n",
    "import numpy as np\n",
    "from sklearn.preprocessing import MinMaxScaler\n",
    "import matplotlib.pyplot as plt\n",
    "%matplotlib inline\n",
    "from classifiers import *\n",
    "from sklearn.metrics import confusion_matrix"
   ]
  },
  {
   "cell_type": "code",
   "execution_count": 13,
   "metadata": {},
   "outputs": [],
   "source": [
    "from sklearn.feature_selection import RFE\n",
    "from sklearn.linear_model import LogisticRegression\n",
    "from sklearn.ensemble import RandomForestRegressor\n",
    "from sklearn.linear_model import Ridge\n",
    "from sklearn.linear_model import Lasso"
   ]
  },
  {
   "cell_type": "code",
   "execution_count": 34,
   "metadata": {},
   "outputs": [],
   "source": [
    "def feature_selection(X, y):\n",
    "    model = LogisticRegression(solver='lbfgs', max_iter=300)\n",
    "    models = {'logistic': model, 'RFE': RFE(model, 5), 'ridge': Ridge(alpha=1.0), 'Lasso': Lasso()}\n",
    "    for k, v in models.items():\n",
    "        print(k)\n",
    "        fit = v.fit(X, y)\n",
    "        if k == 'RFE':\n",
    "            print(\"Num Features: %s\" % (fit.n_features_))\n",
    "            print(\"Feature Ranking: %s\" % (fit.ranking_))\n",
    "            for i, j in sorted(zip(fit.ranking_, X.columns), reverse=False):\n",
    "                print(i,j)\n",
    "\n",
    "        elif k == 'logistic':\n",
    "            for i, j in sorted(zip(map(lambda x: round(x, 4), fit.coef_.reshape(-1)), X.columns), reverse=True):\n",
    "                print(i,j)\n",
    "        else:\n",
    "            for i, j in sorted(zip(map(lambda x: round(x, 4), abs(fit.coef_)), X.columns), reverse=True):\n",
    "                print(i,j)"
   ]
  },
  {
   "cell_type": "markdown",
   "metadata": {},
   "source": [
    "## Different perspective\n",
    "1. PCA\n",
    "2. manual\n",
    "   - encode trustLevel\n",
    "   - delete 'valuePerSecond', 'scannedLineItemsPerSecond', 'lineItemVoidsPerPosition'\n",
    "   - generate no. item = totalScanTimeInSeconds * scannedLineItemsPerSecond\n",
    "3. automatic generation => not done"
   ]
  },
  {
   "cell_type": "code",
   "execution_count": 6,
   "metadata": {},
   "outputs": [],
   "source": [
    "def code_for_test(X,y):\n",
    "    \"\"\"\n",
    "    test code with 10-fold stratified cross validation\n",
    "    parameters\n",
    "    X: trainset features after generation\n",
    "    y: trainset y label\n",
    "    \"\"\"\n",
    "    evaluate_classification(X, y)"
   ]
  },
  {
   "cell_type": "markdown",
   "metadata": {},
   "source": [
    "## Dataset for test\n",
    "prepare different input dataset and test at 10-fold stratified cross validation set\n",
    "1. X (raw data)\n",
    "2. X_train_norm data (normalized)\n",
    "3. X_train_norm_enc data (normalized and encode)\n",
    "4. X_train_manual (manual)\n",
    "5. X_train_manual_enc (manual and encode)"
   ]
  },
  {
   "cell_type": "markdown",
   "metadata": {},
   "source": [
    "## Original"
   ]
  },
  {
   "cell_type": "code",
   "execution_count": 2,
   "metadata": {},
   "outputs": [
    {
     "name": "stdout",
     "output_type": "stream",
     "text": [
      "Train set has 1879 entries and 10 features\n",
      "Test set has 498121 entries and 9 features\n"
     ]
    }
   ],
   "source": [
    "train_data = pd.read_csv('data/train.csv', sep = '|')\n",
    "test_data = pd.read_csv('data/test.csv', sep = '|')\n",
    "print(f'Train set has {train_data.shape[0]} entries and {train_data.shape[1]} features')\n",
    "print(f'Test set has {test_data.shape[0]} entries and {test_data.shape[1]} features')"
   ]
  },
  {
   "cell_type": "code",
   "execution_count": 3,
   "metadata": {},
   "outputs": [
    {
     "name": "stdout",
     "output_type": "stream",
     "text": [
      "(1879, 14)\n"
     ]
    },
    {
     "name": "stderr",
     "output_type": "stream",
     "text": [
      "/usr/local/lib/python3.7/site-packages/sklearn/preprocessing/data.py:323: DataConversionWarning: Data with input dtype uint8, float64 were all converted to float64 by MinMaxScaler.\n",
      "  return self.partial_fit(X, y)\n"
     ]
    }
   ],
   "source": [
    "y = train_data['fraud']\n",
    "X = train_data.drop(columns=['fraud']).astype(float)\n",
    "fit_minmax = MinMaxScaler()\n",
    "X_encode = pd.get_dummies(X, columns=['trustLevel'], prefix='trustLevel')\n",
    "X_train_norm_enc = pd.DataFrame(fit_minmax.fit_transform(X_encode), columns=X_encode.columns, index=X_encode.index)\n",
    "print(X_train_norm_enc.shape)\n",
    "X_test_encode = pd.get_dummies(test_data, columns=['trustLevel'], prefix='trustLevel')\n",
    "X_test_norm_enc = pd.DataFrame(fit_minmax.transform(X_test_encode), columns=X_test_encode.columns, index=X_test_encode.index)"
   ]
  },
  {
   "cell_type": "code",
   "execution_count": 4,
   "metadata": {},
   "outputs": [
    {
     "name": "stdout",
     "output_type": "stream",
     "text": [
      "(1879, 9)\n"
     ]
    }
   ],
   "source": [
    "# without encode\n",
    "fit_minmax = MinMaxScaler()\n",
    "X_train_norm = pd.DataFrame(fit_minmax.fit_transform(X), columns=X.columns, index=X.index)\n",
    "print(X_train_norm.shape)\n",
    "X_test_norm = pd.DataFrame(fit_minmax.transform(test_data), columns=test_data.columns, index=test_data.index)"
   ]
  },
  {
   "cell_type": "markdown",
   "metadata": {},
   "source": [
    "## Manual delete and create"
   ]
  },
  {
   "cell_type": "code",
   "execution_count": 20,
   "metadata": {
    "scrolled": false
   },
   "outputs": [
    {
     "name": "stdout",
     "output_type": "stream",
     "text": [
      "(1879, 7)\n",
      "(498121, 7)\n",
      "   trustLevel  totalScanTimeInSeconds  grandTotal  lineItemVoids  \\\n",
      "0         0.8                0.575178    0.547174       0.636364   \n",
      "1         0.4                0.057955    0.273637       0.454545   \n",
      "2         0.4                0.827775    0.621811       0.272727   \n",
      "3         1.0                0.978130    0.923462       0.727273   \n",
      "4         0.8                0.234008    0.815608       0.272727   \n",
      "\n",
      "   scansWithoutRegistration  quantityModifications   no_item  \n",
      "0                       0.0                    0.6  0.965517  \n",
      "1                       0.2                    0.8  0.448276  \n",
      "2                       1.0                    1.0  0.413793  \n",
      "3                       0.4                    0.8  0.965517  \n",
      "4                       0.7                    0.4  0.896552  \n",
      "(1879, 12)\n",
      "(498121, 12)\n"
     ]
    },
    {
     "name": "stderr",
     "output_type": "stream",
     "text": [
      "/usr/local/lib/python3.7/site-packages/sklearn/preprocessing/data.py:323: DataConversionWarning: Data with input dtype uint8, float64 were all converted to float64 by MinMaxScaler.\n",
      "  return self.partial_fit(X, y)\n"
     ]
    }
   ],
   "source": [
    "## delete correlate features\n",
    "X_manual = X.assign(no_item = X.totalScanTimeInSeconds* X.scannedLineItemsPerSecond)\\\n",
    "                     .drop(columns=['valuePerSecond', 'scannedLineItemsPerSecond', 'lineItemVoidsPerPosition'])\n",
    "X_test = test_data.assign(no_item = test_data.totalScanTimeInSeconds* test_data.scannedLineItemsPerSecond)\\\n",
    "                     .drop(columns=['valuePerSecond', 'scannedLineItemsPerSecond', 'lineItemVoidsPerPosition'])\n",
    "\n",
    "fit_minmax = MinMaxScaler()\n",
    "\n",
    "X_train_manual = pd.DataFrame(fit_minmax.fit_transform(X_manual), columns=X_manual.columns, index=X_manual.index)\n",
    "X_test_manual = pd.DataFrame(fit_minmax.transform(X_test), columns=X_test.columns, index=X_test.index)\n",
    "print(X_train_manual.shape)\n",
    "print(X_test_manual.shape)\n",
    "\n",
    "X_manual_encode = pd.get_dummies(X_manual, columns=['trustLevel'], prefix='trustLevel')\n",
    "X_test_encode = pd.get_dummies(X_test, columns=['trustLevel'], prefix='trustLevel')\n",
    "\n",
    "X_train_manual_enc = pd.DataFrame(fit_minmax.fit_transform(X_manual_encode), columns=X_manual_encode.columns, index=X_manual_encode.index)\n",
    "X_test_manual_enc = pd.DataFrame(fit_minmax.transform(X_test_encode), columns=X_test_encode.columns, index=X_test_encode.index)\n",
    "print(X_train_manual_enc.shape)\n",
    "print(X_test_manual_enc.shape)\n"
   ]
  },
  {
   "cell_type": "markdown",
   "metadata": {},
   "source": [
    "## Cross validation test \n",
    "1. normalization => no influence\n",
    "2. normalization + encode => improve 20\n",
    "3. manual => improve ~ 200\n",
    "4. manual + encode => get best score 225 "
   ]
  },
  {
   "cell_type": "code",
   "execution_count": 7,
   "metadata": {},
   "outputs": [
    {
     "name": "stdout",
     "output_type": "stream",
     "text": [
      "RBF SVM: test core = -520 \n",
      "Logistic Regression: test core = -495 \n",
      "Neural Net: test core = -510 \n",
      "Random Forest: test core = -95 \n",
      "AdaBoost: test core = -130 \n",
      "XGBoost: test core = -80 \n"
     ]
    }
   ],
   "source": [
    "code_for_test(X_train_norm, y)"
   ]
  },
  {
   "cell_type": "code",
   "execution_count": 8,
   "metadata": {},
   "outputs": [
    {
     "name": "stdout",
     "output_type": "stream",
     "text": [
      "RBF SVM: test core = -670 \n",
      "Logistic Regression: test core = -630 \n",
      "Neural Net: test core = -505 \n",
      "Random Forest: test core = -80 \n",
      "AdaBoost: test core = -65 \n",
      "XGBoost: test core = -60 \n"
     ]
    }
   ],
   "source": [
    "code_for_test(X_train_norm_enc, y)"
   ]
  },
  {
   "cell_type": "code",
   "execution_count": 9,
   "metadata": {
    "scrolled": true
   },
   "outputs": [
    {
     "name": "stdout",
     "output_type": "stream",
     "text": [
      "RBF SVM: test core = -10 \n",
      "Logistic Regression: test core = -5 \n",
      "Neural Net: test core = -20 \n",
      "Random Forest: test core = 95 \n",
      "AdaBoost: test core = 195 \n",
      "XGBoost: test core = 110 \n"
     ]
    }
   ],
   "source": [
    "code_for_test(X_train_manual, y)"
   ]
  },
  {
   "cell_type": "code",
   "execution_count": 24,
   "metadata": {
    "scrolled": true
   },
   "outputs": [
    {
     "name": "stdout",
     "output_type": "stream",
     "text": [
      "RBF SVM: test core = 225 \n",
      "Logistic Regression: test core = 205 \n",
      "Neural Net: test core = 190 \n",
      "Random Forest: test core = 115 \n",
      "AdaBoost: test core = 135 \n",
      "XGBoost: test core = 80 \n"
     ]
    }
   ],
   "source": [
    "code_for_test(X_train_manual_enc, y)"
   ]
  },
  {
   "cell_type": "markdown",
   "metadata": {},
   "source": [
    "## feature selection\n",
    "1. grandtotal, quantitymodification still not significant\n",
    "2. remove => get better score for adaboost 235"
   ]
  },
  {
   "cell_type": "code",
   "execution_count": 44,
   "metadata": {},
   "outputs": [
    {
     "name": "stdout",
     "output_type": "stream",
     "text": [
      "logistic\n",
      "6.8858 no_item\n",
      "3.976 trustLevel_1.0\n",
      "2.7258 totalScanTimeInSeconds\n",
      "1.6393 scansWithoutRegistration\n",
      "1.2608 trustLevel_2.0\n",
      "1.2442 lineItemVoids\n",
      "0.3383 grandTotal\n",
      "0.1721 quantityModifications\n",
      "-1.1386 trustLevel_4.0\n",
      "-1.2942 trustLevel_5.0\n",
      "-1.3767 trustLevel_6.0\n",
      "-1.4265 trustLevel_3.0\n",
      "RFE\n",
      "Num Features: 5\n",
      "Feature Ranking: [1 7 2 1 8 1 1 1 3 6 5 4]\n",
      "1 no_item\n",
      "1 scansWithoutRegistration\n",
      "1 totalScanTimeInSeconds\n",
      "1 trustLevel_1.0\n",
      "1 trustLevel_2.0\n",
      "2 lineItemVoids\n",
      "3 trustLevel_3.0\n",
      "4 trustLevel_6.0\n",
      "5 trustLevel_5.0\n",
      "6 trustLevel_4.0\n",
      "7 grandTotal\n",
      "8 quantityModifications\n",
      "ridge\n",
      "0.2196 no_item\n",
      "0.2134 trustLevel_1.0\n",
      "0.0941 totalScanTimeInSeconds\n",
      "0.0636 scansWithoutRegistration\n",
      "0.0587 trustLevel_6.0\n",
      "0.0546 trustLevel_3.0\n",
      "0.0514 trustLevel_5.0\n",
      "0.0461 trustLevel_4.0\n",
      "0.0301 lineItemVoids\n",
      "0.0176 grandTotal\n",
      "0.0082 quantityModifications\n",
      "0.0027 trustLevel_2.0\n",
      "Lasso\n",
      "0.0 trustLevel_6.0\n",
      "0.0 trustLevel_5.0\n",
      "0.0 trustLevel_4.0\n",
      "0.0 trustLevel_3.0\n",
      "0.0 trustLevel_2.0\n",
      "0.0 trustLevel_1.0\n",
      "0.0 totalScanTimeInSeconds\n",
      "0.0 scansWithoutRegistration\n",
      "0.0 quantityModifications\n",
      "0.0 no_item\n",
      "0.0 lineItemVoids\n",
      "0.0 grandTotal\n"
     ]
    }
   ],
   "source": [
    "feature_selection(X_train_manual_enc, y)"
   ]
  },
  {
   "cell_type": "code",
   "execution_count": 43,
   "metadata": {},
   "outputs": [
    {
     "name": "stdout",
     "output_type": "stream",
     "text": [
      "RBF SVM: test core = 115 \n",
      "Logistic Regression: test core = 230 \n",
      "Neural Net: test core = 210 \n",
      "Random Forest: test core = 150 \n",
      "AdaBoost: test core = 235 \n",
      "XGBoost: test core = 100 \n"
     ]
    }
   ],
   "source": [
    "code_for_test(X_train_manual_enc.drop(columns=['grandTotal','quantityModifications']), y)"
   ]
  },
  {
   "cell_type": "markdown",
   "metadata": {},
   "source": [
    "## test on trustLevel\n",
    "1. remove => model collapse\n",
    "2. only level 1, 2 => worse\n",
    "3. only level 1, 2 but encode => worse \n"
   ]
  },
  {
   "cell_type": "code",
   "execution_count": 31,
   "metadata": {},
   "outputs": [
    {
     "name": "stdout",
     "output_type": "stream",
     "text": [
      "RBF SVM: test core = -520 \n",
      "Logistic Regression: test core = -540 \n",
      "Neural Net: test core = -510 \n",
      "Random Forest: test core = -880 \n",
      "AdaBoost: test core = -1070 \n",
      "XGBoost: test core = -1010 \n"
     ]
    }
   ],
   "source": [
    "X_train_notrustlevel = X_train_manual.iloc[:,:6]\n",
    "# print(X_train_notrustlevel.shape)\n",
    "code_for_test(X_train_notrustlevel, y)"
   ]
  },
  {
   "cell_type": "code",
   "execution_count": 32,
   "metadata": {
    "scrolled": false
   },
   "outputs": [
    {
     "name": "stdout",
     "output_type": "stream",
     "text": [
      "RBF SVM: test core = 70 \n",
      "Logistic Regression: test core = -5 \n",
      "Neural Net: test core = -30 \n",
      "Random Forest: test core = 120 \n",
      "AdaBoost: test core = 195 \n",
      "XGBoost: test core = 110 \n"
     ]
    }
   ],
   "source": [
    "X_train_trustlevel_12 = X_train_manual[X_train_manual['trustLevel']<3]\n",
    "y_trust12 = y[X_train_manual['trustLevel']<3]\n",
    "code_for_test(X_train_trustlevel_12, y_trust12)"
   ]
  },
  {
   "cell_type": "code",
   "execution_count": 39,
   "metadata": {
    "scrolled": true
   },
   "outputs": [
    {
     "name": "stdout",
     "output_type": "stream",
     "text": [
      "RBF SVM: test core = 130 \n",
      "Logistic Regression: test core = 140 \n",
      "Neural Net: test core = -120 \n",
      "Random Forest: test core = 15 \n",
      "AdaBoost: test core = 45 \n",
      "XGBoost: test core = 150 \n"
     ]
    }
   ],
   "source": [
    "X_train_trustlevel_12 = X_train_manual_enc[X_train_manual_enc['trustLevel_1.0']==1].append(X_train_manual_enc[X_train_manual_enc['trustLevel_2.0']==1]).iloc[:,:8]\n",
    "y_trust12 = y[X_train_manual_enc['trustLevel_1.0']==1].append(y[X_train_manual_enc['trustLevel_2.0']==1])\n",
    "code_for_test(X_train_trustlevel_12, y_trust12)"
   ]
  },
  {
   "cell_type": "markdown",
   "metadata": {},
   "source": [
    "## PCA\n",
    "1. with encode w/o encode => PCA distribution different\n",
    "2. result not improve"
   ]
  },
  {
   "cell_type": "code",
   "execution_count": 35,
   "metadata": {},
   "outputs": [
    {
     "name": "stdout",
     "output_type": "stream",
     "text": [
      "original  8\n",
      "normalize  8\n",
      "normalize encode 13\n",
      "manual 2\n",
      "manual encode 11\n",
      "w/o trust 2\n",
      "w/ 12 8\n"
     ]
    },
    {
     "name": "stderr",
     "output_type": "stream",
     "text": [
      "/usr/local/lib/python3.7/site-packages/sklearn/decomposition/pca.py:76: RuntimeWarning: divide by zero encountered in log\n",
      "  pv = -np.log(v) * n_samples * (n_features - rank) / 2.\n",
      "/usr/local/lib/python3.7/site-packages/sklearn/decomposition/pca.py:87: RuntimeWarning: divide by zero encountered in double_scalars\n",
      "  (1. / spectrum_[j] - 1. / spectrum_[i])) + log(n_samples)\n",
      "/usr/local/lib/python3.7/site-packages/sklearn/decomposition/pca.py:89: RuntimeWarning: invalid value encountered in double_scalars\n",
      "  ll = pu + pl + pv + pp - pa / 2. - rank * log(n_samples) / 2.\n",
      "/usr/local/lib/python3.7/site-packages/sklearn/decomposition/pca.py:68: RuntimeWarning: divide by zero encountered in log\n",
      "  pl = np.sum(np.log(spectrum[:rank]))\n",
      "/usr/local/lib/python3.7/site-packages/sklearn/decomposition/pca.py:87: RuntimeWarning: invalid value encountered in double_scalars\n",
      "  (1. / spectrum_[j] - 1. / spectrum_[i])) + log(n_samples)\n"
     ]
    }
   ],
   "source": [
    "from sklearn.decomposition import PCA \n",
    "pca = PCA(n_components = 'mle')\n",
    "# original\n",
    "X_train_PCA = pca.fit_transform(X)\n",
    "X_test_PCA = pca.transform(test_data)\n",
    "print('original ', pca.n_components_)\n",
    "\n",
    "# nomalize\n",
    "X_train_PCA_norm = pca.fit_transform(X_train_norm)\n",
    "X_test_PCA_norm = pca.transform(X_test_norm)\n",
    "print('normalize ', pca.n_components_)\n",
    "\n",
    "# normalize encode\n",
    "X_train_PCA_norm_enc = pca.fit_transform(X_train_norm_enc)\n",
    "X_test_PCA_norm_enc = pca.transform(X_test_norm_enc)\n",
    "print('normalize encode', pca.n_components_)\n",
    "\n",
    "# nmanual \n",
    "X_train_PCA_manual = pca.fit_transform(X_train_manual)\n",
    "X_test_PCA_manual = pca.transform(X_test_manual)\n",
    "print('manual', pca.n_components_)\n",
    "\n",
    "# nmanual encode\n",
    "X_train_PCA_manual_enc = pca.fit_transform(X_train_manual_enc)\n",
    "X_test_PCA_manual_enc = pca.transform(X_test_manual_enc)\n",
    "print('manual encode', pca.n_components_)\n",
    "\n",
    "# without truseLevel\n",
    "X_train_PCA_notrust = pca.fit_transform(X_train_notrustlevel)\n",
    "print('w/o trust', pca.n_components_)\n",
    "\n",
    "# with trustLevel1,2\n",
    "X_train_PCA_trust12 = pca.fit_transform(X_train_trustlevel_12)\n",
    "print('w/ 12', pca.n_components_)\n"
   ]
  },
  {
   "cell_type": "code",
   "execution_count": 36,
   "metadata": {},
   "outputs": [
    {
     "data": {
      "text/plain": [
       "Text(0.5, 1.0, 'PCA trust12')"
      ]
     },
     "execution_count": 36,
     "metadata": {},
     "output_type": "execute_result"
    },
    {
     "data": {
      "image/png": "[encoded data removed]",
      "text/plain": [
       "<Figure size 720x1080 with 8 Axes>"
      ]
     },
     "metadata": {
      "needs_background": "light"
     },
     "output_type": "display_data"
    }
   ],
   "source": [
    "fig, ax = plt.subplots(4,2)\n",
    "fig.set_figheight(15)\n",
    "fig.set_figwidth(10)\n",
    "ax[0,0].scatter(X_train_PCA[y==1,0], X_train_PCA[y==1,1], label='1')\n",
    "ax[0,0].scatter(X_train_PCA[y==0,0], X_train_PCA[y==0,1], label='0')\n",
    "ax[0,0].legend()\n",
    "ax[0,0].set_title('original')\n",
    "ax[0,1].scatter(X_test_PCA[0], X_test_PCA[1], label='?')\n",
    "ax[0,1].legend()\n",
    "ax[0,1].set_title('test PCA')\n",
    "ax[1,0].scatter(X_train_PCA_norm[y==1,0], X_train_PCA_norm[y==1,1], label='1')\n",
    "ax[1,0].scatter(X_train_PCA_norm[y==0,0], X_train_PCA_norm[y==0,1], label='0')\n",
    "ax[1,0].legend()\n",
    "ax[1,0].set_title('normPCA')\n",
    "ax[1,1].scatter(X_train_PCA_norm_enc[y==1,0], X_train_PCA_norm_enc[y==1,1], label='1')\n",
    "ax[1,1].scatter(X_train_PCA_norm_enc[y==0,0], X_train_PCA_norm_enc[y==0,1], label='0')\n",
    "ax[1,1].legend()\n",
    "ax[1,1].set_title('normencPCA')\n",
    "ax[2,0].scatter(X_train_PCA_manual[y==1,0], X_train_PCA_manual[y==1,1], label='1')\n",
    "ax[2,0].scatter(X_train_PCA_manual[y==0,0], X_train_PCA_manual[y==0,1], label='0')\n",
    "ax[2,0].legend()\n",
    "ax[2,0].set_title('PCA manual')\n",
    "ax[2,1].scatter(X_train_PCA_manual_enc[y==1,0], X_train_PCA_manual_enc[y==1,1], label='1')\n",
    "ax[2,1].scatter(X_train_PCA_manual_enc[y==0,0], X_train_PCA_manual_enc[y==0,1], label='0')\n",
    "ax[2,1].legend()\n",
    "ax[2,1].set_title('PCA manual enc')\n",
    "# ax[2,1].scatter(X_train_PCA_notrust[y==1,0], X_train_PCA_notrust[y==1,1], label='1')\n",
    "# ax[2,1].scatter(X_train_PCA_notrust[y==0,0], X_train_PCA_notrust[y==0,1], label='0')\n",
    "# ax[2,1].legend()\n",
    "# ax[2,1].set_title('PCA no trust')\n",
    "ax[3,0].scatter(X_train_PCA_trust12[y_trust12==1,0], X_train_PCA_trust12[y_trust12==1,1], label='1')\n",
    "ax[3,0].scatter(X_train_PCA_trust12[y_trust12==0,0], X_train_PCA_trust12[y_trust12==0,1], label='0')\n",
    "ax[3,0].legend()\n",
    "ax[3,0].set_title('PCA trust12')"
   ]
  },
  {
   "cell_type": "code",
   "execution_count": 38,
   "metadata": {},
   "outputs": [
    {
     "name": "stdout",
     "output_type": "stream",
     "text": [
      "RBF SVM: test core = 225 \n",
      "Logistic Regression: test core = 205 \n",
      "Neural Net: test core = 190 \n",
      "Random Forest: test core = 75 \n",
      "AdaBoost: test core = 105 \n",
      "XGBoost: test core = 115 \n"
     ]
    }
   ],
   "source": [
    "code_for_test(X_train_PCA_manual_enc, y)"
   ]
  },
  {
   "cell_type": "markdown",
   "metadata": {},
   "source": [
    "## Define xgboost with cost sensitive\n",
    "1. better than original sgboost but worse than other algorithm \n",
    "2. best score 170"
   ]
  },
  {
   "cell_type": "code",
   "execution_count": 68,
   "metadata": {},
   "outputs": [],
   "source": [
    "#!/usr/bin/python\n",
    "import numpy as np\n",
    "import xgboost as xgb\n",
    "from sklearn.model_selection import train_test_split\n",
    "from sklearn.metrics import mean_squared_error\n",
    "\n",
    "def logistic_obj(y_hat, dtrain, alpha=5, beta=25): # alpha for FN beta for FP\n",
    "    y = dtrain.get_label()\n",
    "    pred = 1. / (1. + np.exp(-y_hat))\n",
    "    grad = pred * (beta + alpha*y - beta*y) - alpha*y  # alpha*(p-1)*y + beta*p*(1-y)\n",
    "    hess = pred * (1 - pred) * (beta + alpha*y - beta*y)\n",
    "    return grad, hess\n",
    "\n",
    "def err_rate(pred, dtrain):\n",
    "    y = dtrain.get_label()\n",
    "    pred = 1. / (1. + np.exp(-pred))\n",
    "    loss_fn = y*np.log(pred)\n",
    "    loss_fp = (1.0 - y)*np.log(1.0 - pred)\n",
    "    return 'error', np.sum(-(5*loss_fn+25*loss_fp))/len(y)\n",
    "\n",
    "\n"
   ]
  },
  {
   "cell_type": "code",
   "execution_count": 69,
   "metadata": {},
   "outputs": [],
   "source": [
    "def cross_validate(X_train, X_test, y_train, y_test, depth, num_round):\n",
    "    # load data\n",
    "    d_train = xgb.DMatrix(X_train, label=y_train)\n",
    "    d_val = xgb.DMatrix(X_test, label=y_test)\n",
    "    # build model\n",
    "    param = {'max_depth': depth, 'eta': 0.2, 'silent': 1, 'seed': 42, 'scale_pos_weight':1}\n",
    "#     watchlist = [(d_val, 'eval'), (d_train, 'train')]\n",
    "#     model_trn = xgb.train(param, d_train, num_round, watchlist, obj=logistic_obj, feval=err_rate)\n",
    "    model_trn = xgb.train(param, d_train, num_round, obj=logistic_obj, feval=err_rate)\n",
    "    # prediction\n",
    "    pred = model_trn.predict(d_val) \n",
    "    pred = 1. / (1. + np.exp(-pred))\n",
    "    return pred"
   ]
  },
  {
   "cell_type": "code",
   "execution_count": 70,
   "metadata": {
    "scrolled": true
   },
   "outputs": [],
   "source": [
    "def cv_cost(X,y, depth, rounds):\n",
    "    cv = StratifiedKFold(n_splits=10, random_state=42)\n",
    "    cost=0\n",
    "    if type(X) == pd.DataFrame:\n",
    "        X=X.values\n",
    "    for train_index, test_index in cv.split(X, y):\n",
    "        X_train, X_test = X[train_index], X[test_index]\n",
    "        y_train, y_test = y[train_index], y[test_index]\n",
    "        pred = cross_validate(X_train, X_test, y_train, y_test, depth, rounds)\n",
    "#         print(f' confusion matrix: cost({profit_scorer(y_test, pred>0.5)})\\n {confusion_matrix(y_test, pred>0.5)}')\n",
    "        cost += profit_scorer(y_test, pred>0.5)\n",
    "\n",
    "    print(f'cost = {cost}')"
   ]
  },
  {
   "cell_type": "code",
   "execution_count": 10,
   "metadata": {},
   "outputs": [
    {
     "name": "stderr",
     "output_type": "stream",
     "text": [
      "/usr/local/lib/python3.7/site-packages/xgboost/core.py:587: FutureWarning: Series.base is deprecated and will be removed in a future version\n",
      "  if getattr(data, 'base', None) is not None and \\\n"
     ]
    },
    {
     "name": "stdout",
     "output_type": "stream",
     "text": [
      "cost = 70\n"
     ]
    }
   ],
   "source": [
    "cv_cost(X_train_norm_enc, y, 3 ,100)"
   ]
  },
  {
   "cell_type": "code",
   "execution_count": 91,
   "metadata": {},
   "outputs": [
    {
     "name": "stderr",
     "output_type": "stream",
     "text": [
      "/usr/local/lib/python3.7/site-packages/xgboost/core.py:587: FutureWarning: Series.base is deprecated and will be removed in a future version\n",
      "  if getattr(data, 'base', None) is not None and \\\n"
     ]
    },
    {
     "name": "stdout",
     "output_type": "stream",
     "text": [
      "cost = 170\n"
     ]
    }
   ],
   "source": [
    "cv_cost(X_train_PCA_manual, y, 3, 90)"
   ]
  },
  {
   "cell_type": "code",
   "execution_count": 17,
   "metadata": {},
   "outputs": [
    {
     "name": "stderr",
     "output_type": "stream",
     "text": [
      "/usr/local/lib/python3.7/site-packages/xgboost/core.py:587: FutureWarning: Series.base is deprecated and will be removed in a future version\n",
      "  if getattr(data, 'base', None) is not None and \\\n"
     ]
    },
    {
     "name": "stdout",
     "output_type": "stream",
     "text": [
      "cost = 160\n"
     ]
    }
   ],
   "source": [
    "cv_cost(X_train_PCA, y, 3, 100)"
   ]
  },
  {
   "cell_type": "code",
   "execution_count": null,
   "metadata": {},
   "outputs": [],
   "source": []
  },
  {
   "cell_type": "code",
   "execution_count": null,
   "metadata": {},
   "outputs": [],
   "source": []
  }
 ],
 "metadata": {
  "kernelspec": {
   "display_name": "Python 3",
   "language": "python",
   "name": "python3"
  },
  "language_info": {
   "codemirror_mode": {
    "name": "ipython",
    "version": 3
   },
   "file_extension": ".py",
   "mimetype": "text/x-python",
   "name": "python",
   "nbconvert_exporter": "python",
   "pygments_lexer": "ipython3",
   "version": "3.7.0"
  }
 },
 "nbformat": 4,
 "nbformat_minor": 2
}
