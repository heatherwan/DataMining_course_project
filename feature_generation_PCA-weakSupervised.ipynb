{
 "cells": [
  {
   "cell_type": "markdown",
   "metadata": {},
   "source": [
    "## Different perspective\n",
    "1. PCA\n",
    "2. manual\n",
    "   - encode trustLevel\n",
    "   - delete 'valuePerSecond', 'scannedLineItemsPerSecond', 'lineItemVoidsPerPosition'\n",
    "   - generate no. item = totalScanTimeInSeconds * scannedLineItemsPerSecond\n",
    "3. automatic generation"
   ]
  },
  {
   "cell_type": "markdown",
   "metadata": {},
   "source": [
    "## Code for test\n",
    "prepare different input dataset and test at 10-fold stratified cross validation set\n",
    "1. train_data (raw data)\n",
    "2. X_train_norm_enc data (normalized and encode)\n",
    "3. X_train_manual (manual)\n",
    "4. X_train_PCA (PCA)"
   ]
  },
  {
   "cell_type": "code",
   "execution_count": 1,
   "metadata": {},
   "outputs": [],
   "source": [
    "import pandas as pd\n",
    "import numpy as np\n",
    "from sklearn.preprocessing import MinMaxScaler\n",
    "import matplotlib.pyplot as plt\n",
    "%matplotlib inline\n",
    "from classifiers import *\n",
    "from sklearn.metrics import confusion_matrix\n",
    "import pandas as pd\n",
    "import numpy as np\n",
    "from sklearn.preprocessing import StandardScaler\n",
    "from sklearn.model_selection import train_test_split\n",
    "from sklearn.metrics import mean_squared_error\n",
    "from sklearn.semi_supervised import LabelPropagation, LabelSpreading\n",
    "from pomegranate import *\n",
    "\n",
    "%matplotlib inline"
   ]
  },
  {
   "cell_type": "markdown",
   "metadata": {},
   "source": [
    "## Original\n"
   ]
  },
  {
   "cell_type": "code",
   "execution_count": 23,
   "metadata": {},
   "outputs": [
    {
     "name": "stdout",
     "output_type": "stream",
     "text": [
      "Train set has 1879 entries and 10 features\n",
      "Test set has 498121 entries and 9 features\n",
      "(1879, 14)\n"
     ]
    },
    {
     "name": "stderr",
     "output_type": "stream",
     "text": [
      "/Users/danihoff/anaconda3/lib/python3.6/site-packages/sklearn/preprocessing/data.py:323: DataConversionWarning: Data with input dtype uint8, float64 were all converted to float64 by MinMaxScaler.\n",
      "  return self.partial_fit(X, y)\n"
     ]
    }
   ],
   "source": [
    "train_data = pd.read_csv('data/train.csv', sep = '|')\n",
    "test_data = pd.read_csv('data/test.csv', sep = '|')\n",
    "print(f'Train set has {train_data.shape[0]} entries and {train_data.shape[1]} features')\n",
    "print(f'Test set has {test_data.shape[0]} entries and {test_data.shape[1]} features')\n",
    "\n",
    "y = train_data['fraud']\n",
    "X = train_data.drop(columns=['fraud']).astype(float)\n",
    "fit_minmax = MinMaxScaler()\n",
    "X_encode = pd.get_dummies(X, columns=['trustLevel'], prefix='trustLevel')\n",
    "X_train_norm_enc = pd.DataFrame(fit_minmax.fit_transform(X_encode), columns=X_encode.columns, index=X_encode.index)\n",
    "print(X_train_norm_enc.shape)\n",
    "X_test_encode = pd.get_dummies(test_data, columns=['trustLevel'], prefix='trustLevel')\n",
    "X_test_norm_enc = pd.DataFrame(fit_minmax.transform(X_test_encode), columns=X_test_encode.columns, index=X_test_encode.index)\n"
   ]
  },
  {
   "cell_type": "markdown",
   "metadata": {},
   "source": [
    "## Manual\n"
   ]
  },
  {
   "cell_type": "code",
   "execution_count": 24,
   "metadata": {
    "scrolled": false
   },
   "outputs": [
    {
     "name": "stdout",
     "output_type": "stream",
     "text": [
      "(1879, 12)\n",
      "(498121, 12)\n"
     ]
    },
    {
     "name": "stderr",
     "output_type": "stream",
     "text": [
      "/Users/danihoff/anaconda3/lib/python3.6/site-packages/sklearn/preprocessing/data.py:323: DataConversionWarning: Data with input dtype uint8, float64 were all converted to float64 by MinMaxScaler.\n",
      "  return self.partial_fit(X, y)\n"
     ]
    }
   ],
   "source": [
    "## delete correlate features\n",
    "X_manual = X.assign(no_item = X.totalScanTimeInSeconds* X.scannedLineItemsPerSecond)\\\n",
    "                     .drop(columns=['valuePerSecond', 'scannedLineItemsPerSecond', 'lineItemVoidsPerPosition'])\n",
    "fit_minmax = MinMaxScaler()\n",
    "X_manual_encode = pd.get_dummies(X_manual, columns=['trustLevel'], prefix='trustLevel')\n",
    "X_train_manual = pd.DataFrame(fit_minmax.fit_transform(X_manual_encode), columns=X_manual_encode.columns, index=X_manual_encode.index)\n",
    "print(X_train_manual.shape)\n",
    "\n",
    "X_test = test_data.assign(no_item = test_data.totalScanTimeInSeconds* test_data.scannedLineItemsPerSecond)\\\n",
    "                     .drop(columns=['valuePerSecond', 'scannedLineItemsPerSecond', 'lineItemVoidsPerPosition'])\n",
    "X_test_encode = pd.get_dummies(X_test, columns=['trustLevel'], prefix='trustLevel')\n",
    "X_test_manual = pd.DataFrame(fit_minmax.transform(X_test_encode), columns=X_test_encode.columns, index=X_test_encode.index)\n",
    "X_train_manual.columns = ['totalScanTimeInSeconds' , 'grandTotal', 'lineItemVoids',\n",
    "                        'scansWithoutRegistration', 'quantityModifications', 'no_item' ,\n",
    "                        'trustLevel_1', 'trustLevel_2' , 'trustLevel_3', \n",
    "                        'trustLevel_4', 'trustLevel_5', 'trustLevel_6'\n",
    "                         ]\n",
    "print(X_test_manual.shape)\n"
   ]
  },
  {
   "cell_type": "markdown",
   "metadata": {},
   "source": [
    "### Weak Supervised Learning - Adding the test set to the train set "
   ]
  },
  {
   "cell_type": "code",
   "execution_count": 4,
   "metadata": {},
   "outputs": [],
   "source": [
    "X_train, X_test, y_train, y_test = train_test_split(X_train_manual, y, test_size=0.05)\n",
    "\n",
    "train_df = pd.DataFrame(X_train)\n",
    "train_df = train_df.append(X_test_manual)\n",
    "train_df['fraud'] = y_train\n",
    "\n",
    "#Ys in the lengt of X_test_manuel have to be added so that the shape is similiar\n",
    "y_na = pd.DataFrame(np.ones((X_test_manual.shape[0], 1)))\n",
    "y_na = np.negative(y_na)\n",
    "train_df['fraud'].append(y_na)\n",
    "\n",
    "\n",
    "\n",
    "y_adj_train = train_df['fraud']\n",
    "y_adj_train = y_adj_train.fillna(-1)\n",
    "X_adj_train = train_df.drop(['fraud'], axis = 1)\n",
    "\n"
   ]
  },
  {
   "cell_type": "code",
   "execution_count": 5,
   "metadata": {},
   "outputs": [],
   "source": [
    "#Running the classifier\n",
    "def profit_scorer(y, y_pred):\n",
    "#     print(confusion_matrix(y, y_pred))\n",
    "    profit_matrix = {(0,0): 0, (0,1): -5, (1,0): -25, (1,1): 5}\n",
    "    return sum(profit_matrix[(pred, actual)] for pred, actual in zip(y_pred, y))\n",
    "\n",
    "def evaluate_classification(X, y, classifier):\n",
    "    cv = StratifiedKFold(n_splits=10, random_state=42)\n",
    "    profit_scoring = make_scorer(profit_scorer, greater_is_better=True)\n",
    "    \n",
    "    for name, clf in classifier.items():\n",
    "#         print(cross_validate(clf, X, y=y, cv=cv, scoring=profit_scoring)['test_score'])\n",
    "        result = sum(cross_validate(clf, X, y=y, cv=cv, scoring=profit_scoring)['test_score'])\n",
    "        print(f\"{name}: test core = {result} \")\n",
    "        \n",
    "\n"
   ]
  },
  {
   "cell_type": "code",
   "execution_count": 30,
   "metadata": {},
   "outputs": [],
   "source": [
    "classifier = {\n",
    "    'LabelPropagation': LabelPropagation(alpha=None, gamma=10, kernel='rbf', max_iter=1000,\n",
    "         n_jobs=None, n_neighbors=7, tol=0.001),\n",
    "    'LabelSpreading': LabelSpreading(alpha=0.2, gamma=10, kernel='rbf', max_iter=30, n_jobs=None,\n",
    "        n_neighbors=7, tol=0.001)\n",
    "}"
   ]
  },
  {
   "cell_type": "code",
   "execution_count": 19,
   "metadata": {},
   "outputs": [
    {
     "data": {
      "text/plain": [
       "LabelSpreading(alpha=0.2, gamma=10, kernel='rbf', max_iter=30, n_jobs=None,\n",
       "        n_neighbors=7, tol=0.001)"
      ]
     },
     "execution_count": 19,
     "metadata": {},
     "output_type": "execute_result"
    }
   ],
   "source": [
    "model = LabelSpreading(gamma=10)\n",
    "model.fit(X_adj_train[:20000], y_adj_train[:20000])"
   ]
  },
  {
   "cell_type": "code",
   "execution_count": 20,
   "metadata": {},
   "outputs": [
    {
     "data": {
      "text/plain": [
       "-20"
      ]
     },
     "execution_count": 20,
     "metadata": {},
     "output_type": "execute_result"
    }
   ],
   "source": [
    "y_pred = model.predict(X_test)\n",
    "profit_scorer(y, y_pred)"
   ]
  },
  {
   "cell_type": "code",
   "execution_count": 31,
   "metadata": {},
   "outputs": [
    {
     "name": "stdout",
     "output_type": "stream",
     "text": [
      "LabelPropagation: test core = 5 \n",
      "LabelSpreading: test core = -45 \n"
     ]
    }
   ],
   "source": [
    "evaluate_classification(X_train_manual, y, classifier)"
   ]
  },
  {
   "cell_type": "code",
   "execution_count": 29,
   "metadata": {},
   "outputs": [
    {
     "name": "stdout",
     "output_type": "stream",
     "text": [
      "Fitting 10 folds for each of 5 candidates, totalling 50 fits\n",
      "[CV] gamma=1, kernel=rbf .............................................\n",
      "[CV] ................... gamma=1, kernel=rbf, score=-55, total=   0.1s\n",
      "[CV] gamma=1, kernel=rbf .............................................\n"
     ]
    },
    {
     "name": "stderr",
     "output_type": "stream",
     "text": [
      "[Parallel(n_jobs=1)]: Using backend SequentialBackend with 1 concurrent workers.\n",
      "[Parallel(n_jobs=1)]: Done   1 out of   1 | elapsed:    0.2s remaining:    0.0s\n"
     ]
    },
    {
     "name": "stdout",
     "output_type": "stream",
     "text": [
      "[CV] ................... gamma=1, kernel=rbf, score=-55, total=   0.1s\n",
      "[CV] gamma=1, kernel=rbf .............................................\n",
      "[CV] ................... gamma=1, kernel=rbf, score=-55, total=   0.1s\n",
      "[CV] gamma=1, kernel=rbf .............................................\n"
     ]
    },
    {
     "name": "stderr",
     "output_type": "stream",
     "text": [
      "[Parallel(n_jobs=1)]: Done   2 out of   2 | elapsed:    0.4s remaining:    0.0s\n",
      "[Parallel(n_jobs=1)]: Done   3 out of   3 | elapsed:    0.5s remaining:    0.0s\n"
     ]
    },
    {
     "name": "stdout",
     "output_type": "stream",
     "text": [
      "[CV] ................... gamma=1, kernel=rbf, score=-55, total=   0.1s\n",
      "[CV] gamma=1, kernel=rbf .............................................\n",
      "[CV] ................... gamma=1, kernel=rbf, score=-50, total=   0.1s\n",
      "[CV] gamma=1, kernel=rbf .............................................\n"
     ]
    },
    {
     "name": "stderr",
     "output_type": "stream",
     "text": [
      "[Parallel(n_jobs=1)]: Done   4 out of   4 | elapsed:    0.7s remaining:    0.0s\n",
      "[Parallel(n_jobs=1)]: Done   5 out of   5 | elapsed:    0.9s remaining:    0.0s\n"
     ]
    },
    {
     "name": "stdout",
     "output_type": "stream",
     "text": [
      "[CV] ................... gamma=1, kernel=rbf, score=-50, total=   0.1s\n",
      "[CV] gamma=1, kernel=rbf .............................................\n",
      "[CV] ................... gamma=1, kernel=rbf, score=-50, total=   0.1s\n",
      "[CV] gamma=1, kernel=rbf .............................................\n"
     ]
    },
    {
     "name": "stderr",
     "output_type": "stream",
     "text": [
      "[Parallel(n_jobs=1)]: Done   6 out of   6 | elapsed:    1.1s remaining:    0.0s\n",
      "[Parallel(n_jobs=1)]: Done   7 out of   7 | elapsed:    1.2s remaining:    0.0s\n"
     ]
    },
    {
     "name": "stdout",
     "output_type": "stream",
     "text": [
      "[CV] ................... gamma=1, kernel=rbf, score=-50, total=   0.1s\n",
      "[CV] gamma=1, kernel=rbf .............................................\n",
      "[CV] ................... gamma=1, kernel=rbf, score=-50, total=   0.1s\n",
      "[CV] gamma=1, kernel=rbf .............................................\n"
     ]
    },
    {
     "name": "stderr",
     "output_type": "stream",
     "text": [
      "[Parallel(n_jobs=1)]: Done   8 out of   8 | elapsed:    1.4s remaining:    0.0s\n",
      "[Parallel(n_jobs=1)]: Done   9 out of   9 | elapsed:    1.6s remaining:    0.0s\n"
     ]
    },
    {
     "name": "stdout",
     "output_type": "stream",
     "text": [
      "[CV] ................... gamma=1, kernel=rbf, score=-50, total=   0.1s\n",
      "[CV] gamma=5, kernel=rbf .............................................\n",
      "[CV] ................... gamma=5, kernel=rbf, score=-35, total=   0.1s\n",
      "[CV] gamma=5, kernel=rbf .............................................\n",
      "[CV] .................... gamma=5, kernel=rbf, score=15, total=   0.1s\n",
      "[CV] gamma=5, kernel=rbf .............................................\n",
      "[CV] .................... gamma=5, kernel=rbf, score=-5, total=   0.1s\n",
      "[CV] gamma=5, kernel=rbf .............................................\n",
      "[CV] ................... gamma=5, kernel=rbf, score=-25, total=   0.1s\n",
      "[CV] gamma=5, kernel=rbf .............................................\n",
      "[CV] ................... gamma=5, kernel=rbf, score=-10, total=   0.1s\n",
      "[CV] gamma=5, kernel=rbf .............................................\n",
      "[CV] ................... gamma=5, kernel=rbf, score=-20, total=   0.1s\n",
      "[CV] gamma=5, kernel=rbf .............................................\n",
      "[CV] ................... gamma=5, kernel=rbf, score=-10, total=   0.1s\n",
      "[CV] gamma=5, kernel=rbf .............................................\n",
      "[CV] ................... gamma=5, kernel=rbf, score=-10, total=   0.1s\n",
      "[CV] gamma=5, kernel=rbf .............................................\n",
      "[CV] ................... gamma=5, kernel=rbf, score=-30, total=   0.1s\n",
      "[CV] gamma=5, kernel=rbf .............................................\n",
      "[CV] ................... gamma=5, kernel=rbf, score=-50, total=   0.1s\n",
      "[CV] gamma=10, kernel=rbf ............................................\n",
      "[CV] ................... gamma=10, kernel=rbf, score=-5, total=   0.1s\n",
      "[CV] gamma=10, kernel=rbf ............................................\n",
      "[CV] .................... gamma=10, kernel=rbf, score=0, total=   0.1s\n",
      "[CV] gamma=10, kernel=rbf ............................................\n",
      "[CV] .................... gamma=10, kernel=rbf, score=0, total=   0.1s\n",
      "[CV] gamma=10, kernel=rbf ............................................\n",
      "[CV] .................... gamma=10, kernel=rbf, score=5, total=   0.1s\n",
      "[CV] gamma=10, kernel=rbf ............................................\n",
      "[CV] ................... gamma=10, kernel=rbf, score=-5, total=   0.1s\n",
      "[CV] gamma=10, kernel=rbf ............................................\n",
      "[CV] .................. gamma=10, kernel=rbf, score=-10, total=   0.1s\n",
      "[CV] gamma=10, kernel=rbf ............................................\n",
      "[CV] ................... gamma=10, kernel=rbf, score=10, total=   0.1s\n",
      "[CV] gamma=10, kernel=rbf ............................................\n",
      "[CV] ................... gamma=10, kernel=rbf, score=30, total=   0.1s\n",
      "[CV] gamma=10, kernel=rbf ............................................\n",
      "[CV] .................. gamma=10, kernel=rbf, score=-35, total=   0.1s\n",
      "[CV] gamma=10, kernel=rbf ............................................\n",
      "[CV] .................. gamma=10, kernel=rbf, score=-35, total=   0.1s\n",
      "[CV] gamma=20, kernel=rbf ............................................\n",
      "[CV] .................. gamma=20, kernel=rbf, score=-35, total=   0.1s\n",
      "[CV] gamma=20, kernel=rbf ............................................\n",
      "[CV] .................. gamma=20, kernel=rbf, score=-15, total=   0.1s\n",
      "[CV] gamma=20, kernel=rbf ............................................\n",
      "[CV] ................... gamma=20, kernel=rbf, score=10, total=   0.1s\n",
      "[CV] gamma=20, kernel=rbf ............................................\n",
      "[CV] .................. gamma=20, kernel=rbf, score=-20, total=   0.1s\n",
      "[CV] gamma=20, kernel=rbf ............................................\n",
      "[CV] .................. gamma=20, kernel=rbf, score=-45, total=   0.1s\n",
      "[CV] gamma=20, kernel=rbf ............................................\n",
      "[CV] .................. gamma=20, kernel=rbf, score=-40, total=   0.1s\n",
      "[CV] gamma=20, kernel=rbf ............................................\n",
      "[CV] .................... gamma=20, kernel=rbf, score=5, total=   0.1s\n",
      "[CV] gamma=20, kernel=rbf ............................................\n",
      "[CV] ................... gamma=20, kernel=rbf, score=20, total=   0.1s\n",
      "[CV] gamma=20, kernel=rbf ............................................\n",
      "[CV] .................. gamma=20, kernel=rbf, score=-95, total=   0.1s\n",
      "[CV] gamma=20, kernel=rbf ............................................\n",
      "[CV] .................. gamma=20, kernel=rbf, score=-25, total=   0.1s\n",
      "[CV] gamma=30, kernel=rbf ............................................\n",
      "[CV] .................. gamma=30, kernel=rbf, score=-35, total=   0.1s\n",
      "[CV] gamma=30, kernel=rbf ............................................\n",
      "[CV] .................. gamma=30, kernel=rbf, score=-15, total=   0.1s\n",
      "[CV] gamma=30, kernel=rbf ............................................\n",
      "[CV] .................. gamma=30, kernel=rbf, score=-15, total=   0.1s\n",
      "[CV] gamma=30, kernel=rbf ............................................\n",
      "[CV] .................. gamma=30, kernel=rbf, score=-10, total=   0.1s\n",
      "[CV] gamma=30, kernel=rbf ............................................\n",
      "[CV] .................. gamma=30, kernel=rbf, score=-35, total=   0.1s\n",
      "[CV] gamma=30, kernel=rbf ............................................\n",
      "[CV] .................. gamma=30, kernel=rbf, score=-75, total=   0.1s\n",
      "[CV] gamma=30, kernel=rbf ............................................\n",
      "[CV] .................. gamma=30, kernel=rbf, score=-20, total=   0.1s\n",
      "[CV] gamma=30, kernel=rbf ............................................\n",
      "[CV] ................... gamma=30, kernel=rbf, score=20, total=   0.1s\n",
      "[CV] gamma=30, kernel=rbf ............................................\n",
      "[CV] .................. gamma=30, kernel=rbf, score=-95, total=   0.1s\n",
      "[CV] gamma=30, kernel=rbf ............................................\n",
      "[CV] .................. gamma=30, kernel=rbf, score=-25, total=   0.1s\n"
     ]
    },
    {
     "name": "stderr",
     "output_type": "stream",
     "text": [
      "[Parallel(n_jobs=1)]: Done  50 out of  50 | elapsed:    8.7s finished\n",
      "/Users/danihoff/anaconda3/lib/python3.6/site-packages/sklearn/model_selection/_search.py:841: DeprecationWarning: The default of the `iid` parameter will change from True to False in version 0.22 and will be removed in 0.24. This will change numeric results when test-set sizes are unequal.\n",
      "  DeprecationWarning)\n"
     ]
    },
    {
     "data": {
      "text/plain": [
       "LabelSpreading(alpha=0.2, gamma=10, kernel='rbf', max_iter=30, n_jobs=None,\n",
       "        n_neighbors=7, tol=0.001)"
      ]
     },
     "execution_count": 29,
     "metadata": {},
     "output_type": "execute_result"
    }
   ],
   "source": [
    "from sklearn.model_selection import GridSearchCV\n",
    "\n",
    "parameters = {'kernel': ['rbf'], \n",
    "              'gamma':[1, 5, 10, 20, 30],\n",
    "             }\n",
    "profit_scoring = make_scorer(profit_scorer, greater_is_better=True)\n",
    "\n",
    "\n",
    "clf = GridSearchCV(LabelSpreading(), parameters, scoring = profit_scoring, verbose = 10, cv = 10)\n",
    "clf.fit(X_train_manual, y)\n",
    "clf.best_estimator_"
   ]
  },
  {
   "cell_type": "code",
   "execution_count": null,
   "metadata": {},
   "outputs": [],
   "source": []
  },
  {
   "cell_type": "code",
   "execution_count": null,
   "metadata": {},
   "outputs": [],
   "source": []
  }
 ],
 "metadata": {
  "kernelspec": {
   "display_name": "Python 3",
   "language": "python",
   "name": "python3"
  },
  "language_info": {
   "codemirror_mode": {
    "name": "ipython",
    "version": 3
   },
   "file_extension": ".py",
   "mimetype": "text/x-python",
   "name": "python",
   "nbconvert_exporter": "python",
   "pygments_lexer": "ipython3",
   "version": "3.6.4"
  },
  "varInspector": {
   "cols": {
    "lenName": 16,
    "lenType": 16,
    "lenVar": 40
   },
   "kernels_config": {
    "python": {
     "delete_cmd_postfix": "",
     "delete_cmd_prefix": "del ",
     "library": "var_list.py",
     "varRefreshCmd": "print(var_dic_list())"
    },
    "r": {
     "delete_cmd_postfix": ") ",
     "delete_cmd_prefix": "rm(",
     "library": "var_list.r",
     "varRefreshCmd": "cat(var_dic_list()) "
    }
   },
   "types_to_exclude": [
    "module",
    "function",
    "builtin_function_or_method",
    "instance",
    "_Feature"
   ],
   "window_display": false
  }
 },
 "nbformat": 4,
 "nbformat_minor": 2
}
