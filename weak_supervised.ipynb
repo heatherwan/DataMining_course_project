{
 "cells": [
  {
   "cell_type": "code",
   "execution_count": 14,
   "metadata": {},
   "outputs": [],
   "source": [
    "import pandas as pd\n",
    "import numpy as np\n",
    "from sklearn.preprocessing import StandardScaler\n",
    "from sklearn.model_selection import train_test_split\n",
    "from sklearn.metrics import mean_squared_error\n",
    "from sklearn.semi_supervised import LabelPropagation\n",
    "from pomegranate import NaiveBayes, NormalDistribution\n",
    "\n",
    "%matplotlib inline"
   ]
  },
  {
   "cell_type": "code",
   "execution_count": null,
   "metadata": {},
   "outputs": [],
   "source": [
    "n, d, m = 50000, 5, 10\n",
    "X, y = make_blobs(n, d, m, cluster_std=10)\n",
    "X_train, X_test, y_train, y_test = train_test_split(X, y, test_size=0.1)\n",
    "\n",
    "n_unlabeled = int(X_train.shape[0] * 0.999)\n",
    "idxs = numpy.random.choice(X_train.shape[0], size=n_unlabeled)\n",
    "y_train[idxs] = -1\n",
    "\n",
    "model = NaiveBayes.from_samples(NormalDistribution, X_train, y_train, verbose=True)"
   ]
  }
 ],
 "metadata": {
  "kernelspec": {
   "display_name": "Python 3",
   "language": "python",
   "name": "python3"
  },
  "language_info": {
   "codemirror_mode": {
    "name": "ipython",
    "version": 3
   },
   "file_extension": ".py",
   "mimetype": "text/x-python",
   "name": "python",
   "nbconvert_exporter": "python",
   "pygments_lexer": "ipython3",
   "version": "3.7.1"
  }
 },
 "nbformat": 4,
 "nbformat_minor": 2
}
